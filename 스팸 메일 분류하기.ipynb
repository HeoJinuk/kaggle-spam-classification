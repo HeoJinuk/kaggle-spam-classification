{
 "cells": [
  {
   "cell_type": "markdown",
   "id": "0e51aba2",
   "metadata": {},
   "source": [
    "# 스팸 메일 분류하기(Spam Detection)\n",
    "\n",
    "---\n",
    "캐글에서 제공하는 스팸 메일 데이터를 학습시켜 스팸 메일 분류기를 구현해보겠습니다."
   ]
  },
  {
   "cell_type": "markdown",
   "id": "9203a90c",
   "metadata": {},
   "source": [
    "# 1. 스팸 메일 데이터에 대한 이해\n",
    "\n",
    "다운로드 링크 : https://www.kaggle.com/uciml/sms-spam-collection-dataset"
   ]
  },
  {
   "cell_type": "code",
   "execution_count": 1,
   "id": "6f0be3a1",
   "metadata": {},
   "outputs": [],
   "source": [
    "import numpy as np\n",
    "import pandas as pd\n",
    "import matplotlib.pyplot as plt\n",
    "import urllib.request\n",
    "from sklearn.model_selection import train_test_split\n",
    "\n",
    "import torch\n",
    "from torchtext.data import get_tokenizer\n",
    "from torchtext.vocab import build_vocab_from_iterator"
   ]
  },
  {
   "cell_type": "markdown",
   "id": "27aab563",
   "metadata": {},
   "source": [
    "다운로드 받은 spam.csv 파일을 데이터프레임으로 로드하고 총 샘플의 수를 확인해봅시다."
   ]
  },
  {
   "cell_type": "code",
   "execution_count": 2,
   "id": "3f9c9800",
   "metadata": {},
   "outputs": [
    {
     "data": {
      "text/plain": [
       "('spam.csv', <http.client.HTTPMessage at 0x7f446533cee0>)"
      ]
     },
     "execution_count": 2,
     "metadata": {},
     "output_type": "execute_result"
    }
   ],
   "source": [
    "urllib.request.urlretrieve(\"https://raw.githubusercontent.com/mohitgupta-omg/Kaggle-SMS-Spam-Collection-Dataset-/master/spam.csv\",\n",
    "                           filename=\"spam.csv\")"
   ]
  },
  {
   "cell_type": "code",
   "execution_count": 3,
   "id": "a37b8f1d",
   "metadata": {},
   "outputs": [
    {
     "name": "stdout",
     "output_type": "stream",
     "text": [
      "총 샘플 수 :5572\n"
     ]
    }
   ],
   "source": [
    "data = pd.read_csv('spam.csv', encoding='latin1')\n",
    "print(f'총 샘플 수 :{len(data)}')"
   ]
  },
  {
   "cell_type": "markdown",
   "id": "22df1d86",
   "metadata": {},
   "source": [
    "총 5,572개의 샘플이 존재합니다. 상위 5개의 샘플만 출력해봅시다."
   ]
  },
  {
   "cell_type": "code",
   "execution_count": 4,
   "id": "90e1f9de",
   "metadata": {},
   "outputs": [
    {
     "data": {
      "text/html": [
       "<div>\n",
       "<style scoped>\n",
       "    .dataframe tbody tr th:only-of-type {\n",
       "        vertical-align: middle;\n",
       "    }\n",
       "\n",
       "    .dataframe tbody tr th {\n",
       "        vertical-align: top;\n",
       "    }\n",
       "\n",
       "    .dataframe thead th {\n",
       "        text-align: right;\n",
       "    }\n",
       "</style>\n",
       "<table border=\"1\" class=\"dataframe\">\n",
       "  <thead>\n",
       "    <tr style=\"text-align: right;\">\n",
       "      <th></th>\n",
       "      <th>v1</th>\n",
       "      <th>v2</th>\n",
       "      <th>Unnamed: 2</th>\n",
       "      <th>Unnamed: 3</th>\n",
       "      <th>Unnamed: 4</th>\n",
       "    </tr>\n",
       "  </thead>\n",
       "  <tbody>\n",
       "    <tr>\n",
       "      <th>0</th>\n",
       "      <td>ham</td>\n",
       "      <td>Go until jurong point, crazy.. Available only ...</td>\n",
       "      <td>NaN</td>\n",
       "      <td>NaN</td>\n",
       "      <td>NaN</td>\n",
       "    </tr>\n",
       "    <tr>\n",
       "      <th>1</th>\n",
       "      <td>ham</td>\n",
       "      <td>Ok lar... Joking wif u oni...</td>\n",
       "      <td>NaN</td>\n",
       "      <td>NaN</td>\n",
       "      <td>NaN</td>\n",
       "    </tr>\n",
       "    <tr>\n",
       "      <th>2</th>\n",
       "      <td>spam</td>\n",
       "      <td>Free entry in 2 a wkly comp to win FA Cup fina...</td>\n",
       "      <td>NaN</td>\n",
       "      <td>NaN</td>\n",
       "      <td>NaN</td>\n",
       "    </tr>\n",
       "    <tr>\n",
       "      <th>3</th>\n",
       "      <td>ham</td>\n",
       "      <td>U dun say so early hor... U c already then say...</td>\n",
       "      <td>NaN</td>\n",
       "      <td>NaN</td>\n",
       "      <td>NaN</td>\n",
       "    </tr>\n",
       "    <tr>\n",
       "      <th>4</th>\n",
       "      <td>ham</td>\n",
       "      <td>Nah I don't think he goes to usf, he lives aro...</td>\n",
       "      <td>NaN</td>\n",
       "      <td>NaN</td>\n",
       "      <td>NaN</td>\n",
       "    </tr>\n",
       "  </tbody>\n",
       "</table>\n",
       "</div>"
      ],
      "text/plain": [
       "     v1                                                 v2 Unnamed: 2  \\\n",
       "0   ham  Go until jurong point, crazy.. Available only ...        NaN   \n",
       "1   ham                      Ok lar... Joking wif u oni...        NaN   \n",
       "2  spam  Free entry in 2 a wkly comp to win FA Cup fina...        NaN   \n",
       "3   ham  U dun say so early hor... U c already then say...        NaN   \n",
       "4   ham  Nah I don't think he goes to usf, he lives aro...        NaN   \n",
       "\n",
       "  Unnamed: 3 Unnamed: 4  \n",
       "0        NaN        NaN  \n",
       "1        NaN        NaN  \n",
       "2        NaN        NaN  \n",
       "3        NaN        NaN  \n",
       "4        NaN        NaN  "
      ]
     },
     "execution_count": 4,
     "metadata": {},
     "output_type": "execute_result"
    }
   ],
   "source": [
    "data.head()"
   ]
  },
  {
   "cell_type": "markdown",
   "id": "b43d79f4",
   "metadata": {},
   "source": [
    "스팸 메일 데이터 중에서 5개의 행만 출력해보았습니다.   \n",
    "이 데이터에는 총 5개의 열이 있는데, 여기서 Unnamed라는 이름의 3개의 열은 텍스트 분류를 할 때 불필요한 열입니다.  \n",
    "\n",
    "v1열은 해당 메일이 스팸인지 아닌지를 나타내는 레이블에 해당되는 열입니다.  \n",
    "- ham은 정상 메일을 의미하고, spam은 스팸 메일을 의미합니다. \n",
    "\n",
    "v2열은 메일의 본문을 담고있습니다."
   ]
  },
  {
   "cell_type": "markdown",
   "id": "9ae0e823",
   "metadata": {},
   "source": [
    "레이블과 메일 내용이 담긴 v1열과 v2열만 필요하므로, Unnamed: 2, Unnamed: 3, Unnamed: 4 열은 삭제합니다.  \n",
    "또한, v1열에 있는 ham과 spam 레이블을 각각 숫자 0과 1로 바꾸겠습니다.  \n",
    "다시 data에서 5개의 행만 출력해보겠습니다."
   ]
  },
  {
   "cell_type": "code",
   "execution_count": 5,
   "id": "c6cadd04",
   "metadata": {},
   "outputs": [
    {
     "data": {
      "text/html": [
       "<div>\n",
       "<style scoped>\n",
       "    .dataframe tbody tr th:only-of-type {\n",
       "        vertical-align: middle;\n",
       "    }\n",
       "\n",
       "    .dataframe tbody tr th {\n",
       "        vertical-align: top;\n",
       "    }\n",
       "\n",
       "    .dataframe thead th {\n",
       "        text-align: right;\n",
       "    }\n",
       "</style>\n",
       "<table border=\"1\" class=\"dataframe\">\n",
       "  <thead>\n",
       "    <tr style=\"text-align: right;\">\n",
       "      <th></th>\n",
       "      <th>v1</th>\n",
       "      <th>v2</th>\n",
       "    </tr>\n",
       "  </thead>\n",
       "  <tbody>\n",
       "    <tr>\n",
       "      <th>0</th>\n",
       "      <td>0</td>\n",
       "      <td>Go until jurong point, crazy.. Available only ...</td>\n",
       "    </tr>\n",
       "    <tr>\n",
       "      <th>1</th>\n",
       "      <td>0</td>\n",
       "      <td>Ok lar... Joking wif u oni...</td>\n",
       "    </tr>\n",
       "    <tr>\n",
       "      <th>2</th>\n",
       "      <td>1</td>\n",
       "      <td>Free entry in 2 a wkly comp to win FA Cup fina...</td>\n",
       "    </tr>\n",
       "    <tr>\n",
       "      <th>3</th>\n",
       "      <td>0</td>\n",
       "      <td>U dun say so early hor... U c already then say...</td>\n",
       "    </tr>\n",
       "    <tr>\n",
       "      <th>4</th>\n",
       "      <td>0</td>\n",
       "      <td>Nah I don't think he goes to usf, he lives aro...</td>\n",
       "    </tr>\n",
       "  </tbody>\n",
       "</table>\n",
       "</div>"
      ],
      "text/plain": [
       "   v1                                                 v2\n",
       "0   0  Go until jurong point, crazy.. Available only ...\n",
       "1   0                      Ok lar... Joking wif u oni...\n",
       "2   1  Free entry in 2 a wkly comp to win FA Cup fina...\n",
       "3   0  U dun say so early hor... U c already then say...\n",
       "4   0  Nah I don't think he goes to usf, he lives aro..."
      ]
     },
     "execution_count": 5,
     "metadata": {},
     "output_type": "execute_result"
    }
   ],
   "source": [
    "data = data[['v1', 'v2']]\n",
    "data['v1'] = data['v1'].replace(['ham', 'spam'], [0, 1])\n",
    "data.head()"
   ]
  },
  {
   "cell_type": "markdown",
   "id": "22d4ce2c",
   "metadata": {},
   "source": [
    "불필요한 열이 제거되고 v1열의 값이 숫자로 변환된 것을 확인할 수 있습니다.  \n",
    "해당 데이터프레임의 정보를 확인해보겠습니다."
   ]
  },
  {
   "cell_type": "code",
   "execution_count": 6,
   "id": "90e1fcc5",
   "metadata": {},
   "outputs": [
    {
     "name": "stdout",
     "output_type": "stream",
     "text": [
      "<class 'pandas.core.frame.DataFrame'>\n",
      "RangeIndex: 5572 entries, 0 to 5571\n",
      "Data columns (total 2 columns):\n",
      " #   Column  Non-Null Count  Dtype \n",
      "---  ------  --------------  ----- \n",
      " 0   v1      5572 non-null   int64 \n",
      " 1   v2      5572 non-null   object\n",
      "dtypes: int64(1), object(1)\n",
      "memory usage: 87.2+ KB\n"
     ]
    }
   ],
   "source": [
    "data.info()"
   ]
  },
  {
   "cell_type": "markdown",
   "id": "a74e4552",
   "metadata": {},
   "source": [
    "v1열은 정수형, v2열은 문자열 데이터를 갖고 있습니다.  \n",
    "Null 값을 가진 샘플이 있는지 isnull().values.any()로 확인합니다."
   ]
  },
  {
   "cell_type": "code",
   "execution_count": 7,
   "id": "818cd84f",
   "metadata": {},
   "outputs": [
    {
     "name": "stdout",
     "output_type": "stream",
     "text": [
      "결손값 개수\n",
      "v1    0\n",
      "v2    0\n",
      "dtype: int64\n"
     ]
    }
   ],
   "source": [
    "print(f'결손값 개수\\n{data.isnull().sum()}')"
   ]
  },
  {
   "cell_type": "markdown",
   "id": "6e9c0ba0",
   "metadata": {},
   "source": [
    "별도의 Null 값은 없음을 의미합니다.  \n",
    "\n",
    "Null 값이 없다면 데이터에 중복이 있는지 확인해보겠습니다."
   ]
  },
  {
   "cell_type": "code",
   "execution_count": 8,
   "id": "81c3fb78",
   "metadata": {},
   "outputs": [
    {
     "name": "stdout",
     "output_type": "stream",
     "text": [
      "v2열의 유니크한 값 : 5169\n"
     ]
    }
   ],
   "source": [
    "print(f'v2열의 유니크한 값 : {data[\"v2\"].nunique()}')"
   ]
  },
  {
   "cell_type": "markdown",
   "id": "c43036f1",
   "metadata": {},
   "source": [
    "총 5,572개의 샘플이 존재하는데 v2열에서 중복을 제거한 샘플의 개수가 5,169개라는 것은 403개의 중복 샘플이 존재한다는 의미입니다.  \n",
    "\n",
    "중복 샘플을 제거하고 전체 샘플 수를 확인합니다."
   ]
  },
  {
   "cell_type": "code",
   "execution_count": 9,
   "id": "3477ccd2",
   "metadata": {},
   "outputs": [
    {
     "name": "stdout",
     "output_type": "stream",
     "text": [
      "총 샘플 수 :5169\n"
     ]
    }
   ],
   "source": [
    "data.drop_duplicates(subset=['v2'], inplace=True)\n",
    "print(f'총 샘플 수 :{len(data)}')"
   ]
  },
  {
   "cell_type": "markdown",
   "id": "ec6dc712",
   "metadata": {},
   "source": [
    "총 샘플의 수가 5,572개에서 5,169개로 줄었습니다.  \n",
    "\n",
    "레이블 값의 분포를 시각화합니다."
   ]
  },
  {
   "cell_type": "code",
   "execution_count": 10,
   "id": "1ab6ee97",
   "metadata": {},
   "outputs": [
    {
     "data": {
      "text/plain": [
       "<AxesSubplot:>"
      ]
     },
     "execution_count": 10,
     "metadata": {},
     "output_type": "execute_result"
    },
    {
     "data": {
      "image/png": "[encoded data removed]",
      "text/plain": [
       "<Figure size 432x288 with 1 Axes>"
      ]
     },
     "metadata": {
      "needs_background": "light"
     },
     "output_type": "display_data"
    }
   ],
   "source": [
    "data['v1'].value_counts().plot(kind='bar')"
   ]
  },
  {
   "cell_type": "markdown",
   "id": "a8726d57",
   "metadata": {},
   "source": [
    "레이블이 대부분 0에 편중되어있는데, 이는 스팸 메일 데이터의 대부분의 메일이 정상 메일임을 의미합니다.  \n",
    "정확한 수치를 파악해보겠습니다."
   ]
  },
  {
   "cell_type": "code",
   "execution_count": 11,
   "id": "9997b03f",
   "metadata": {},
   "outputs": [
    {
     "name": "stdout",
     "output_type": "stream",
     "text": [
      "정상 메일과 스팸 메일의 개수\n",
      "   v1  count\n",
      "0   0   4516\n",
      "1   1    653\n"
     ]
    }
   ],
   "source": [
    "print('정상 메일과 스팸 메일의 개수')\n",
    "print(data.groupby('v1').size().reset_index(name='count'))"
   ]
  },
  {
   "cell_type": "markdown",
   "id": "71b0df39",
   "metadata": {},
   "source": [
    "레이블 0은 총 4,516개가 존재하고 1은 653개가 존재합니다.  \n",
    "이를 %로 환산합니다."
   ]
  },
  {
   "cell_type": "code",
   "execution_count": 12,
   "id": "5ffbbba1",
   "metadata": {},
   "outputs": [
    {
     "name": "stdout",
     "output_type": "stream",
     "text": [
      "정상 메일의 비율 = 87.367%\n",
      "스팸 메일의 비율 = 12.633%\n"
     ]
    }
   ],
   "source": [
    "vc = data[\"v1\"].value_counts()\n",
    "print(f'정상 메일의 비율 = {round(vc[0]/len(data) * 100, 3)}%')\n",
    "print(f'스팸 메일의 비율 = {round(vc[1]/len(data) * 100, 3)}%')"
   ]
  },
  {
   "cell_type": "markdown",
   "id": "a8d5d395",
   "metadata": {},
   "source": [
    "v2열과 v1열을 X_data, y_data로 저장합니다."
   ]
  },
  {
   "cell_type": "code",
   "execution_count": 13,
   "id": "2450577b",
   "metadata": {},
   "outputs": [
    {
     "name": "stdout",
     "output_type": "stream",
     "text": [
      "메일의 개수: 5169\n",
      "라벨의 개수: 5169\n"
     ]
    }
   ],
   "source": [
    "X_data = data['v2']\n",
    "y_data = data['v1']\n",
    "print('메일의 개수: {}'.format(len(X_data)))\n",
    "print('라벨의 개수: {}'.format(len(y_data)))"
   ]
  },
  {
   "cell_type": "markdown",
   "id": "6c9e2f4b",
   "metadata": {},
   "source": [
    "훈련 데이터와 테스트 데이터를 분리합니다. \n",
    "- 주의할 점은 현재 레이블이 굉장히 불균형합니다. \n",
    "- 다시 말해 정상 메일 샘플(87%, 4516개)에 비해서 스팸 메일 샘플(12%, 653개)이 굉장히 적습니다. \n",
    "- 만약, 훈련 데이터와 테스트 데이터를 분리하는 과정에서 우연히 대부분의 스팸 메일 샘플이 테스트 데이터에 포함되고 훈련 데이터에는 대부분 정상 메일 샘플만 포함되게 된다면 어떻게 될까요? \n",
    "  - 학습 과정에서 모델은 스팸 메일 샘플을 거의 관측하지 못해서 모델의 성능이 저하될 것입니다.\n",
    "\n",
    "\n",
    "이렇게 레이블이 불균형한 경우에는 데이터를 나눌 때에도 훈련 데이터와 테스트 데이터에 각 레이블의 분포가 고르게 분포되도록 하는 것이 중요할 수 있습니다. \n",
    "- 사이킷 런의 train_test_split에 stratify의 인자로서 레이블 데이터를 기재하면 훈련 데이터와 테스트 데이터를 분리할 때 레이블의 분포가 고르게 분포하도록 합니다. \n",
    "- test_size에 0.2를 기재하여 훈련 데이터와 테스트 데이터를 8:2 비율로 분리합니다."
   ]
  },
  {
   "cell_type": "code",
   "execution_count": 14,
   "id": "1b31c661",
   "metadata": {},
   "outputs": [],
   "source": [
    "X_train, X_test, y_train, y_test = train_test_split(X_data, y_data, test_size=0.2, random_state=0, stratify=y_data)"
   ]
  },
  {
   "cell_type": "markdown",
   "id": "a0e02ca3",
   "metadata": {},
   "source": [
    "훈련 데이터와 테스트 데이터가 분리되었습니다.  \n",
    "레이블이 고르게 분포되었는지 확인합니다."
   ]
  },
  {
   "cell_type": "code",
   "execution_count": 15,
   "id": "d621ea29",
   "metadata": {},
   "outputs": [
    {
     "name": "stdout",
     "output_type": "stream",
     "text": [
      "--------훈련 데이터의 비율-----------\n",
      "정상 메일의 비율 = 87.376%\n",
      "스팸 메일의 비율 = 12.624%\n"
     ]
    }
   ],
   "source": [
    "ytrain_vc = y_train.value_counts()\n",
    "\n",
    "print('--------훈련 데이터의 비율-----------')\n",
    "print(f'정상 메일의 비율 = {round(ytrain_vc[0]/len(y_train) * 100, 3)}%')\n",
    "print(f'스팸 메일의 비율 = {round(ytrain_vc[1]/len(y_train) * 100, 3)}%')"
   ]
  },
  {
   "cell_type": "code",
   "execution_count": 16,
   "id": "bcc34fbc",
   "metadata": {},
   "outputs": [
    {
     "name": "stdout",
     "output_type": "stream",
     "text": [
      "--------테스트 데이터의 비율-----------\n",
      "정상 메일의 비율 = 87.331%\n",
      "스팸 메일의 비율 = 12.669%\n"
     ]
    }
   ],
   "source": [
    "ytest_vc = y_test.value_counts()\n",
    "\n",
    "print('--------테스트 데이터의 비율-----------')\n",
    "print(f'정상 메일의 비율 = {round(ytest_vc[0]/len(y_test) * 100, 3)}%')\n",
    "print(f'스팸 메일의 비율 = {round(ytest_vc[1]/len(y_test) * 100, 3)}%')"
   ]
  },
  {
   "cell_type": "markdown",
   "id": "022b485d",
   "metadata": {},
   "source": [
    "훈련 데이터와 테스트 데이터 모두 정상 메일은 87%, 스팸 메일은 12%가 존재합니다.  \n",
    "\n",
    "토크나이저를 통해 훈련 데이터에 대해서 토큰화와 정수 인코딩 과정을 수행합니다.  \n",
    "X_train_encoded에는 X_train의 각 단어들이 맵핑되는 정수로 인코딩되어 저장됩니다.  \n",
    "- 5개의 메일만 출력해서 확인해보겠습니다."
   ]
  },
  {
   "cell_type": "code",
   "execution_count": 17,
   "id": "dd08062f",
   "metadata": {},
   "outputs": [],
   "source": [
    "tokenizer = get_tokenizer(\"basic_english\")\n",
    "\n",
    "def yield_tokens(data_iter):\n",
    "    for text in data_iter:\n",
    "        yield tokenizer(text)\n",
    "\n",
    "vocab = build_vocab_from_iterator(yield_tokens(X_train), specials=[\"<unk>\", \"<pad>\"])\n",
    "vocab.set_default_index(vocab[\"<unk>\"])"
   ]
  },
  {
   "cell_type": "code",
   "execution_count": 18,
   "id": "93d4ff3c",
   "metadata": {},
   "outputs": [],
   "source": [
    "text_pipeline = lambda x: vocab(tokenizer(x))"
   ]
  },
  {
   "cell_type": "code",
   "execution_count": 19,
   "id": "1d6ad48b",
   "metadata": {},
   "outputs": [
    {
     "name": "stdout",
     "output_type": "stream",
     "text": [
      "[tensor([115,   7,   3,  28,   6,  41, 226,   4,  25,  48,   2]), tensor([   3,   71,   14,  427,   25,   10,  149,    5, 2553]), tensor([ 171,  193,   19,   20,  107,  101,    2,   55,   15,   49, 7774,  247,\n",
      "          14,    2,   13,  103,   12,   91, 1327,   10, 5525,   13, 2488,    2,\n",
      "          17,  683,  308,   27,   34,  469,    7,  740, 1060,  217,  141,  209,\n",
      "         891, 2513,   33,    3,  156,   82,    5,  121,   89,   50,    5,  142,\n",
      "          17,  891,  201,    2,  132, 1716,    2]), tensor([   3, 1217,   20,  114,  318]), tensor([262, 617, 875, 541, 615,  31,  33,  98,  16,  55,  12, 260,  43,  12,\n",
      "         28,  76, 958, 489])]\n"
     ]
    }
   ],
   "source": [
    "X_train_encoded = [torch.LongTensor(text_pipeline(text)) for text in X_train]\n",
    "print(X_train_encoded[:5])"
   ]
  },
  {
   "cell_type": "markdown",
   "id": "a9b76990",
   "metadata": {},
   "source": [
    "각 메일이 정수 인코딩이 되었습니다.  \n",
    "- 각 정수가 어떤 단어에 부여되었는지 확인해봅시다."
   ]
  },
  {
   "cell_type": "code",
   "execution_count": 20,
   "id": "6283f9d2",
   "metadata": {},
   "outputs": [
    {
     "name": "stdout",
     "output_type": "stream",
     "text": [
      "{'ì¬n': 8046, 'åôrents': 8045, 'åômorrow': 8044, 'åòit': 8043, 'åè10': 8041, 'å£79': 8040, 'å£75': 8038, 'å£600': 8036, 'å£50-å£500': 8033, 'å£48': 8030, 'å£250k': 8028, 'å£1250': 8026, 'å£12': 8024, 'å£1/minmobsmorelkpobox177hp51fl': 8022, '\\x8eö´\\x89ó_': 8021, '\\x89û_thanks': 8018, '~': 8017, 'zyada': 8016, 'zouk': 8015, 'zhong': 8013, 'zebra': 8011, 'zealand': 8010, 'zaher': 8009, 'yoville': 8001, 'youåõre': 8000, 'you\\x89û÷ll': 7999, 'youwanna': 7998, 'yourinclusive': 7996, 'young': 7993, 'youdoing': 7991, 'yo-here': 7988, 'ymca': 7987, 'yijue@hotmail': 7986, 'yes-910': 7982, 'yes-762': 7981, 'yes-434': 7980, 'yeovil': 7979, 'yen': 7978, 'yelow': 7977, 'yelling': 7975, 'yeesh': 7974, 'yaxxx': 7973, 'yaxx': 7972, 'yavnt': 7971, 'yards': 7970, 'yalrigu': 7968, 'yah': 7967, 'xxxxxxxx': 7965, 'xxxxxxx\\\\': 7964, 'xxuk': 7962, 'xt': 7960, 'xclusive@clubsaisai': 7959, 'xafter': 7957, 'x29': 7956, 'wth': 7950, 'wtc': 7949, 'wt': 7948, 'wrnog': 7945, 'wrld': 7944, 'wrks': 7943, 'wrking': 7942, 'wrkin': 7941, 'writhing': 7940, 'wright': 7939, 'woul': 7934, 'wotz': 7933, 'workout': 7927, 'workand': 7926, 'woould': 7922, 'woods': 7920, 'wonders': 7918, 'wondarfull': 7917, 'wnevr': 7914, 'wlcome': 7912, 'witin': 7909, 'withdraw': 7907, 'wiskey': 7906, 'wishin': 7904, 'wisheds': 7903, 'wisdom': 7902, 'wining': 7899, 'wings': 7898, 'windows': 7896, 'wind': 7895, 'wildlife': 7892, 'wildest': 7891, 'wihtuot': 7888, 'wifes': 7887, 'whr': 7885, 'whose': 7884, 'whore': 7883, 'whether': 7881, 'wherre': 7880, 'wherevr': 7879, 'wheel': 7876, 'what\\x89û÷s': 7874, 'weåõve': 7871, 'wewa': 7869, 'westlife': 7865, 'wesleys': 7863, 'weren': 7860, 'werebored': 7859, 'wire3': 7901, 'wenwecan': 7857, 'weiyi': 7854, 'week-stop': 7847, 'week+': 7846, 'weed-deficient': 7845, 'weddin': 7842, 'xxsp': 7961, 'webeburnin': 7840, 'webadres': 7839, 'web2mobile': 7838, 'weasels': 7837, 'weaseling': 7836, 'weaknesses': 7834, 'wc1n': 7833, 'waz': 7832, 'way2sms': 7831, 'wavering': 7829, 'watts': 7828, 'watever': 7825, 'watchng': 7824, 'watchin': 7823, 'watches': 7822, 'watched': 7821, 'wasted': 7820, 'wasnåõt': 7819, 'wasnt': 7817, 'washob': 7816, 'warwick': 7815, 'warning': 7814, 'wesley': 7862, 'warned': 7813, 'warming': 7812, 'waqt': 7811, 'wannatell': 7809, 'wan2': 7808, 'walsall': 7807, 'wall': 7804, 'waht': 7799, 'waheed': 7797, 'wadebridge': 7795, 'wad': 7794, 'wa14': 7792, 'w8in': 7790, 'w4': 7789, 'w14rg': 7786, 'vu': 7784, 'vomitin': 7781, 'vivek': 7779, 'vitamin': 7777, 'vital': 7776, 'visitors': 7775, 'virgins': 7773, 'virgil': 7771, 'vinobanagar': 7770, 'villa': 7769, 'vijaykanth': 7767, 'videos': 7765, 'victors': 7763, 'weeks>': 7849, 'victoria': 7762, 'vibrate': 7761, 'vibrant': 7760, 'versus': 7758, 'verifying': 7757, 'velusamy': 7754, 'velly': 7753, 'veggie': 7751, 'vegetables': 7750, 'vatian': 7747, 'vat': 7746, 'varunnathu': 7744, 'vargu': 7742, 'v-aluable': 7737, 'u\\x89ûªve': 7736, 'uve': 7735, 'uv': 7734, 'uttered': 7732, 'uterus': 7731, 'usps': 7730, 'usher': 7728, 'uses': 7727, 'urmom': 7725, 'urination': 7723, 'urgently': 7720, 'upstairs': 7718, 'upset--it': 7717, 'ups': 7716, 'upping': 7715, 'upon': 7714, 'uploaded': 7713, 'update_now': 7711, 'upcharge': 7709, 'unsecured': 7705, 'unrecognized': 7704, 'unni': 7703, 'unnecessarily': 7702, 'unlike': 7700, 'unknown': 7699, 'unkempt': 7698, 'university': 7697, 'univ': 7696, 'units': 7695, 'unintentionally': 7692, 'unintentional': 7691, 'unicef': 7690, 'undrstnd': 7684, 'underwear': 7683, 'uncomfortable': 7677, 'unclaimed': 7676, 'unbreakable': 7675, 'unbelievable': 7674, 'un': 7673, 'ummifying': 7672, 'um': 7671, 'woohoo': 7921, 'ultimately': 7670, 'ultimate': 7669, 'uk\\\\': 7668, 'uk/wrc': 7667, 'uk/text': 7665, 'uk/ow': 7663, 'uk-mobile-date': 7661, 'ujhhhhhhh': 7660, 'uin': 7659, 'ubandu': 7657, 'uawake': 7656, 'u\\\\': 7655, 'u4': 7654, 'types': 7652, 'txtx': 7650, 'txtno': 7649, 'txt>': 7648, 'txt82228': 7647, 'txt250': 7646, 'twins': 7643, 'twinks': 7642, 'twat': 7638, 'turned': 7636, 'turkeys': 7635, 'tunji': 7634, 'tune': 7633, 'tunde': 7632, 'tul': 7631, 'tue': 7629, 'yi': 7984, 'tsunami': 7628, 'tscs08714740323': 7627, 'tryin': 7625, 'truro': 7623, 'truck': 7622, 'truble': 7621, 'trouser': 7620, 'troubleshooting': 7619, 'untamed': 7707, 'tron': 7618, 'triumphed': 7617, 'trips': 7615, 'trek': 7612, 'treasure': 7609, 'travelled': 7608, 'transfred': 7605, 'transcribing': 7603, 'tranquility': 7602, 'trainners': 7601, 'trained': 7600, 'trackmarque': 7599, 'toyota': 7598, 'toxic': 7597, 'tor': 7591, 'toppoly': 7589, 'tootsie': 7587, 'toothpaste': 7586, 'tooo': 7585, 'tonights': 7583, 'tongued': 7582, 'tones2u': 7580, 'tomorrow/today': 7579, 'tomorro': 7578, 'tomeandsaid': 7577, 'tol': 7575, 'toking': 7574, 'todo': 7572, 'today-sunday': 7571, 'tmw': 7566, 'tmorrow': 7565, 'tke': 7560, 'tix': 7558, 'tiwary': 7557, 'titles': 7556, 'title': 7555, 'tirunelvai': 7553, 'tips': 7551, 'timings': 7549, 'tim': 7545, 'tiime': 7544, 'tightly': 7542, 'tiempo': 7540, 'thrown': 7535, 'throwing': 7534, 'throwin': 7533, 'threw': 7532, 'threats': 7531, 'thout': 7530, 'thnq': 7526, 'thkin': 7525, 'thinked': 7522, 'thew/end': 7519, 'there--': 7517, '10th': 3736, '10am': 3734, 'constantly': 1929, '1/08/03': 3727, '89545': 2415, 'r*reveal': 1686, 'iouri': 2055, '1-u': 3726, 'ola': 3030, 'enuff': 1974, 'coincidence': 4777, '09111030116': 3722, 'pls': 136, '09095350301': 3716, 'adoring': 4193, 'simulate': 7140, '09090204448': 3712, '09071517866': 3710, 'ajith': 4219, 'yowifes': 8002, 'olowoyey@': 6462, '09066364589': 3700, '09065174042': 3692, 'queen': 1683, '09065069120': 3688, '09064018838': 3686, 'ambitious': 4242, '09064011000': 3684, '09063442151': 3681, '09061790126': 3679, 'we\\x89û÷re': 2281, 'hates': 5577, '09058094507': 3662, '09057039994': 3658, 'l8tr': 5956, '09053750005': 3657, 'cricket': 4876, 'jaklin': 5839, '09050000555': 3649, '09041940223': 3647, '31': 3846, '08719899229': 3645, 'filthy': 2745, 'story': 832, '08719839835': 3643, '08719181503': 3641, 'songs': 2214, 'arsenal': 1861, 'sports': 3262, 'sochte': 7200, '08717895698': 3626, '08717111821': 3621, 'bothering': 4527, '08715500022': 3620, '08715203694': 3618, 'tallahassee': 7459, '08715203649': 3614, 'nte': 6418, 'wtlp': 7952, 'envelope': 2710, 'yep': 1011, 'november': 6411, '08712404000': 3603, '08712402972': 3602, 'approve': 4293, '08712402779': 3600, '08712400200': 3596, 'nalli': 6313, '0871212025016': 3594, 'c52': 2549, '08712103738': 3593, 'ft': 5396, '087104711148': 3591, 'until': 515, '08707808226': 3586, '0870737910216yrs': 3583, '087018728737': 3578, '0825': 3566, '0578': 2311, '4': 56, '08081263000': 3564, 'bout': 658, 'pattern': 6574, 'with': 46, '07946746291/07880867867': 3556, 'california': 2554, '0789xxxxxxx': 3555, '07815296484': 3552, '07808726822': 3551, 'chgs': 4719, '077xxx': 3547, '07753741225': 3545, 'oyster': 6530, 'pansy': 6544, '050703': 3534, 'eleven': 5152, 'papers': 3047, '03': 3532, '02072069400': 3530, '09063440451': 3680, 'meal': 1633, 'chinchillas': 4729, 'ganesh': 5420, 'rupaul': 6979, 'moved': 2990, '//tms': 3520, '//gotbabes': 3518, 'user': 1122, 'famamus': 5260, '-sub': 3509, '2007': 2353, 'recd@thirtyeight': 6852, 'rounder': 6960, '-no': 3506, 'manage': 2948, '-msg': 3505, '49557': 3903, 'guoyang': 5534, '-message': 3504, '-4': 3501, 't&csc': 7438, '-/': 3500, 'blanked': 4491, '+å£400': 3498, 'uk': 253, '+get': 3496, '89555': 1833, '+123': 3494, '*pushes': 3489, 'docks': 5039, '*phews*': 3487, '14thmarch': 3752, '*passionate': 3486, 'lick': 2085, 'unfortuntly': 7688, '-shakespeare-': 3508, 'wounds': 7936, '*laughs*': 3483, '*i*': 3482, 'sane': 7001, '*adoring': 3476, 'madam': 2102, '*a': 3475, '1000': 1485, 'kfc': 5915, 'music': 731, 'contract': 1558, '*****': 3471, '&xxx': 3470, '%of': 3465, '$900': 3464, 'base': 4423, '$50': 3463, 'gailxx': 5414, 'died': 1953, '$1': 3459, 'walkin': 7802, '#150': 3458, 'å£1450': 3455, 'ovulation': 3042, 'lib': 6013, 'contains': 4827, '4t&ctxt': 3911, 'licks': 2905, 'yer': 3448, 'singles': 2205, 'xxxxx': 3445, 'most': 479, 'xavier': 3439, 'punto': 6789, 'wrk': 3436, 'into': 368, 'poking': 6664, 'women': 3433, 'wks': 3428, 'struggling': 7357, 'waves': 3413, '08701417012': 1793, 'walked': 3410, 'typical': 7653, 'tlk': 7562, '&lt': 52, 'waited': 3409, 'piss': 3068, 'å£900': 1784, 'visionsms': 3401, '0845': 3570, 'explain': 1582, 'dave': 1947, 'siguviri': 7134, 'whn': 3420, 'down': 234, 'videophones': 3398, 'okey': 2138, 'vid': 3396, 'using': 1123, 'vegas': 3393, '87021': 4032, 'sarasota': 7005, 'valid12hrs': 3390, 'vale': 3389, 'fret': 2769, 'vomiting': 7782, 'freezing': 5375, 'meet+greet': 6172, 'occupy': 6437, 'urn': 3386, 'upgrade': 3382, 'unfortunately': 3379, 'i-ntimate': 5704, 'ultimatum': 3375, 'uh': 3372, '+': 490, 'video/pic': 7764, 'help08718728876': 5608, 'txttowin': 3370, 'tues': 3366, 'transfered': 3360, 'trade': 3356, 'tomarrow': 3349, 'products': 6753, 'tmrw': 3346, '0': 3522, 'squishy': 7284, 'holy': 2825, 'thought-': 3335, '08709222922': 2321, 'testing': 3325, 'tell': 104, 'mess': 2967, 'tenants': 3323, '08714714011': 3612, 'flower': 2756, 'affectionate': 4202, 'temp': 3322, 'telugu': 3321, 'grr': 5519, 'telly': 3320, 'howard': 2828, 'teeth': 3318, 'slip': 3236, 'stupid': 993, '12hours': 3744, 'number-so': 6420, 'technical': 3316, 'tech': 3315, 'teasing': 3314, 'tease': 3313, 'spoken': 1731, 'tape': 3309, '22': 3797, 'tap': 3308, 'jungle': 5883, 'updat': 7710, 'tacos': 3304, 't-c': 3302, 'tau': 7467, 'yalru': 7969, 'greatest': 5507, 'swatch': 3294, 'suzy': 3293, 'sumthin': 3287, 'sue': 3282, 'individual': 2848, 'lifebook': 6016, 'okden': 6453, 'subs': 3280, 'subpoly': 3279, 'student': 3278, 'stores': 3275, 'audrey': 2481, 'stones': 3273, 'stockport': 3271, 'tihs': 3343, 'ipaditan': 5798, 'vth': 3405, 'spending': 3258, 'spell': 3257, 'fixed': 1354, 'speed': 3255, 'spare': 3251, 'spanish': 3250, 'y87': 7966, 'footy': 5337, 'ystrday': 8004, 'stars': 3266, 'smsco': 3240, 'smoking': 3239, 'thy': 7539, 'worst': 3434, 'smokes': 3238, 'slightly': 3235, 'slap': 3230, '08715203028': 3613, 'singing': 3221, 'guesses': 5528, '#': 3457, 'silently': 3220, 'sight': 3219, 'done': 248, 'shoes': 3212, 'fight': 2742, 'shirt': 3211, '2003': 748, 'settle': 3207, 'topped': 7588, 'settings': 3206, 'setting': 3205, 'shakara': 7072, 'storming': 7338, 'serving': 3204, 'senthil': 3202, 'freak': 2006, 'sms-08718727870': 7188, 'sends': 3201, 'sender': 3200, 'selfish': 3196, 'basic': 1524, 'holding': 1604, '60': 3954, 'latelyxxx': 5983, 'secs': 3193, 'seconds': 3191, 'satisfy': 3182, 'team': 1454, 'tip': 7550, 'sarcastic': 3180, 'upload': 3383, 'sacrifice': 3174, 'callcost150ppmmobilesvary': 4632, 'sachin': 3173, 'difficult': 1041, 'rub': 3166, 'rooms': 3162, 'peach': 6584, 'roommates': 3161, 'rights': 3160, 'odalebeku': 6440, 'rhythm': 3159, 'ow': 6521, 'ic': 2040, 'lovable': 2930, 'accumulation': 4174, 'manual': 6136, 'rentl': 3148, 'belovd': 2506, 'taxi': 3310, 'tablets': 3303, 'yuou': 8006, 'andros': 2458, 'useless': 7726, 'relatives': 3143, 'involved': 5796, 'lonely': 2922, 'å£5000': 789, '\\x89û_': 919, 'recession': 3133, 'marandratha': 6140, 'recent': 3132, 'realized': 3128, 'randomly': 3119, 'packs': 6532, 'racing': 3116, 'complimentary': 931, 'purpose': 3113, '2814032': 3812, 's*': 6984, 'senses': 7051, 'ps': 3110, 'propose': 3108, 'ambrith': 4243, 'poly/200p': 6666, 'processed': 3102, 'rtm': 6971, 'postcode': 3088, 'stick': 3270, 'position': 3085, 'pool': 3081, 'pobox202': 6655, 'gate': 5428, 'carry': 1904, 'helens': 5601, 'references': 6868, 'politicians': 3079, 'pole': 3078, 'janarige': 5842, 'plm': 3073, 'song': 991, 'placement': 3069, 'ave': 1521, '150p/mt': 3755, 'picsfree1': 3064, 'slice': 3233, 'persons': 3060, 'studio': 7363, 'themob': 3328, 'ondu': 6467, 'pence': 3057, 'nervous': 3013, 'iyo': 5829, 'mmmmm': 6229, 'peaceful': 3055, 'peace': 3054, 'grl': 1599, 'parent': 3050, 'exact': 2720, 'late': 229, 'pan': 3045, 'painting': 3044, 'mobcudb': 6233, 'oz': 3043, 'or2stoptxt': 3036, 'opinions': 3034, 'emailed': 5156, 'oic': 3028, 'officially': 3025, 'yoyyooo': 8003, 'ryan': 3171, 'raglan': 6819, 'nitros': 3019, 'nimya': 3017, 'weigh': 7850, 'everyone': 665, '\\\\not': 4113, 'needed': 3012, '(': 144, 'receive': 417, 'hmv': 2034, 'premier': 3093, 'murder': 2998, 'wise': 3426, 'msg@150p': 2994, 'movietrivia': 2992, 'mono': 2987, 'oranges': 3037, '08700469649': 3571, 'smsservices': 7190, 'mojibiola': 2986, 'module': 2984, 'gym': 868, 'failed': 5249, 'rajini': 6825, 'mobilesdirect': 2983, 'wikipedia': 7889, 'leona': 1624, 'inshah': 5774, 'mmmmmm': 2981, 'feellikw': 5279, 'screamed': 3189, '50ea': 3931, 'minuts': 2975, 'minor': 2974, 'portal': 6681, 'messenger': 2970, '3gbp': 1814, 'pockets': 6660, 'meow': 2966, 'membership': 2964, '07786200117': 3546, 'owe': 6522, 'sd': 7030, 'solve': 3245, 'cl': 4746, 'modules': 2985, 'cuddle': 1940, 'cartons': 4656, 'telephone': 3319, 'melle': 2961, 'amla': 4247, 'shb': 7082, 'math': 2953, '+std': 3497, 'massive': 2952, '8p/min': 2418, 'outbid': 6505, 'caps': 4647, '18yrs': 1806, 'ppl': 1675, '1956669': 3773, 'alone\\\\': 4236, 'makin': 2947, 'toledo': 7576, 'kidding': 2889, 'mails': 2945, 'maga': 2943, 'm227xy': 2939, 'many': 241, '08719180248': 3639, 'lush': 2936, 'lookatme': 2923, 'logo': 2921, 'location': 2919, 'courage': 4857, 'asia': 4326, 'situations': 7149, 'linerental': 2910, '32000': 3850, 'select': 3195, 'largest': 2902, '02085076972': 3531, 'lane': 2899, 'said': 191, 'time-hope': 7546, 'n8': 6306, 'l': 2896, 'hip': 2821, 'correct': 854, 'kent': 2886, 'pile': 6630, 'waheeda': 7798, 'kaiez': 2882, 'behind': 1028, 'kadeem': 2881, 'won': 177, 'doesn': 663, 'print': 3098, 'juicy': 2880, 'jsco': 2878, 'lt': 2933, 'ninish': 6373, 'pig': 3065, 'jolt': 2877, 'active': 4184, 'keeping': 1617, 'sponsors': 7266, 'jogging': 2874, 'dob': 5036, 'fifty': 5294, 'sw7': 7416, 'jiayin': 2871, 'jesus': 2870, 'jenny': 2869, 'java': 2867, 'jan': 2865, 'jacket': 2863, 'itåõs': 2861, 'items': 2860, 'iq': 2859, 'tmorow': 7564, '09096102316': 3717, 'ipad': 2858, 'opponenter': 6477, 'na': 975, 'norcorp': 6398, 'ip4': 2857, 'wat': 138, 'interesting': 2854, 'downloaded': 2679, '09058095201': 3665, 'msg@å£1': 6271, 'sentence': 7053, 'installing': 2852, 'sarcasm': 3179, '32323': 3852, 'inform': 2849, 'ikea': 2839, 'inch': 2842, 'closeby': 4759, 'iscoming': 5813, 'talents': 7454, 'taxless': 7470, 'hunny': 2834, 'hundred': 2833, 'rudi': 6974, 'hugs': 2832, 'leonardo': 6009, 'hsbc': 2830, 'costume': 4846, 'hrishi': 2829, '0721072': 3542, 'key': 2072, 'cream': 2626, '09090900040': 3713, 'hol': 2824, 'sing': 1722, '6230': 3962, 'å£5/month': 8031, '078498****7': 3554, 'henry': 2819, 'hasn': 2811, 'dict': 4998, 'jess': 1614, 'haiz': 2806, 'thm': 3333, 'mall': 2105, 'invnted': 5794, 'guilty': 2804, 'guessing': 2803, 'gudnite': 2802, 'avalarr': 4368, 'growing': 2801, 'vasai': 7745, 'mystery': 2999, 'members': 2963, 'lovin': 6075, 'pause': 6576, 'given': 2790, 'getstop': 2788, 'pobox12n146tf15': 6654, 'germany': 2787, '08718726978': 3631, 'gent': 2784, 'a21': 4147, 'fujitsu': 2773, 'happening': 1202, 'usb': 3387, 'fromm': 2771, '&gt': 1786, 'shop--the': 7106, 'free>ringtone': 2768, 'foot': 2761, '07808': 3549, 'fo': 2758, 'dozens': 5066, 'fly': 2757, 'inches': 2046, 'came': 467, 'mag': 6119, 'argentina': 4303, 'rv': 6981, 'flirting': 2754, 'tests': 2242, 'silent': 2203, 'emotion': 5163, 'lately': 2903, '2day': 921, 'portege': 6682, 'nok': 6388, 'brilliantly': 4565, 'tenerife': 1455, 'stapati': 7297, '08718730666': 3635, 'against': 1147, '-call': 3502, '68866': 3970, 'newscaster': 6358, 'under': 1758, 'fats': 5270, 'favour': 2738, 'il': 871, 'submitting': 7373, 'you/carlos': 7990, 'favorite': 2737, 'successful': 7382, 'whens': 7878, 'fastest': 2735, 'locks': 6051, 'slide': 3234, 'singapore': 7143, 'expression': 2728, 'express': 2727, 'witout': 7910, 'ac': 1840, 'cultures': 4899, 'explicit': 2726, 'executive': 2724, 'excuses': 2723, 'exciting': 2722, 'erm': 2713, 'epsilon': 2711, 'food': 542, 'web': 3414, 'crazy': 803, 'barrel': 4419, 'jd': 5850, 'tho-': 7528, 'energy\\\\': 2708, 'exeter': 2725, 'hor': 2827, 'by': 96, 'thinkin': 1116, 'egg': 2701, 'ee': 2697, 'xxxmobilemovieclub': 3443, 'werethe': 7861, 'edu': 2696, 'easter': 2693, 'deepest': 4952, 'durban': 2690, 'dubsack': 2687, '*': 312, 'drunk': 2686, 'can\\x89û÷t': 4644, 'incident': 2843, 'drinking': 2684, 'deer': 4953, 'teams': 7476, 'dresser': 2682, '&othrs': 3468, '\\\\boost': 4080, 'shu': 3216, '\\\\hello\\\\': 4101, 'dorm': 2676, 'engin': 2709, 'possession': 3086, 'donate': 2674, 'dokey': 2672, 'floor': 2755, 'doc': 2671, 'accordingly': 1842, 'usual': 1760, 'sorted': 3247, 'sashimi': 7007, 'dload': 2670, 'hell': 1203, 'recognise': 3135, 'data': 4930, '2gthr': 3821, 'distance': 2667, 'arguments': 4305, 'sum1': 3286, 'winds': 7897, 'distract': 2668, 'ding': 2665, 'dime': 2664, 'difference': 2661, 'mapquest': 6137, 'khelate': 5917, 'arcade': 2471, 'diamonds': 2657, 'rays': 3123, 'size': 3227, 'omw': 1230, 'caveboy': 4666, '-db-': 3503, 'despite': 2652, 'desperate': 2651, '0870141701216+': 3575, '18': 520, 'purity': 6793, 'demand': 2645, 'fix': 1998, 'yeh': 3447, 'gn': 2791, 'wc1n3xx': 2277, 'z': 8007, 'failure': 5252, 'listed': 6039, 'surfing': 3292, 'but': 32, 'ahhhh': 4214, 'dearly': 2640, 'drink': 591, 'divert': 5029, 'forever': 865, 'dealing': 2639, 'tank': 3307, '08712405020': 1795, 'nd': 3007, 'darlings': 2636, 'thot': 3334, 'theres': 3330, 'very': 197, 'dan': 2634, 'meals': 6164, 'custom': 2633, 'lyfu': 2938, 'available': 705, 'knee': 5935, 'cramps': 2623, '89105': 4043, 'bite': 1881, 'chat': 233, 'cookies': 2618, 'cooked': 2617, 'boyfriend': 2533, 'cook': 2616, 'arr': 4311, 'misplaced': 6216, 'avatar': 1866, 'helpline': 2817, 'control': 2613, 'speedchat': 3256, 'dry': 1963, 'fren': 1593, 'conducts': 2606, 'dearer': 4940, 'condition': 2605, 'community': 2602, 'color': 2597, 'cochin': 2595, 'coat': 2594, 'cme': 2591, 'clearing': 2589, 'discount': 1173, '26/11/04': 3808, 'max6/month': 6159, 'm26': 2940, 'chill': 2583, 'neglect': 6341, 'chasing': 2581, 'ros': 6957, 'wuldnt': 7954, 'chart': 2580, 'regards': 3139, 'channel': 2578, 'm263uz': 2941, 'jod': 5863, 'centre': 2577, 'aid': 4215, 'nus': 3023, 'alone': 585, 'sunday': 994, 'ktv': 5950, 'beauty': 2498, '89693': 2416, 'evn': 2718, 'operator': 890, 'nething': 6351, 'cashto': 2572, 'j': 1382, 'cares': 2569, 'matter': 1223, 'nb': 3006, 'zac': 8008, 'hunting': 5694, '98321561': 4058, 'carefully': 2568, 'captain': 2565, 'cancelled': 2563, 'canal': 2561, 'invest': 2856, 'connections': 2608, '09058094597': 3664, 'collected': 2596, 'camp': 4638, 'lifting': 6020, 'somewheresomeone': 7212, 'callså£1/minmoremobsemspobox45po139wa': 2559, 'trebles': 7611, 'suggest': 3283, '09094646899': 3715, '3d': 1813, 'intelligent': 1610, 'call09050000327': 2555, 'finished': 541, 'swtheart': 7431, 'stretch': 3277, 'building': 2546, 'bristol': 2540, 'bringing': 2539, 'brah': 2534, 'box326': 2531, 'gentleman': 2785, 'asked': 444, 'bcm4284': 4438, 'bowl': 2530, 'gumby': 5533, 'borin': 2526, 'janinexx': 5843, 'widelive': 3421, 'bless': 2519, 'history': 2822, '29/10/0': 3814, 'barbie\\\\': 4415, 'follow': 2759, 'billion': 2512, 'nic': 6360, 'begging': 2503, 'avent': 1867, 'directly': 1172, 'accomodations': 4170, 'beg': 2502, 'becomes': 2500, 'pobox334': 3074, 'casualty': 4661, 'avoiding': 2486, 'avoid': 2485, 'mobstorequiz10ppm': 6238, 'uup': 7733, 'comedy': 1924, 'alrite': 1306, 'cartoon': 4657, 'attached': 2479, 'verify': 3394, 'oscar': 6494, 'response': 3150, 'asp': 2476, 'sorrows': 7222, 'sirji': 7144, 'ago': 793, 'appointment': 2469, 'apartment': 2467, 'boat': 2524, 'paragon': 6550, 'loans': 2918, '08704439680': 3581, 'among': 2456, 'asthma': 4337, 'finishing': 1997, '0quit': 3723, 'reduce': 6866, 'allah': 2453, 'album': 2451, 'hm': 2823, 'aka': 2450, 'airtel': 2449, 'printed': 6740, 'sold': 7204, 'agalla': 2447, 'ag': 2446, 'nange': 6317, 'row/w1j6hl': 3163, 'hex': 5621, 'blue': 1158, 'afraid': 2445, 'affairs': 2444, 'crap': 4868, 'speaking': 3252, '60p': 3957, 'lingerie': 6034, 'mother-in-law': 6255, 'bros': 2543, 'ubi': 2260, '83370': 4022, 'addie': 2438, '07808247860': 3550, 'charles': 2579, 'shoppin': 3213, 'promises': 2162, 'bottle': 2528, 'case': 797, 'accidentally': 2435, 'å£3/wk': 2293, 'ask': 154, 'abj': 2431, 'two': 514, 'bluetoothhdset': 4505, 'serena': 7057, '\\\\wen': 2428, '\\\\the': 2427, '\\\\cheers': 2423, 'train': 1118, '9t': 2421, '9pm': 2420, '8am': 2417, '86688': 791, 'calculation': 2551, '10k': 2341, 'sound': 1110, 'nri': 6417, 'arrival': 4313, 'chicken': 1917, '86888': 2411, '83383': 2408, '81151': 2406, 'plane': 2151, 'marvel': 6146, 'cashbin': 2571, '80182': 2403, '80086': 2402, '*sips': 3491, 'forevr': 2764, 'changes': 1914, 'filthyguys': 5299, 'kay': 5907, 'toa': 3347, 'tobacco': 7568, '7250i': 2400, 'corect': 4839, 'quickly': 2166, 'weirdy': 7853, '630': 2394, 'inconsiderate': 2845, 'laughing': 2079, 'tall': 7458, '5p/min': 2392, 'wating': 7827, '5min': 2391, 'foregate': 5339, '50/pm': 2389, 'breaking': 4553, 'stuck': 2225, 'cloud': 4764, '40533': 2380, '50perweeksub': 3933, 'å£100': 580, 'photos': 1661, '\\\\kudi\\\\yarasu': 4107, '80488': 1292, 'lotsly': 6070, '31/10/04': 2373, '2wks': 2371, 'land': 594, 'jorge-shock': 5872, 'bar': 2492, '2u': 2369, '2stoptxt': 2368, 'jamster': 2864, 'without': 517, 'interested': 1059, 'lifted': 6019, 'skills': 7152, 'regarding': 3138, '2marrow': 2364, 'jones': 5870, '26th': 2360, '24hrs': 2359, '220-cm2': 2357, 'terror': 7488, 'age16': 1023, '21': 2355, 'boss': 1321, 'shes': 7088, 'fraction': 5358, 'practicing': 3091, 'direct': 859, 'skip': 2208, '200': 2352, '10ppm': 2342, 'sleepy': 3232, 'lookin': 1220, 'l8r': 1389, '1/2': 2339, 'gua': 5523, '09066350750': 2338, 'able': 404, '08712101358': 3592, '09064012160': 2336, 'freemsg': 719, 'honey': 1053, 'thnk': 2249, 'wml': 3430, '6hl': 2397, 'register': 3140, '09061743806': 2334, 'oooh': 3032, 'banter': 4413, '08718727870': 2326, 'bevies': 4473, '08712402050': 2322, '08700621170150p': 2319, '08000938767': 2316, '08000776320': 2315, '08000407165': 2314, 'oru': 3039, '0776xxxxxxx': 2313, 'visa': 7774, 'nitro': 6377, '150ppermesssubscription': 2348, 'unconditionally': 7678, '02/09/03': 2308, '008704050406': 2307, '09058094454': 3660, 'frauds': 5362, '09050002311': 3654, 'hg/suite342/2lands': 1602, '7am': 3995, '*pouts*': 2302, 'app': 1309, 'moving': 2993, '07090298926': 3539, 'crash': 2624, '*kisses*': 2301, 'nasdaq': 6320, 'bahamas': 2489, '09058091870': 3659, 'nalla': 3002, '$700': 2298, 'fakeye': 5254, 'tool': 3351, 'arm': 4307, 'ym': 2292, 'x\\\\': 2290, 'powerful': 6699, 'weekend': 389, 'wylie': 2289, 'wana': 838, 'wnt': 2287, 'whenevr': 2282, 'plaid': 6637, '08718738001': 2327, 'cause': 614, 'draws': 5072, '09099726395': 3719, 'å£3': 1140, 'blame': 2517, 'cr': 4865, 'toot': 3352, 'ure': 2266, 'upset': 2265, 'tattoos': 7466, 'nig': 6364, 'txtauction': 2259, '\\\\if': 4103, 'format': 5346, 'rajas': 6823, 'tscs087147403231winawk': 2257, 'much': 129, 'tog': 2253, 'thru': 2250, 'valued': 1467, 'gd&the': 5434, 'thatåõs': 2248, 'supervisor': 3290, '09066380611': 3704, 'call2optout/674&': 4626, 'thanksgiving': 2246, 'textoperator': 2245, 'texted': 2244, 'lucky': 675, 'mylife': 6300, 'tb': 2237, 'taylor': 2236, 'working': 460, 'will': 44, 'tkls': 7561, 'acnt': 4179, 'ibhltd': 2039, 'stranger': 2223, 'prepared': 3095, 'shahjahan': 3208, 'stopped': 2222, '2stoptx': 3831, 'stock': 2221, 'orig': 6491, 'stamps': 2220, 'blu': 2523, 'sonyericsson': 2215, 'sometime': 2213, 'rents': 6896, 'woken': 3432, 'super': 1449, 'slippers': 2209, 'sk38xh': 2207, 'purchase': 2165, '\\\\getting': 4093, 'staring': 7300, 'contact': 218, 'seven': 2197, 'youphone': 7994, 'tiz': 7559, 'league': 5999, 'sol': 2212, 'there': 68, 'nipost': 6375, '07/11/04': 2312, 'settled': 2196, 'benefits': 2509, '63miles': 3963, 'seem': 2193, 'enough': 409, 'searching': 2192, 'chance': 363, 'se': 2191, 'saved': 2187, 'running': 2186, 'å£125': 8025, 'rofl': 2184, 'roads': 2182, 'guess': 342, 'mandy': 6133, '&sam': 3469, '/-': 3514, 'review': 2180, 'closingdate04/09/02': 4761, 'talked': 7456, 'result': 2179, 'starer': 7299, 'respond': 2178, 'drinks': 1962, 'allowed': 2454, 'bag': 1152, 'suits': 3285, '02073162414': 2310, 'cabin': 2550, 'released': 2175, 'castor': 2573, 'received': 2172, 'nokias': 2132, 'disconnected': 5021, 'rang': 2170, 'abt': 405, '82277': 1293, 'ppm150': 6700, 'shared': 7078, 'proof': 2163, 'cld': 2587, '09061790125': 3678, 'sort': 901, 'prolly': 2161, 'reward': 1245, 'tho': 688, 'hide': 5625, 'consider': 2609, 'event': 5206, 'fetching': 5283, 'webpage': 7841, 'notixiquating': 6407, 'repair': 3149, 'soft': 3244, 'prabha': 2157, 'corvettes': 4844, 'police': 2155, 'quick': 1419, 'non': 6392, '-d': 2304, 'ur': 49, 'perfect': 2145, 'tex': 7491, 'wales': 2273, 'pages': 2142, 'package': 2141, 'p': 1656, 'some1': 3246, 'o2': 2136, 'combination': 4785, 'networking': 2131, 'mary': 6147, 'nearly': 2130, 'moral': 2121, 'station': 1261, '09056242159': 2330, 'fizz': 5314, 'prefer': 2159, 'birla': 2514, 'feeling': 569, 'waitin': 1766, 'moms': 2119, 'buddy': 4590, 'moments': 2118, 'ls15hb': 6080, 'phrase': 6624, 'meds': 2111, 'sugar': 2229, 'malaria': 2103, 'mad': 2101, 'stuff--why': 7365, 'effects': 2700, 'wrc': 7937, 'm8s': 2099, 'environment': 5183, 'lotr': 2097, 'celeb': 2575, 'warm': 1003, 'stitch': 7326, '88888': 2414, 'loss': 2096, 'ac/smsrewards': 4161, 'taunton': 2235, 'videochat': 3397, 'login': 2093, 'figures': 2744, 'per': 242, 'masters': 1632, 'likes': 2089, 'isn': 873, 'likely': 2088, 'lie': 2086, 'faded': 5248, '0871277810710p/min': 3605, 'tons': 3350, 'letters': 2084, 'confuses': 4818, 'recorded': 6860, 'xin': 3440, 'thirunelvali': 7524, 'letter': 2083, 'bein': 2505, 'lecture': 2081, 'named': 3003, 'acl03530150pm': 4178, 'cr01327bt': 4866, 'lab': 2077, 'fit': 2748, 'knackered': 2075, 'care': 208, 'totes': 7596, 'wee': 3415, 'skilgme': 1723, 'kindly': 2074, 'lux': 6093, 'ree': 6867, 'gaytextbuddy': 2780, 'kick': 2073, 'contacts': 2611, 'k52': 2071, 'june': 2070, 'jst': 2068, 'waaaat': 7793, 'haircut': 5545, 'jordan': 2066, 'did': 117, 'weds': 7844, 'msn': 2995, 'jealous': 2065, 'across': 1022, 'is-': 5810, 'no-762': 6382, 'duchess': 2688, 'shit': 375, 'length': 6006, 'wonder': 917, 'shorter': 3214, 'sem': 3199, 'it\\x89û÷s': 2061, 'rcv': 3124, 'issues': 2059, 'service': 289, 'talks': 3306, 'instead': 2051, '0430-jul-05': 3533, 'sex': 898, 'department': 2647, 'crashed': 4869, 'causing': 2574, 'infernal': 2049, 'hug': 2038, 'destination': 4982, 'hubby': 2037, 'banks': 2491, 'sky': 1724, 'crave': 932, 'comment': 4789, 'hl': 2033, 'hint': 2032, 'amrca': 4252, 'hella': 2031, 'eaten': 2694, 'clearer': 4754, 'legal': 1623, 'stomach': 3272, 'handle': 2026, 'i\\x89û÷ve': 5832, 'cud': 1939, '400mins': 3877, 'gt': 2024, 'normal': 977, 'greetings': 2022, 'gram': 2021, 't&cs/stop': 3301, 'often': 2137, '08701752560': 3577, 'giv': 2018, 'gary': 2013, 'stalking': 7295, 'best': 266, 'gang': 2011, 'liverpool': 2916, 'hee': 722, 'freefone': 2007, 'xxx\\\\': 3442, 'purple': 6794, 'gudnyt': 5526, 'constant': 2610, 'cheyyamo': 4716, 'sorts': 7225, 'uk/expressoffer': 3373, '50': 348, 'spend': 902, 'rain': 1420, 'rally': 3118, 'posting': 6690, 'tocall': 7570, 'market': 2950, 'faster': 1985, 'fml': 2000, 'date': 618, 'idu': 5722, 'file': 1992, '\\\\our': 1838, 'bluray': 4507, 'packing': 6531, 'february': 1988, 'fantasy': 1984, '09066358361': 3695, 'superior': 7400, 'truly': 3364, 'fair': 1983, 'orchard': 979, 'evng': 1979, 'ability': 2430, 'mmmm': 2980, 'cosign': 4845, 'transaction': 3359, '69988': 3979, 'er': 1975, 'gamestar': 5418, 'flash': 1999, 'stadium': 7290, 'lacking': 5961, 'huge': 2831, 'eight': 1968, 'easier': 1967, 'earth': 1966, 'ctla': 4894, 'cry': 1562, '||': 1137, 'doors': 1960, 'luckily': 6086, 'blind': 2521, 'experiencehttp': 5231, '20': 1017, 'dollars': 1959, 'mas': 2951, 'doggy': 1958, 'docs': 1957, 'diff': 1954, 'chex': 4715, '08708034412': 3587, 'dick': 1952, 'sindu': 7142, 'sptv': 3263, 'deleted': 1950, 'def': 1949, 'decision': 1948, '0844': 3567, 'exe': 1980, 'expired': 5232, 'dai': 1943, 'jokin': 2876, 'this': 48, 'gbp/week': 5433, 'gimme': 2789, 'themes': 7510, 'follows': 5332, 'h&m': 5540, 'txtstop': 3369, 'footprints': 2002, 'created': 1936, 'book': 464, 'reset': 6911, 'anybody': 2463, 'house-maid': 2036, 'convey': 1932, 'chocolate': 2585, 'rush': 1702, 'contents': 1931, 'makiing': 6127, 'slippery': 7163, '07123456789': 3541, 'considering': 1928, 'files': 1993, 'need': 82, 'karnan': 5902, 'nordstrom': 6399, 'confirmed': 1927, 'com1win150ppmx3age16': 1923, 'deposited': 4975, 'city': 1919, '*possessive': 3488, 'traveling': 7607, 'chatting': 1915, 'numbers': 978, 'cos': 178, 'center': 1911, 'cash-in': 1906, 'slots': 7165, 'gain': 2777, '*teasing': 1789, 'boytoy': 612, 'sday': 7031, 'caring': 1903, 'xxxxxx': 7963, 'elaborating': 5146, 'forums': 2766, 'lambu': 5966, '62220cncl': 3961, 'south': 1442, 'rinu': 6946, 'cann': 1900, 'cam': 1899, 'step': 1732, 'profile': 6756, 'whole': 695, '09061104283': 3669, 'bud': 1893, 'brothas': 1892, '08707500020': 3584, 'required': 6904, 'start': 399, 'boye': 1891, 'poet': 6662, 'box97n7qp': 1890, 'born': 1888, 'books': 1887, 'sheet': 7083, 'booking': 1886, 'astronomer': 4341, 'blah': 1882, 'others': 980, 'prospects': 3109, 'excuse': 1579, 'billed': 1877, 'compensation': 4794, 'jontin': 5871, 'begin': 1873, 'urgoin': 7722, 'picking': 983, 'payback': 6578, 'regret': 2174, 'me': 16, 'bedrm-$900': 4447, 'aburo': 2433, 'stil': 7324, 'balance': 1868, 'cuddling': 2630, 'rich': 2181, 'thia': 7520, 'terms': 1743, 'attend': 1863, 'capital': 2564, 'kerala': 1619, 'currently': 933, 'armand': 1859, 'apps': 1857, 'booty': 2525, 'apparently': 1856, 'await': 656, 'stage': 7291, 'apologise': 1855, '09071512433': 3709, 'anti': 1853, '731': 3987, 'babygoodbye': 4388, 'alive': 1851, '09061701939': 3673, 'alfie': 1850, 'al': 1848, 'paracetamol': 6548, 'panic': 3046, 'hardcore': 2028, 'beyond': 1875, 'payoh': 3053, 'business': 1896, 'kz': 2895, 'thenampet': 7514, 'opt-out': 2139, '_': 1839, 'dead': 858, '0870241182716': 3579, '88066': 1831, 'japanese': 5846, 'tissco': 7554, '87239': 1830, '07099833605': 3540, 'irene': 5802, 'cut': 754, 'jersey': 5857, '786': 1825, 'scotsman': 7023, '6pm': 1824, '62468': 1823, '09050000301': 3648, '50perwksub': 1820, 'while': 516, '3qxj9': 1816, 'bx': 4616, 'correction': 4841, '77': 3992, '2morow': 1810, 'starwars3': 7305, '10am-9pm': 3735, 'chase': 4695, 'ne': 3008, 'stopcs': 7335, 'xxx': 489, '150p/tone': 1804, '11mths': 1801, '50gbp/mtmsg18': 2390, '10am-7pm': 1800, 'brisk': 4567, 'itna': 5821, 'lazy': 960, 'lido': 2906, '09066362231': 1797, '08715705022': 1796, 'chk': 4734, 'cuz': 1037, 'greet': 2800, '08702840625': 1794, 'sit': 3223, 'fetch': 1352, '08002986906': 1792, 'rubber': 6973, 'stoners': 7328, 'bang': 2490, '*smiles*': 1788, 'field': 2741, 'blown': 4504, '*loving': 1787, 'yun': 1781, 'wer': 2280, 'yogasana': 1780, 'friends': 269, 'speechless': 3254, 'rakhesh': 1421, 'yetunde': 1778, 'bam': 4405, 'worse': 1775, 'period': 6598, 'works': 1774, 'we\\x89û÷ll': 7870, 'mu': 730, 'wkend': 1773, 'may': 319, 'wishes': 1772, 'auto': 1865, 'wkly': 1009, 'elephant': 5151, 'bloomberg': 2522, '&it': 3467, 'specify': 7244, 'james': 2063, 'kills': 5924, 'weak': 1769, 'ive': 875, 'buff': 2545, '3uz': 2377, 'unable': 1757, 'indeed': 2846, '83049': 4016, 'sweetheart': 3295, 'parachute': 6549, 'ors': 6492, 'total': 1749, 'timing': 1747, 'survey': 7412, 'thursday': 1746, 'was': 72, 'bleh': 2518, 'theatre': 1745, 'announced': 4269, 'runs': 3170, 'yesterday': 561, 'possibility': 6687, 'loving': 815, '08715203652': 3615, 'billy': 4481, 'lightly': 6022, 'polyphonic': 1671, 'ful': 2010, 'download': 806, 'canary': 2562, 'definite': 2642, 'computer': 801, 'remind': 1427, '09071512432': 3708, '09061743386': 3675, 'frnd': 720, 'skateboarding': 7151, 'lines': 2090, 'funeral': 5406, '\\\\a': 2422, 'random': 2169, 'bt': 613, 'thought': 276, 'wouldn': 3435, 'lou': 2926, 'id=1b6a5ecef91ff9*37819&first=true18': 5715, 'flight': 2752, 'havin': 2029, 'final': 807, 'ready': 286, 'freeentry': 5371, 'draw': 294, 'round': 1436, 'friend-of-a-friend': 5382, 'farm': 2734, '08717898035': 3627, 'batsman': 4430, 'bstfrnd': 4586, 'fals': 5259, '08000839402': 790, 'sent': 206, 'smile': 335, 'tough': 1267, 'cust': 2632, '09058094565': 2331, 'mins/texts': 6209, 'assume': 1862, 'bec': 2499, 'complementary': 4797, 'surprised': 1737, 'returned': 3154, 'leading': 5997, 'park': 771, 'gm': 5459, '09058094583': 3663, 'amazing': 1513, 'cdgt': 4669, 'passionate': 2143, '850': 4026, 'gettin': 1200, 'applebees': 4287, 'lovely': 769, 'di': 2656, 'film': 948, 'kiss*': 768, 'goto': 1049, 'å£71': 8037, '4u': 1289, 'week': 133, 'cs': 1938, 'muz': 819, 'vodafone': 3402, 'clip': 4757, 'male': 2104, 'exam': 759, 'hasnt': 5575, 'payments': 6582, 'nitz': 6379, 'ma': 1398, 'snow': 737, 'polys': 1236, 'raj': 6822, 'hello\\\\': 5604, 'tom': 2254, '08715203677': 3616, 'talking': 738, 'as': 86, 'gravity': 2799, 'uk/games': 7662, 'seen': 736, 'appreciated': 2470, 'words': 607, '83600': 1827, 'read': 735, 'pist': 6633, 'expires': 622, 'couple': 712, 'gaps': 5421, 'forwarded': 2767, 'kane': 5900, 'strong': 1445, 'sinco': 7141, 'news': 732, 'mom': 728, 'idk': 2838, 'gam': 5416, 'text82228>>': 7493, 'teacher': 2239, 'he': 67, 'frontierville': 5394, 'dignity': 2663, 'behalf': 4457, 'everytime': 5214, 'lots': 726, '08717205546': 3622, '09061701444': 3671, 'leftovers': 6002, 'remains': 3145, 'hypotheticalhuagauahahuagahyuhagga': 5703, 'apes': 4277, '09063458130': 3682, 'atlast': 2478, 'sharing': 7079, 'textcomp': 2243, 'might': 320, '09066368470': 3702, 'raise': 2168, 'roommate': 1699, 'found': 717, 'toshiba': 3354, 'kids': 1061, 'silver': 7136, 'sheets': 2198, 'killed': 2891, 'impatient': 2840, 'arrange': 1311, 'catching': 1908, 'heart': 367, '08002986030': 3560, 'posted': 1238, 'carlos': 706, 'answer': 703, 'steal': 7310, 'later': 132, 'flights': 1591, 'sculpture': 7029, 'waking': 1471, 'statement': 686, 'brains': 4542, 'paperwork': 3048, 'postal': 6689, '=d': 1295, 'sister': 683, '18/11/04': 3770, 'aiyah': 1510, 'saucy': 3183, 'cars': 1330, 'maangalyam': 6104, 'feels': 1190, 'gift': 497, 'minute': 727, '08448350055': 3568, 'chg': 4718, 'part': 508, 'iwana': 5827, 'player': 677, 'knw': 672, 'simply': 1439, 'argument': 1858, 'had': 134, 'girls': 668, 'handset': 1364, 'onwards': 3031, 'once': 395, 'wld': 3429, 'sigh*': 7128, 'gpu': 5492, 'choose': 661, 'landline': 413, 'touch': 648, 'gotten': 2796, 'mindset': 6205, 'logo/pic': 6055, 'citizen': 1918, 'okors': 6456, 'saturday': 774, '-': 81, 'todays': 645, 'bakrid': 4401, 'ger': 5441, 'hanger': 5558, 'missed': 503, 'miserable': 2977, 'win150ppmx3age16': 7894, 'blackberry': 1529, 'goodnoon': 2794, 'norm': 2133, 'messy': 2971, 'sofa': 1252, 'texd': 7492, 'chinese': 1545, 'forget': 716, 'lets': 632, 'thats': 337, 'weirdo': 7852, 'snowboarding': 7198, 'recognises': 6859, '8-8': 4001, 'totally': 2255, 'yr': 743, '83110': 4017, 'library': 963, 'game': 625, 'drive': 621, '08712400602450p': 3597, 'burger': 1895, 'cheap': 1031, 'answering': 1514, '08701417012150p': 3574, 'few': 317, 'teaches': 3312, 'company': 616, 'bangbabes': 4410, 'meanwhile': 2958, 'broad': 2541, 'weeks': 1006, 'low': 2932, 'elama': 5147, '150p/day': 3753, 'saying': 599, 'wocay': 7915, 'pounds': 772, '150p': 610, '*stomps': 2303, 'smth': 685, 'seriously': 3203, 'doubt': 2677, 'console': 4826, 'turn': 2258, 'å£350': 1141, 'thread': 3338, 'sae': 598, 'wif': 488, 'printing': 6742, 'lies': 2907, 'yoga': 1278, 'falls': 2732, 'zoom': 8014, 'missing': 595, 'yay': 2291, 'whilltake': 7882, 'money': 201, 'fri': 593, 'calling': 589, 'deliver': 1344, 'countin': 2622, 'attended': 4353, 'completely': 1556, 'tick': 2251, 'easy': 469, 'reaction': 6844, 'rencontre': 6894, 'bored': 587, 'rule': 2185, 'legs': 2082, 'outta': 1655, 'oyea': 6529, 'å£2000': 581, 'bluff': 4506, 'zoe': 3454, 'ouch': 6499, '434': 1817, 'neva': 571, 'our': 106, 'supply': 3291, 'bt-national-rate': 1325, '09058098002': 3667, 'problematic': 6750, 'menu': 1636, 'touched': 3355, 'reppurcussions': 6902, 'philosophy': 2147, 'dude': 568, '09050005321': 3655, 'wasn\\x89û÷t': 7818, 'could': 219, 'subscription': 2228, 'sweet': 455, 'paris': 1658, 'invaders': 5791, 'nigeria': 1075, '50rcvd': 3937, 'address': 564, 'system': 1263, 'awesome': 657, 'christ': 4739, 'mrng\\\\': 6267, 'nachos': 6310, '4*': 563, 'showr': 7120, 'gautham': 2014, 'last': 188, '12hrs': 562, '4give': 3906, 'birds': 1878, 'comfey': 4786, 'goodo': 5482, 'range': 3121, 'den': 328, 'itself': 874, 'hence': 2818, '08000930705': 697, 'dollar': 2673, 'worlds': 7928, 'red': 1095, 'retrieve': 3153, 'tis': 2252, 'nite': 549, 'vouchers': 784, 'hungry': 669, 'really': 156, 'secret': 988, 'lousy': 2928, 'theory': 3329, 'http': 546, '08701213186': 3572, 'awake': 1522, 'full': 543, 'lions': 2913, 'escape': 1976, 'crore': 4880, '*childish': 3477, 'swiss': 3299, 'leads': 5998, 'slower': 7167, '//wap': 3521, 'ended': 1970, 'smoke': 601, 'lttrs': 6084, 'attractive': 4357, 'moby': 2117, '//www': 747, 'spoiled': 3260, 'tiring': 7552, 'yourself': 531, 'pre-book': 6715, 'true': 530, 'walking': 1767, 'irritating': 2056, 'mobileupd8': 884, '0871750': 3623, 'anytime': 655, 'contacted': 1930, 'started': 528, 'concentrating': 4808, 'topic': 3353, 'tonight': 211, 'measure': 2109, 'hr': 1374, 'trusting': 7624, 'since': 527, 'endowed': 5167, 'run': 526, 'meeting': 370, 'ok': 58, '41685': 2381, 'in2': 2045, 'ldnw15h': 2080, 'ppt150x3+normal': 6701, '1120': 3737, 'dress': 2681, 'determined': 4985, 'quit': 2167, 'cr9': 1340, 'finalise': 5300, 'weddingfriend': 7843, 'wot': 518, 'india': 767, 'rpl': 6966, 'resume': 3152, 'phony': 6622, '8007': 653, 'tv': 513, 'cumming': 4901, 're-schedule': 3125, 'if': 43, 'ac/w/icmb3cktz8r7': 4165, 'log': 812, 'also': 217, 'ttyl': 1753, 'swap': 7420, 'dear': 143, 'elaine': 2704, 'saw': 509, 'båõday': 2548, 'build': 4594, 'frndshp': 5389, 'lucozade': 2934, '88222': 2413, 'sub': 1733, 'auction': 611, 'doke': 5047, 'games': 762, 'oso': 507, '\\\\for': 4091, 'tel': 781, 'hot': 502, 'break': 659, 'accident': 1841, 'drove': 5080, 'crisis': 2628, 'textbook': 7495, 'nxt': 1228, 'happen': 500, 'stressed': 7344, 'gently': 2786, 'future': 1196, 'cd': 1331, 'dump': 5096, 'networks': 3014, 'sleeping': 684, 'huh': 475, 'say': 152, 'mum': 548, 'wud': 3437, 'dealer': 2638, 'eerie': 5134, '\\\\i': 1499, 'nike': 6370, 'onto': 1410, 'dd': 4937, 'tot': 485, 'fletcher': 5318, 'wonderful': 786, 'around': 198, 'tee': 3317, 'å£1500': 3456, 'include': 2844, 'aint': 1845, 'themob>yo': 7513, 'hes': 2820, 'wah': 3408, 'ringtone': 482, 'pain': 481, '1stchoice': 3780, 'affair': 2443, 'online': 480, '9-6': 4049, 'western': 7864, 'develop': 2655, 'merry': 1224, 'paying': 1084, 'netcollex': 1644, 'price': 525, 'punish': 6787, 'indicate': 2847, 'however': 1054, 'bad-': 4395, 'means': 478, 'short': 1438, 'breathe1': 4556, 'mack': 6111, 'recovery': 6863, 'welp': 3418, 'arts': 2475, 'costå£1': 2621, 'eek': 2698, '1000s': 1799, 'holiday': 332, 'calicut': 2553, 'inclusive': 1609, 'mad1': 6114, 'thatmum': 7503, 'boobs': 4518, 'write': 1132, 'hair': 472, 'tortilla': 7593, 'aunty': 2483, 'else': 470, 'sexychat': 7065, 'brothers': 4575, 'alex': 1149, 'bugis': 1163, 'theacusations': 7505, 'formally': 5345, 'dislikes': 1956, 'movie': 504, 'questioned': 6809, 'messaged': 2968, 'ladies': 1620, 'fooled': 5335, 'chikku': 468, '09066368327': 3701, 'aftr': 1301, 'sony': 1254, 'add': 1146, '125gift': 2345, 'transferred': 7604, 'anythingtomorrow': 4276, 'rumbling': 6977, 'busy': 466, 'voila': 7780, '2morrow': 3823, 'press': 1239, 'bet': 1527, 'years': 462, 'quiz': 1091, 'becoz': 2501, 'march': 816, '2geva': 2362, 'somewhere': 900, 'more\\\\': 6251, 'missunderstding': 6219, 'ground': 2023, '7548': 3988, 'wk': 459, 'biola': 4484, 'comes': 800, 'tired': 910, 'ofice': 3026, 'taken': 1738, '100p/sms': 3731, '\\\\wow': 4137, 'fellow': 5281, 'premarica': 6722, '4-tc': 2378, 'ecstasy': 5123, 'though': 457, '1stone': 3781, 'walmart': 2275, 'kidz': 2890, 'dip': 5011, 'wuld': 7953, 'sucks': 1114, 'tait': 7450, 'morphine': 2989, 'those': 456, 'consent': 4823, 'fated': 5269, 'fires': 5307, 'forgot': 429, 'option': 3035, '7oz': 3997, 'is/are': 5811, 'call': 26, 'lunch': 296, 'wife': 651, 'goals/team': 5465, '07973788240': 3558, 'trash': 7606, 'sch': 451, 'says': 450, 'where': 137, 'haf': 448, 'didnt': 447, 'street': 903, 'popcorn': 3084, '\\\\hello': 4099, 'update': 559, 'appreciate': 1025, 'property': 3107, 'craziest': 2625, 'ything': 8005, 'nicky': 6363, 'rs': 1099, 'sed': 3194, 'palm': 6538, 'biggest': 2511, 'colour': 567, 'enjoyed': 1973, 'saibaba': 6992, 'seh': 7043, 'stressfull': 7345, 'somebody': 990, 'yar': 742, 'suganya': 7390, '82468': 2407, 'show': 452, 'skyped': 3229, 'cruise': 4887, 'mean': 547, 'receiving': 1689, 'turning': 3367, 'awarded': 350, '83021': 4015, 'soul': 7229, 'msgrcvd18+': 6273, 'princess': 439, 'decisions': 2641, 'boo': 1885, 'hi': 109, '86021': 1493, 'free-nokia': 5367, '08719899217': 3644, '150p/min': 1802, 'ain': 1509, 'when/where': 7877, 'ignore': 2044, 'sexy': 510, 'amk': 4246, '09099725823': 3718, 'hum': 5688, 'po': 438, 'special': 453, 'sweetie': 3296, 'prescription': 3096, '08704439680ts&cs': 3582, 'must': 434, 'wedding': 2279, 'scrounge': 3190, 'interview': 2052, 'islands': 2057, 'voicemail': 3404, 'call2optout/4qf2': 4625, '1327': 1283, 'so': 33, 'min': 321, 'test': 557, '____': 4143, '82324': 4014, 'have': 23, 'galileo': 2778, '08718727868': 3633, '3miles': 3863, 'callså£1/minmobsmorelkpobox177hp51fl': 2558, 'valentines': 1466, 'birthday': 426, 'dippeditinadew': 5012, 'away': 424, 'sundayish': 7397, 'months': 1070, 'costa': 1934, 'actually': 422, 'both': 521, '09050000878': 3650, 'luck': 964, '2nd': 421, 'hiya': 870, 'studyn': 7364, 'realize': 3127, '//img': 3519, 'å£1': 420, 'mumbai': 6286, 'looking': 415, 'rec': 3130, 'thurs': 1457, 'goin': 498, 'dl': 5034, 'transport': 3361, 'opportunity': 1652, 'miss': 195, '88039': 1495, 'ever': 330, '08712405022': 2323, 'rip': 6947, 'valuable': 3391, 'meets': 2959, 'bids': 2510, 'aiya': 1846, 'houseful': 5673, '08712402578': 3599, 'aft': 654, 'timin': 7548, 'rock': 987, 'medical': 1401, 'mandara': 6132, 'yest': 1135, 'wear': 1770, 'shorts': 7112, '09077818151': 3711, 'absolutly': 4160, 'old': 553, 'ltdhelpdesk': 6083, 'gap': 2012, 'stops': 3274, 'send': 87, 'disk': 5023, 'lk': 2917, 'ppm': 2156, 'dramastorm': 5069, 'q': 1681, 'lot': 369, 'weirdest': 3417, '10p': 844, 'fault&fed': 5273, 'willing': 1475, 'brain': 4541, 'egbon': 5137, 'either': 757, 'å£800': 1783, 'vill': 7768, 'kicks': 2888, 'funny': 1195, 'apart': 2466, 'v': 236, 'vague': 7739, 'go2sri': 5463, 'quizclub': 6812, 'mrt': 974, 'cold': 1034, 'box': 362, 'ore': 6485, '\\\\oh': 1837, 'save': 1101, 'sweets': 3297, 'ear': 2691, 'slo': 3237, '150ppmsg': 3763, 'impossible': 2841, 'definitly': 4957, 'grow': 5516, 'drinkin': 2683, 'up4': 3380, 'would': 168, 'work': 166, 'lucy': 2935, 'code': 364, 'love': 76, 'services': 600, 'obey': 6432, 'right': 162, 'an': 153, 'matches': 1400, 'lovers': 2931, 'making': 433, 'spile': 3259, 'front': 2772, '08719180219': 3638, 'urgnt': 2267, 'reasons': 1688, 'bookshelf': 4521, 'cell': 1165, 'content': 711, 'worry': 442, 'crucial': 4884, 'way': 149, 'shoot': 1719, 'fuck': 410, '2morrowxxxx': 3824, '\\\\': 292, '69888nyt': 3977, 'stress': 2224, 'wkg': 3427, 'quality': 1682, 'callers': 2557, 'flirt': 1191, 'january': 1383, 'ennal': 5174, 'helen': 2816, 'grahmbell': 5496, 'message': 190, 'siva': 3225, 'yeah': 157, 'getiing': 5443, 'spk': 2217, 'happenin': 5563, 'cooperative': 4836, 'loved': 814, 'cc100p/min': 4667, 'hire': 5635, 'make': 142, 'vip': 1763, 'ho': 1368, 'trains': 3358, 'academic': 2434, 'caught': 1909, 'or': 36, 'bleak': 4492, 'representative': 1431, 'check': 340, 'aha': 923, 'alle': 4232, 'pocketbabe': 3077, 'compromised': 4803, 'specially': 1256, 'listn': 6043, 'keep': 203, 'kvb': 5952, 'air': 1304, 'cloth': 4762, 'die': 1040, 'athome': 4346, '10': 519, 'previews': 6734, '07742676969': 3544, 'reckon': 3134, 'atlanta': 2477, 'slovely': 7166, 'life': 179, '447801259231': 3891, 'm39m51': 6100, '08712466669': 3604, 'dis': 494, '09065989182': 2337, '84199': 2409, 'dhanush': 4991, 'finishes': 1996, 'tuition': 1754, 'canceled': 4640, 'gona': 2019, 'happened': 628, 'heavy': 1367, '*grins*': 746, '09066368753': 3703, 'tyler': 1270, 'wa': 7791, 'renting': 6895, 'jez': 5858, 'help': 226, 'cash': 199, 'sun': 577, '\\\\go': 4095, 'selected': 555, 'babe': 186, 'ofsi': 6446, 'ec2a': 2695, 'margin': 6142, 'sorry': 115, 'brings': 1323, 'telphone': 7482, 'cha': 1912, 'even': 220, 'its': 75, 'west': 3419, 'connection': 1557, 'back': 90, 'å£250': 788, 'haha': 256, 'smoked': 7185, 'moves': 2991, '87066': 922, 'think': 121, 'gurl': 5535, 'wants': 605, '30th': 3845, 'goin2bed': 5470, 'blake': 1883, 'her': 113, 'steamboat': 7313, 'bright': 2537, 'worries': 1478, 'thing': 216, '1013': 3733, 'ah': 313, 'dizzamn': 5032, 'knocking': 5938, 'reg': 3137, 'scold': 3186, 'whom': 2284, 'crab': 1935, 'toaday': 7567, '195': 3772, 'tht': 1266, 'havenåõt': 2812, '0906346330': 3683, '+447797706009': 3495, 'adventuring': 4198, '087187262701': 2325, '08452810073': 2318, 'mobile': 118, 'poly': 640, 'guide': 1362, 'usually': 1761, 'bslvyl': 1162, 'callin': 1898, 'kb': 1212, 'till': 644, 'counts': 4855, 'ice': 954, 'dusk': 5100, 'la': 1390, 'row/w1jhl': 3164, 'okie': 733, 'celebrations': 4673, 'dreamz': 5074, 'sam': 3177, 'wo': 3431, '*missing': 3484, 'finding': 5301, '16+': 532, 'winning': 3424, 'prof': 3103, 'sonetimes': 7216, 'arent': 2472, 'problem': 323, 'tsandcs': 7626, 'staff': 2219, 'some': 116, 'sections': 7038, 'followed': 2001, 'cc': 1910, 'new': 114, '08706091795': 2320, 'excellent': 1186, 'helping': 5610, 'brought': 1533, 'homeowners': 5652, 'rite': 576, 'of': 22, 'known': 5939, 'replied': 1429, '*9': 2300, '08718723815': 3629, 'single': 1248, 'xmas': 560, 'pretsovru': 6733, '09050000928': 3651, 'wishlist': 7905, '5p': 3948, '4eva': 2385, 'earliest': 5113, 'notxt': 6409, 'presleys': 6726, 'tmr': 458, 'science': 2189, 'spoke': 2218, 'jump': 5882, 'santacalling': 7003, 'plan': 372, 'nearer': 6331, 'iåõm': 1612, 'linear': 6032, '2stop': 2367, 'improve': 5747, 'usf': 1002, 'mobiles': 971, 'govt': 2797, '$5': 3462, 'nature': 2129, 'bk': 4489, 'tension': 3324, 'somerset': 7209, 'national': 820, 'limping': 6029, 'fucks': 5399, 'worms': 7929, 'payasam': 6577, 'x49': 3438, 'knew': 810, 'time': 74, 'car': 327, 'ans': 795, 'changed': 1332, '3-u': 3836, '16': 582, 'notes': 6404, 'butt': 1897, 'laying': 5991, 'gals': 1357, 'happiness': 952, 'lemme': 1216, 'loosing': 6066, 'passed': 3052, 'picture': 2148, 'uk/reward': 7664, 'sheffield': 7084, 'voucher': 649, '30': 699, '\\\\what': 1500, 'polyc': 6669, 'invited': 956, 'hand': 1050, 'nite+2': 6376, 'skint': 7155, '08714712394': 3611, 'yetty': 7983, 'claim': 145, 'all': 62, 'tried': 558, 'y': 277, 'meet': 164, 'brownie': 4578, 'hava': 5580, 'name': 285, 'hello': 262, 'sad': 680, 'jackpot': 5836, 'get': 40, 'cali': 2552, 'website': 1472, 'eta': 2715, 'along': 1512, 'ship': 3210, 'insurance': 1058, 'travel': 1751, 'question': 679, 'miracle': 2115, 'partner': 1411, 'shld': 2200, 'putting': 1418, 'wipro': 3425, 'mob': 635, 'hooked': 5661, 'do': 39, 'ill': 283, 'convenience': 4831, 'living': 1626, 'close': 707, 'lark': 5980, 'situation': 1249, '09050001295': 3652, 'lanka': 5974, '*smacks': 3492, 'havent': 473, 'th': 907, 'ms': 6268, 'yours': 609, 'yes': 158, 'not': 34, 'leaves': 1622, '750': 652, 'landing': 5969, 'i\\x89û÷ll': 2062, '150p/text': 3760, 'election': 5150, 'sporadically': 7269, 'belly': 1315, 'times': 512, 'sipix': 3222, 'yrs': 1279, 'fran': 2005, 'bonus': 536, 'nvm': 1646, '1st': 379, 'jack': 5835, 'age': 702, 'abi': 1501, 'haul': 5579, 'torture': 7594, 'asa': 4321, 'video': 377, 'wither': 7908, 'coast': 2593, 'hospital': 1207, 'catch': 929, '1030': 2340, 'amount': 1307, 'sliding': 7162, 'latr': 2904, 'spider-man': 7253, '\\\\im': 2425, 'newest': 3015, 'jus': 345, 't&c': 556, '\\\\how': 2424, 'trouble': 1268, 'makes': 570, 'ibored': 5709, 'pleasured': 6644, 'supposed': 995, 'medicine': 2110, 'upd8': 3381, 'friend': 261, 'rice': 6935, 'friday': 761, 'then': 66, 'xuhui': 3441, '!': 11, 'bulbs': 4596, '07801543489': 3548, '930': 4053, 'hussey': 5697, 'tm': 1748, 'terrific': 7487, 'hope': 131, '08006344447': 3562, 'tight': 3342, 'facebook': 945, 'prediction': 6719, 'login=': 2094, 'takes': 687, 'flurries': 5326, '=': 792, 'mths': 2122, '28': 1808, 'plz': 554, 'kickoff': 5921, 'urgh': 7721, 'made': 524, 'refused': 3136, 'that': 21, 'anyway': 463, '150': 1016, 'ìï': 213, '//careers': 3516, '20p/min': 2354, 'w45wq': 2272, 'usc': 2268, 'computational': 4805, 'questions': 984, 'scrumptious': 7028, 'fudge': 5400, 'fan': 2733, ')': 30, 'bank': 751, 'still': 91, 'tomo': 579, 'hopefully': 2035, 'daytime': 4934, 'groovying': 5515, 'caller': 660, 'pass': 823, 'basket': 4425, '2': 29, 'sac': 3172, 'mis': 2976, 'elvis': 5154, 'frying': 2008, 'minecraft': 6206, 'god': 411, 'reliant': 6883, 'pink': 3067, 'pretty': 893, 'cal': 1328, '1131': 3738, 'ths': 7537, 'cover': 1561, 'rent': 1097, 'little': 477, 'depression': 4976, '8': 584, 'place': 243, 'pressure': 6729, 'from': 57, 'php': 3063, 'profit': 1679, 'play': 437, 'ac/u/goldviking': 4163, '87077': 1020, 'thinks': 908, 'nothing': 387, 'darren': 755, 'properly': 3106, 'reference': 1096, 'sim': 2204, '542': 1821, '08718726270': 2324, 'take': 108, 'parents': 821, 'please': 105, 'lip': 2914, 'bowls': 4531, 'clock': 1548, 'schools': 3185, 's&c': 1703, 'local': 2092, 'arises': 4306, '0089': 3524, 'ansr': 2460, 'thin': 7521, 'pissed': 1665, '5': 303, 'prasad': 6710, '2u2': 3832, 'loverboy': 1221, 'boggy': 4512, 'network': 435, 'nan': 2126, 'plenty': 1414, 'savamob': 1437, 'complete': 1555, 'aight': 338, 'cn': 2592, 'fool': 2760, 'nasty': 3005, 'what': 53, 'dsn': 1964, 'mmm': 1639, 'soundtrack': 7230, 'after': 165, 'strain': 7342, '5k': 3946, 'gr8': 763, 'be': 42, '2px': 3829, 'batch': 2493, 'wthout': 7951, 'beautiful': 565, '0796xxxxxx': 3557, 'tactless': 7445, 'another': 339, 'sat': 358, 'girl': 381, 'come': 73, 'dot': 5059, 'shouted': 7114, 'yck': 3446, 'fantasies': 1584, 'big': 352, 'second': 681, 'basketball': 4426, 'mcfly-all': 6163, 'tddnewsletter@emc1': 7474, 'drama': 5068, '80608': 2404, 'due': 2689, 'prestige': 6730, '25': 1285, 'sunoco': 7398, 'msg': 184, 'gibe': 5449, 'dat': 299, 'ntt': 1077, '\\\\checkmate\\\\': 4083, 'flag': 1355, 'stuff42moro': 7366, 'w': 741, 'senor': 7049, 'same': 265, 'sar': 3178, 'suite': 3284, 'id': 670, 'expect': 1580, 'lesson': 631, 'ba128nnfwfly150ppm': 4384, 'reflex': 6871, 'arrested': 1860, 'joy': 1386, 'mb': 2956, 'ads': 4196, 'resend': 6906, 'sg/~phyhcmk/teaching/pc1323': 7067, '24': 2358, 'know': 60, 'promptly': 6763, 'how': 50, 'use': 257, 'club': 708, 'tat': 2234, 'textbuddy': 3326, 'kisi': 5929, 'olayiwola': 6459, 'electricity': 2705, 'my': 17, 'drms': 2685, 'laptop': 959, '3xå£150pw': 3870, 'orange': 396, 'garbage': 2779, 'laid': 2078, '100': 698, 'wetherspoons': 7868, 'net': 505, 'camera': 428, 'crashing': 4870, 'frnt': 5391, 'thk': 244, '*****up': 3473, 'creep': 4874, 'parantella': 6552, '$2': 3460, 'planning': 1086, 'hogolo': 5647, 'toclaim': 3348, 'black': 1528, 'haven': 544, 'potential': 6694, 'maybe': 356, 'holby': 5648, 'walls': 2274, 'original': 1653, 'box39822': 2532, 'gucci': 5525, 'wine': 1476, 'ml': 6228, 'is': 15, '08448714184': 3569, 'bread': 2535, 'goes': 412, '<pad>': 1, 'customer': 268, 'six': 3226, 'yup': 311, 'quote': 1684, 'ham': 2807, 'served': 7058, 'tiger': 7541, 'great': 127, 'izzit': 1381, 'stool': 7329, 'indians': 2048, 'callcost': 4631, '25p': 1018, 'ron': 1698, 'hmm': 723, 'mi': 6194, 'rcd': 6838, 'txt': 98, 'mon': 1069, 'no1': 1405, 'andres': 4262, '10p/min': 1015, 'orh': 6490, 'subscriptions': 7377, 'minutes': 385, 'pull': 3112, '087187272008': 3632, 'venugopal': 7756, '10/06/03': 3730, 'sitting': 1108, 'å£500': 745, 'about': 89, '08717890890å£1': 3625, '09061701851': 3672, '80155': 4006, 'wiv': 1276, 'terry\\\\': 7489, 's': 24, 'throw': 3341, 'nag': 3000, 'esplanade': 1977, 'babysit': 4390, 'valid': 486, 'decades': 4943, 'whatever': 693, 'otbox': 6495, 'mountains': 6262, 'screaming': 1708, 'flavour': 5316, '153': 2349, 'office': 436, 'da': 97, '5ish': 3945, 'top': 604, 'gsoh': 5522, 'ratio': 6834, 'tscs': 3365, 'shitload': 7100, 'u': 12, 'ha': 627, 'dare': 1944, '\\\\yeh': 4140, 'ammae': 4248, 'ali': 2452, 'now': 31, 'evry': 2719, 'rejected': 6879, 'dartboard': 4928, 'snogs': 3242, 'kind': 671, 'kanagu': 5899, 'expensive': 1188, 'urgent': 196, '0870753331018+': 3585, 'and': 13, 'shell': 7085, 'pending': 2144, 'lengths': 6007, 'attempt': 534, 'aunts': 4363, 'anal': 4258, 'eat': 353, 'ques-': 3115, 'machan': 2100, 'clear': 1921, 'geeeee': 2781, 'funs': 5408, '09066649731from': 3706, 'eng': 1972, 'fucking': 666, 'donåõt': 1573, 'personal': 2146, 'frankie': 5359, 'wrote': 7946, 'king': 1213, '08719899230': 3646, '\\\\life': 2426, '30pp/txt': 3843, 'imp': 5741, '2morro': 2365, 'aunt': 2482, 'gonna': 254, 'wrong': 918, 'flat': 1590, 'monoc': 6247, 'career': 2567, 'treat': 689, 'server': 7059, 'let': 175, 'long': 270, '50p': 1819, '//doit': 3517, '40gb': 1288, 'limited': 6026, 'vl': 1125, 'uncle': 740, '2006': 3790, 'shoranur': 7107, 'at': 38, 'reason': 773, '8800': 4035, 'can': 28, 'lor': 84, 'box95qu': 1889, 'beer': 1872, '$350': 3461, '0808': 3563, 'hoped': 2826, 'scarcasim': 7017, '09061221066': 2333, 'royal': 3165, 'through': 835, '\\\\julianaland\\\\': 4105, 'calls': 566, 'clash': 4750, 'essential': 1978, 'depends': 1039, 'somethin': 1727, 'pple': 1417, '3lions': 3862, 'yunny': 3451, 'nit': 3018, 'sq825': 7279, '08719181513': 3642, 'map': 2949, 'wit': 696, '0870': 1281, 'll': 65, 'england': 941, 'together': 739, '2004': 1144, 'out': 61, 'oni': 1650, 'ran': 6830, 'pub': 678, 'parco': 3049, 'don': 95, 'ntwk': 3022, 'eerulli': 5135, 'sis': 642, 'coming': 247, 'mp3': 1073, 'åð': 2296, '-xx': 3512, 'believe': 535, 'pride': 6736, 'nationwide': 6322, 'dun': 224, 'has': 141, '4d': 2384, 'dudes': 5091, 'nighters': 6366, 'empty': 1182, 'mid': 1637, 'fancied': 5263, 'jenne': 5855, 'kodstini': 5942, 'mei': 2960, 'more': 135, 'shouldn': 1721, '145': 3750, 'credits': 1036, 'å£10': 1138, 'day\\\\': 1565, 'area': 926, 'invite': 2053, 'ref': 1690, '09050001808': 3653, 'neck': 3011, 'fat': 1189, 'comfort': 4787, 'put': 440, 'apply': 391, 'soundåõs': 7231, 'o': 770, 'curfew': 4903, 've': 146, 'truth': 912, 'job': 288, 'walkabout': 7801, 'sprint': 7276, 'too': 130, 'ooh': 6473, 'locations': 2920, 'wil': 785, 'outdoors': 6506, 'thesedays': 7518, 'pubs': 6781, 'deus': 2654, 'leaving': 673, '08715205273': 3619, 'raised': 6821, '61200': 3959, 'prizeswith': 6747, 'uncles': 3376, 'co': 267, 'that\\x89û÷s': 2247, 'us': 212, 'aiyar': 1847, 'favourite': 1987, 'hate': 1366, 'alcohol': 1849, 'com/index': 2599, 'multimedia': 6284, 'cine': 1166, 'drugs': 936, 'someone': 215, 'bus8': 4609, '?': 8, '4xx26': 3919, 'vry': 2271, 'str8': 7341, 'unconvinced': 7680, 'people': 322, 'relationship': 6881, 'clearly': 2590, 'weekdays': 7848, 'cute': 1168, '18+': 583, 'forum': 5351, 'oclock': 6439, 'stocked': 7327, '50s': 3938, 'flaky': 2750, 'converted': 4833, 'penny': 6591, 'on': 25, 'profiles': 6757, 'dnt': 1572, 'country': 1339, 'pick': 221, 'phoenix': 6619, '*sent': 3490, 'formatting': 5347, 'important': 449, 'bathing': 1870, 'lyricalladie': 6097, 'daddy': 935, '07090201529': 3538, 'loud': 6073, 'cherish': 4712, 'os': 3040, 'regular': 3141, 'gotta': 809, 'apologize': 4282, 'first': 225, 'nobody': 1076, 'no': 47, 'sleep': 227, '<ukp>2000': 4063, '09050090044': 2329, 'ay': 4375, 'reading': 1094, 'em': 939, 'sunny': 2230, 'argh': 2473, 'mind': 384, 'you': 4, 'rearrange': 6848, 'wins': 2286, 'identifier': 630, 'worried': 841, 'feel': 235, 'jackson': 5837, 'mj': 6225, 'house': 318, 'bend': 4461, 'bell': 1874, 'closer': 1550, 'c': 173, 'hasbro': 5574, 'behave': 2504, 'stay': 454, 'hyde': 2837, '88877': 4039, 'xam': 7958, 'accomodate': 4169, 'hun': 1606, 'knickers': 5937, 'million': 6199, 'got': 69, '5/9/03': 3923, 'suntec': 2231, 'bull': 4597, 'raksha': 6827, '150ppm': 378, 'snake': 2210, '69888': 3976, 'privacy': 3100, 'lakhs': 5964, '61': 3958, 'leave': 240, 'begun': 4456, 'polyph': 6671, '07734396839': 3543, 'bob': 4511, 'im': 174, 'training': 997, 'prob': 734, 'dinner': 329, 'soon': 239, '06/11/04': 3536, 'good': 70, 'availa': 4367, 'sen': 2195, 'wen': 692, 'wan': 245, 'pap': 6546, 'reach': 357, 'took': 647, 'disaster': 5017, 'famous': 5262, 'always': 246, 'unique': 2262, 'hour': 474, 'omg': 1079, 'moan': 1402, 'ts&cs': 998, 'phones': 1233, 'cappuccino*': 4646, 'subscribe6gbp/mnth': 3281, 'jazz': 1613, 'anythin': 2464, '***********': 2299, 'priscilla': 3099, 'eyes': 1045, 'idiot': 2043, 'over': 202, 'near': 1074, 'puzzles': 6801, '40': 2379, 'revealed': 3156, 'lect': 962, 'spares': 7239, 'language': 2901, 'move': 973, 'refreshed': 6873, 'go': 54, 'latest': 354, 'dr': 2680, 'seat': 7032, 'post': 892, 'playing': 2153, 'waiting': 258, 'links': 6036, 'spiritual': 7258, 'mate': 817, 'r': 103, '&amp': 232, '449050000301': 3893, '\\\\drive': 4088, 'horny': 1371, 'charge': 538, 'pics': 572, 'reveal': 3155, 'violence': 3400, 'actual': 2437, 'dvd': 1179, 'alright': 423, 'uks': 3374, 'watching': 401, 'selection': 1711, 'finance': 2746, 'adore': 1844, 'bold': 1159, 'uk/wave/wave': 7666, 'sitll': 7146, 'loan': 1218, 'kiss': 876, 'statements': 7306, 'fine': 273, 'dancing': 2635, 'responsibilities': 6918, 'these': 511, 'yo': 302, 'year': 278, 'hollalater': 5650, '21/f': 3794, 'the': 10, 'karaoke': 2884, 'going': 83, 'days': 300, 'number': 155, '2667': 3809, 'hassling': 5576, 'cool': 281, 'offers': 1229, 'triple': 7614, 'milk': 2114, 'morn': 2988, 'g': 496, 'needs': 596, 'sudden': 7386, 'bring': 465, 'bucks': 1030, 'soladha': 7203, 'accent': 4166, 'worth': 787, 'ard': 492, 'studying': 1113, 'icicibank': 5713, 'relieved': 6884, 'holla': 1205, 'public': 3111, '09094646631': 3714, 'win': 231, 'weapon': 7835, 'pa': 397, 'having': 304, 'watch': 360, 'brandy': 4544, 't&cs': 578, 'things': 308, 'å£750': 8039, 'site': 3224, 'sign': 2202, 'fishrman': 5310, 'tone': 309, '0800': 843, 'swell': 7426, 'coping': 2620, '9th': 4061, 'version': 1762, 'spam': 7238, 'card': 753, 'details': 522, 'textpod': 3327, 'snickering': 7194, 'joining': 2875, 'commercial': 2601, '30s': 3844, 'maths': 6153, 'enjoy': 316, 'janx': 5844, 'day': 79, 'justfound': 5886, 'misundrstud': 6221, 'prize': 161, 'deliveredtomorrow': 1951, 'throws': 7536, 'denying': 4972, 'missionary': 6217, 'cinema': 1336, 'stoptxtstopå£1': 7336, 'half': 331, 'lololo': 6060, '09064017295': 3685, 'shaved': 7081, 'missin': 2116, 'real': 334, 'africa': 4206, 'studentfinancial': 7361, 'administrator': 2440, 'netun': 6352, '08712300220': 1484, 'face': 341, 'bimbo': 4483, 'practice': 2158, 'elsewhere': 1969, 'maretare': 6141, 'why': 172, 'imma': 1056, 'okay': 552, 'common': 1553, 'confirm': 853, 'stuff': 291, 'afternoon': 491, 'during': 1043, 'outfit': 6507, '\\\\power': 4116, 'here': 128, 'vary': 2269, 'fr': 718, 'shy': 3218, '*exposes': 3481, 'discuss': 1955, 'hear': 344, 'comprehensive': 4802, '42810': 3887, '7zs': 4000, 'yellow': 7976, 'ticket': 1458, 'geeee': 2016, 'prayrs': 6713, 'word': 347, 'mm': 970, 'itz': 5825, '6': 349, 'hook': 1369, 'traffic': 3357, 'double': 619, 'appendix': 4285, '7': 390, 'bad': 425, 'unlimited': 690, 'dunno': 365, '09058097189': 3666, 'discussed': 2666, 'bathe': 849, 'gets': 950, 'trip': 529, 'force': 2763, '11mths+': 1486, '\\\\enjoy\\\\': 4089, 'refund': 6874, 'tok': 7573, 'til': 484, 'ldn': 1215, 'hopeing': 5663, 'congratulations': 710, 'like': 64, '89938': 4045, 'mcat': 2957, 'messages': 634, 'charges': 1543, 'revision': 3157, '2rcv': 3830, 'hanumanji': 5562, 'jo': 2872, 'tagged': 7447, 'ldew': 1214, 'tt': 1752, 'pay': 371, 'hands': 2027, 'before': 205, 'nahi': 3001, 'phoned': 3062, 'awaiting': 1151, '[colour=red]text[/colour]txtstar': 4069, 'look': 383, 'incorrect': 5751, 'tree': 3363, 'stubborn': 7359, '3mins': 1815, 'open': 637, 'euro2004': 5200, 'memorable': 6178, 'moseley': 6253, 'propsd': 6767, 'ahead': 1302, 'sure': 189, 'talk': 271, 'gloucesterroad': 5458, 'gives': 1360, 'ls278bb': 6081, 'subscriptn3gbp/wk': 7378, 'month': 386, 'confidence': 1926, 'it*': 5819, 'rajitha': 6826, 'de': 540, 'ideas': 2042, '-|': 3513, 'ruining': 3169, 'bday': 1871, 'called': 392, 'opened': 6475, 'fuckin': 2009, 'trying': 301, 'arty': 4318, 'valuing': 7740, 'luv': 394, '20p': 1284, 'mite': 1638, 'shitstorm': 7101, 'howz': 1605, '1-month': 3725, 'honest': 5654, 'lik': 2908, 'mummy': 2997, 'youuuuu': 7997, 'wanted': 400, '4a': 2383, 'major': 2946, '2mrw': 1286, 'adewale': 4188, 'justbeen': 5885, 'juan': 2879, 'av': 2484, '000': 403, '09065989180': 3694, 'cheque': 4711, 'garden': 5423, 're-sub': 6843, 'joined': 1384, '6months': 2398, 'cost': 406, 'does': 408, 'rem': 1691, '0871277810810': 3606, 'pic': 824, 'petrol': 3061, 'starring': 7301, 'ring': 575, 'pm': 825, 'murderer': 2124, 'point': 826, 'tming': 7563, 'side': 830, 'crucify': 4885, 'fancy': 760, 'psp': 6774, 'praying': 3092, '//alto18': 3515, '08712460324': 1014, 'swing': 833, 'stayed': 3268, 'opening': 3033, 'taking': 602, 'wtf': 2288, '8077': 4008, 'asssssholeeee': 4334, 'ugh': 836, 're': 124, 'perhaps': 3059, 'imagine': 1375, 'xx': 608, 'relocate': 6886, 'arms': 1518, 'bangb': 4409, 'welcome': 839, 'afternon': 4208, 'transfer': 2256, 'ny-usa': 6426, 'gower': 5490, 'delay': 2643, 'nav': 6327, 'wow': 842, 'beauties': 4443, 'elaya': 5148, '150p/msg': 845, 'asking': 846, 'å£400': 2295, 'belongs': 4460, 'upgrdcentre': 7712, 'ass': 847, 'nokia6600': 6390, 'comin': 851, 'comp': 852, 'logging': 6054, 'e': 159, 'plate': 6639, 'txts': 1120, 'tells': 2240, 'throat': 3340, 'disturb': 860, '4742': 3899, 'assumed': 4335, 'facilities': 5245, 'extra': 861, 'easiest': 5116, '09050280520': 3656, 'strt': 7355, 'fast': 862, 'strange': 3276, 'frm': 949, 'exhaust': 5225, 'pongal': 1672, 'activate': 1504, 'wheat': 7875, 'figure': 864, '02': 3528, 'prods': 6752, 'friendship': 866, 'xchat': 1776, 'longer': 1219, 'bottom': 2529, 'collages': 4780, 'heard': 869, 'information': 872, '15': 2346, 'mike': 6196, 'planned': 1413, 'norm150p/tone': 2134, 'knows': 877, 'anyhow': 4273, 'laugh': 878, 'gorgeous': 1596, 'lost': 882, 'repairs': 6897, 'crore\\\\': 4881, 'fullonsms': 1594, '2p': 2366, 'monday': 885, 'smarter': 7172, 'decide': 1169, 'although': 4240, 'indian': 2047, 'mr': 886, 'jay': 725, 'postcard': 3087, 'mone': 6241, 'nah': 888, 'ones': 889, '2-u': 3785, 'congratulation': 4819, '09061702893': 3674, 'edward': 5132, 'sometimes': 1253, 'winner': 1008, 'bras': 4545, 'own': 891, 'rental': 894, '08714712388': 3610, 'page': 1082, 'album-quite': 4222, 'lyf': 2937, 'pop': 3083, 'flaked': 2749, 'prakasamanu': 6708, 'seems': 1247, 'hanging': 1601, 'possible': 1674, 'rest': 895, 'virgin': 7772, 'become': 1314, 'franxx': 5360, 'semester': 896, 'poor': 1237, 'astrology': 4340, 'dbuk': 4936, 'lives': 2091, 'rgds': 3158, 'especially': 1348, 'undrstndng': 7685, 'bear': 4441, 'scary': 2188, 'ingredients': 5763, 'term': 1742, 'thanx': 336, 'cheesy': 4708, '69669': 2395, 'tonite': 911, 'promise': 1090, 'happens': 1365, 'type': 913, 'buddys': 4591, 'sore': 2216, 'dream': 1178, 'bed': 361, 'valentine': 915, 'ccna': 4668, 'wap': 916, 'breadstick': 4550, '11': 920, 'anywhere': 2465, '85': 2410, 'asks': 4329, 'texting': 1265, 'water': 1005, 'booked': 928, 'father': 1046, 'fro': 5392, '80878': 2405, 'fifa': 5292, 'colours': 2598, 'checked': 1916, 'blacko': 4490, 'wotu': 7932, 'curious': 2631, 'fortune': 5350, 'icky': 5714, 'panther': 6545, 'motorola': 1072, 'eh': 938, 'publish': 6780, 'kisses*': 5930, '5wb': 1290, 'enter': 942, 'beer-rs': 4449, 'cnl': 4771, 'pleased': 1668, 'tc': 1740, 'fone': 808, 'restrictions': 6923, 'vewy': 3395, 'nyc': 3024, 'children': 1335, 'give': 160, 'were': 228, 'fedex': 5277, 'dictionary': 2658, 'glad': 951, 'role': 1697, 'celebration': 2576, 'frnds': 867, 'hw': 953, 'chapter': 4689, 'yahoo': 1134, 'max10mins': 2954, 'etc': 943, '2optout': 1811, 'junna': 5884, 'management': 2106, 'your': 20, 'immediately': 955, 'innocent': 5768, '\\x8bû¬ud': 8020, '*number': 3485, 'seeing': 1102, 'mtnl': 6277, 'scared': 1706, 'kate': 958, '09061790121': 2335, 'confused': 2607, 'results': 3151, 'mah': 965, 'pc': 981, '4fil': 2386, 'alwys': 2455, 'email': 940, 'photo': 1234, 'recently': 1243, 'airport': 1305, 'match': 966, 'hv': 2836, 'wun': 1133, 'lionm': 2911, 'motor': 6260, 'fingers': 1589, 'chinky': 4730, 'alert': 1511, 'suitemates': 7393, 'w1a': 7787, 'live': 355, 'urawinner': 1465, 'pod': 2154, 'hlday': 5641, 't': 41, 'tcr/w1': 3311, 'madstini': 6117, 'bishan': 2516, 'cardiff': 1902, 'btw': 1534, 'moment': 972, 'other': 252, '9': 533, 'didn': 293, 'hard': 764, '-the': 3510, 'yet': 279, 'taught': 7468, 'pete': 982, 'str': 7339, '09099726481': 3721, 'choice': 1546, 'ex': 944, 'ringtones': 986, '08718738002': 3636, 'sick': 989, 'coffee': 1337, 'stereophonics': 7317, '\\\\its': 1836, '08712402902': 3601, 'any': 99, 'maxå£7': 2955, 'professional': 6754, 'domain': 5050, 'peeps': 6586, 'life\\\\': 6015, 'opt': 1081, 'doesdiscount': 5042, 'enketa': 5172, 'significance': 7130, 'software': 2211, 'rocking': 6953, 'pieces': 2149, 'handed': 2025, 'kip': 5928, 'buns': 1894, 'they': 112, '100percent-real': 3732, 'access': 1021, 'dontmatter': 5053, 'school': 441, 'å£50': 8032, 'gr8fun': 5493, 'aiyo': 1148, 'recpt': 6864, 'boston': 2527, 'skype': 1725, 'vaazhthukkal': 7738, 'anymore': 1024, 'arrive': 1026, 'terrible': 2241, 'female': 1990, 'bcoz': 1027, 'b4': 750, '27/6/03': 3810, 'bid': 1029, 'a-': 4144, 'pray': 1088, '08712400603': 3598, 'road': 1098, '3rd': 3866, 'half8th': 5549, 'burial': 4603, 'tear': 1741, 'checking': 1032, 'asusual': 4343, 'comuk': 1035, 'costå£3': 4848, 'husband': 2835, 'bx420': 4617, 'interviews': 5786, 'bloke': 1884, 'starshine': 7302, 'feet*': 2739, 'password': 1659, '54': 3942, 'bills': 2513, 'smith-switch': 7184, 'definitely': 1170, 'd': 170, 'fgkslpo': 5288, 'deal': 1038, 'brilliant': 2538, '5free': 3944, 'thuglyfe': 7538, 'ge': 2015, '31p': 2374, 'collecting': 1922, 'horrible': 1372, 'nice': 250, 'unfolds': 7687, '\\x89ûò': 1012, 'jane': 2866, 'optout': 2140, 'ironing': 5805, 'entered': 1044, 'bags': 2488, 'shows': 325, 'actin': 4182, 'hungover': 5692, 'gay': 1047, '3wks': 3868, 'eating': 1181, 'disturbing': 2669, 'offer': 416, 'blank': 1530, 'goodmorning': 1048, 'doing': 163, '9ae': 1835, 'sack': 6987, 'hold': 1052, 'wish': 264, 'messed': 6191, 'man': 307, 'decided': 756, 'hurry': 1055, 'noe': 550, 'dough': 2678, '2-bajarangabali': 3784, 'badass': 4396, 'iknow': 5731, 'appt': 1516, 'canteen': 4643, 'oja': 6451, 'receipt': 1424, 'intro': 1611, 'john': 1060, 'humanities': 5689, 'kama': 5898, 'meetin': 1634, 'kinda': 1062, 'shuhui': 1106, 'cup': 1563, 'china': 2584, 'velachery': 7752, 'mark': 1064, 'funky': 2774, 'boy': 493, 'midnight': 1066, 'shame': 1717, 'mistake': 1067, 'partnership': 3051, 'moon': 1071, 'oops': 1080, 'paid': 1083, 'world': 461, 'burgundy': 4602, 'en': 2706, 'stop': 100, 'pobox': 1087, 'tones': 646, 'roses': 6958, 'nimbomsons': 6372, 'cw25wx': 1942, '09066362220': 3697, '47per': 3900, 'fixes': 5313, 'soup': 3249, 'fave': 1986, 'off': 214, 'lived': 6047, 'sale': 1100, 'sense': 1103, '09066364349': 3699, 'shd': 1104, 'weight': 1275, 'bennys': 4464, 'shower': 1105, 'kappa': 2883, 'dhina': 4992, 'clean': 1033, 'å£150': 1782, 'hours': 629, 'vote': 1470, 'pix': 1666, 'simple': 1107, 'expected': 5229, 'small': 1109, 'monthly': 2120, '20%': 3787, '08704050406': 3580, 'pints': 6632, '8wp': 1834, '1-hanuman': 3724, 'stand': 1111, 'missing*': 2978, 'xy': 1277, 'exhausted': 1981, 'pack': 1657, '.': 2, 'tampa': 1115, 'anyone': 704, 'colleagues': 1552, 'adi': 4189, 'sp': 1255, 'tomorrow': 185, 'selling': 3197, '300': 1812, 'confirm/deny': 4816, 'guaranteed': 255, 'cbe': 1541, 'cheating': 4700, 'umma': 1121, '69698': 2396, '8lb': 4047, '05': 1790, 'sayy': 7014, '87575': 2412, 'him': 120, 'supplies': 7403, '$': 1142, '1im': 3776, 'copy': 1559, 'usmle': 7729, 'occurs': 6438, 'probs': 3101, 'egg-potato': 5138, 'voice': 1126, 'weed': 1127, 'ps3': 6773, 'search': 776, '08002888812': 2317, 'zindgi': 3453, 'than': 275, 'within': 1129, 'bc': 2495, 'workin': 1131, '40411': 3881, 'accept': 1502, 'txtin': 3368, '12': 1143, 'srs': 7285, '\\\\hey': 1145, 'head': 545, 'askd': 1150, '2go': 2363, 'specific': 3253, 'bak': 1153, 'ranjith': 3122, 'baig': 4399, 'jamz': 5841, 'yor': 3449, 'rather': 1092, 'mc': 6161, 'battery': 1154, 'downloads': 1961, 'everything': 366, '7ish': 2401, 'bought': 1532, 'excited': 5223, 'paining': 6536, '373': 2375, 'hows': 766, '#&gt': 59, '24/7mp': 3803, 'functions': 5403, 'retard': 6926, 'bill': 1155, 'loooooool': 6064, 'barely': 1523, 'mad2': 6115, '08718730555': 3634, '-u': 3511, 'blood': 1157, 'cancel': 1164, 'different': 1171, 'creepy': 2627, 'entry': 592, 'dogging': 1177, 'doesnt': 1175, 'unsold': 2264, 'pee': 6585, 'happy': 181, '3510i': 1488, 'eatin': 1180, 'ending': 1183, 'playng': 6641, 'nap': 2127, 'com/etlp/dining': 4783, 'mathe': 6150, 'ends': 1184, 'prey': 3097, 'flute': 5327, 'keeps': 2885, 'okday': 6452, 'tickets': 909, 'payed': 6579, '0207-083-6089': 3529, 'probably': 388, '2find': 2361, 'except': 1187, 'luxury': 2098, 'muah': 6278, 'italian': 2060, 'following': 1192, 'relax': 1426, 'bot': 4526, 'forward': 1193, '08714342399': 3607, 'bath': 848, 'zeros': 8012, 'cheese': 2582, 'themob>': 7511, 'slowly': 1440, 'frens': 1194, '150p/msgrcvdhg/suite342/2lands/row/w1j6hl': 1803, 'doubletxt': 5063, '09066362206': 3696, 'killing': 2892, 'postponed': 6691, 'winterstone': 7900, 'bitch': 1880, 'weekends': 1274, 'subscribed': 2227, '84128': 1828, 'ar': 925, '08715203685': 3617, 'tuesday': 1463, 'bettr': 4471, 'panalam': 6539, 'denis': 2646, '2025050': 3791, 'tirunelvali': 3344, '2waxsto': 2370, 'hoping': 1206, 'mutai': 6297, 'hotel': 1208, 'twelve': 7639, 'lolnice': 6059, 'duffer': 5093, 'hurts': 1210, 'becausethey': 4445, 'lifetime': 2087, '3230': 3851, 'at/your': 4344, 'heåõs': 5622, 'joy\\\\': 5874, 'urself': 1001, 'bribe': 4560, 'forced': 5338, 'salon': 3176, '\\\\ey': 4090, 'dey': 1345, '3ss': 3867, 'ana': 4257, '7250': 2399, 'loves': 1222, 'issue': 2058, 'carly': 4653, 'stayin': 7307, 'shopping': 324, 'speeding': 7246, 'account': 326, 'mobs': 6236, 'mrng': 1226, 'treated': 3362, 'naughty': 1227, 'fyi': 1356, 'join': 476, 'que': 6807, 'bfore': 4476, 'randy': 3120, 'past': 1232, 'plans': 1235, 'only': 78, '=/': 4064, 'plaza': 3072, 'yijue': 1779, 'raining': 1240, 'canåõt': 4645, 'responce': 6916, 'vava': 2270, 'everybody': 1349, 'skins': 7154, 'reaching': 1241, 'store': 831, 'ad': 1505, 'season': 1709, '350': 3855, 'edge': 5124, 'ten': 906, 'registered': 1244, 'stories': 7337, 'never': 297, 'mail': 432, 'audition': 2480, '24/10/04': 3802, 'slave': 1250, '150p/mtmsgrcvd18': 2347, 'yuo': 3452, 'fill': 1994, 'vettam': 7759, 'less': 879, 'salad': 6993, 'sara': 7004, 'lessons': 880, '|': 1136, 'starts': 1260, 'am': 71, 'london': 1627, 'txting': 999, 'darkest': 4926, 'monkey': 6243, 'straight': 1262, 'ink': 5765, '*sighs*': 1481, 'syd': 7432, 'agree': 2448, 'wats': 1271, 'weather': 1272, 'ben': 2508, 'wednesday': 1273, 'influx': 5758, 'jobs': 2873, 'daily': 1564, '150pm': 1805, 'gentle': 1358, 'sorting': 3248, 'salesman': 6995, 'remember': 398, 'å£4': 2294, 'phone': 126, 'mayb': 967, 'pizza': 1085, 'advice': 1300, 'share': 1718, 'vodka': 3403, 'reboot': 3129, 'happend': 2810, '*covers': 3478, '07xxxxxxxxx': 1791, 'natural': 6324, 'org': 6487, 'finish': 260, 'residency': 6912, 'announcement': 1308, 'names': 3004, 'april': 1310, 'potato': 6693, 'genes': 5436, 'askin': 1312, 'jabo': 5834, 'babes': 1313, 'fees': 1989, 'safe': 828, 'bunkers': 4600, 'explosive': 5235, 'further': 2775, 'bin': 1317, 'bluetooth': 1318, 'hides': 5626, '800': 701, 'body': 1319, 'boring': 1320, 'entey': 5178, 'brand': 1322, 'establish': 5197, 'cheers': 1334, 'warner': 3412, 'lotta': 2925, '&': 150, 'places': 3070, 'basically': 1525, 'hang': 2809, 'broke': 1324, 'captaining': 4648, 'ta': 1264, 'buying': 1327, 'sea': 775, 'couldn': 1338, 'mums': 6288, 'footie': 5336, 'croydon': 1341, 'mother': 1642, 'hilarious-also': 5629, 'del': 1343, 'find': 200, 'dark': 1945, 'visit': 837, 'din': 1346, 'early': 315, 'korche': 5945, '0121': 3525, 'dialogue': 4996, 'don\\x89û÷t': 1347, 'exactly': 2721, 'exams': 1350, 'five': 1353, 'loose': 2924, 'ì_': 110, 'downon': 5064, 'chain': 1913, 'useful': 3388, 'fringe': 2770, 'whassup': 7872, 'present': 1089, 'getzed': 1359, 'successfully': 7383, 'conclusion': 4811, 'prakasam': 6707, 'lead': 1393, 'hop': 1370, 'ptbo': 2164, '**free': 3474, 'ese': 5195, 'mumtaz': 1643, 'prominent': 6761, 'speciale': 7241, 'abel': 4154, 'cricketer': 4877, 'overtime': 6518, 'macho': 2942, 'ish': 1379, 'joke': 1385, 'kallis': 1387, 'cornwall': 1933, 'joys': 5875, 'kano': 1388, 'mood': 1641, 'birth': 1879, 'legitimat': 6004, 'tag': 7446, 'yifeng': 7985, 'law': 1392, 'gep': 5440, 'list': 1394, 'unusual': 7708, 'lvblefrnd': 6095, 'samachara': 6998, 'again': 193, 'fathima': 2736, 'mode': 1225, 'wild': 7890, 'sunshine': 1735, 'haughaighgtujhyguj': 5578, 'looks': 1396, 'application': 2468, 'married': 1399, 'advance': 1299, '*wicked': 3493, 'board': 4509, 'rimac': 6940, 'bedroom': 1526, 'callertune': 1539, 'movies': 1404, '-*': 3499, '087147123779am-7pm': 3608, 'taj': 7451, 'dropped': 1575, '<unk>': 0, 'm': 35, 'complexities': 4800, 'hairdressers': 5546, 'mins': 284, 'fired': 5306, 'notice': 1408, 'nitw': 6378, 'pilates': 1412, 'pound': 1415, 'power': 1416, 'fredericksburg': 5364, 'his': 209, 'finally': 715, 'agency': 4212, 'scraped': 7024, 'budget': 1326, 'digital': 1569, 'orc': 6484, 'gender': 2782, 'doin': 805, 'pobox114/14tcr/w1': 6653, 'summer': 1447, 'jason': 2064, 'fuuuuck': 5410, 'secretary': 3192, 'bit': 287, 'wait': 207, 'darlin': 617, 'hav': 501, 'clos1': 4758, 'rd': 1423, 'want': 77, 'pathaya': 6571, 'rightio': 6937, 'desert': 2649, 'bigger': 1876, 'daywith': 4935, 'surgical': 7408, 'parties': 6560, 'smile*': 1726, 'aeronautics': 4200, 'turns': 1269, 'social': 1441, 'ourbacks': 6500, 'myself': 887, 'outside': 639, 'std': 1444, 'call2optout/n9dx': 4629, 'lager': 5963, 'style': 1446, 'cheery': 4707, 'sura': 1450, 'hillsborough': 5631, 'goal': 2792, 'them': 176, 'smear': 7175, 'swt': 1451, 'sutra': 7413, \"'\": 6, '09065394514': 3693, 'trust': 1119, 'tea': 1452, '[sic]': 4070, 'cafe': 1537, 'machi': 6109, 'thts': 1456, 'argue': 2474, 'chosen': 2586, 'gee': 1199, 'hey': 123, 'special-call': 1730, 'camry': 4639, 'gud': 274, 'each': 664, 'village': 1469, 'charity': 850, 'filling': 5297, 'standard': 1443, 'oh': 119, 'dizzee': 5033, 'penis': 3058, 'gd': 626, '81010': 4009, '864233': 4031, 'wed': 1473, 'accidant': 4168, 'na-tuition': 6308, 'chennai': 799, 'collection': 539, 'url': 7724, 'perfume': 6596, 'reached': 1093, 'wet': 1474, 'thoughts': 3336, 'gal': 1197, 'beneath': 4462, 'white': 2283, '*kiss*': 1480, '36504': 1489, 'madurai': 6118, 'bye': 1536, 'every': 187, 'answerin': 4272, 'recd': 3131, 'mens': 6181, 'when': 55, '9280114': 4052, 'kit': 5932, '530': 1491, 'smiled': 7180, '6hrs': 1492, '8th': 1496, '<forwarded': 1497, '\\\\hi': 1498, 'aboutas': 4156, 'ache': 1503, 'blessing': 4494, '08717509990': 3624, 'nammanna': 6316, 'sophas': 7220, 'added': 1506, 'cake': 1538, 'hittng': 5640, 'support': 905, '\\\\hello-/@drivby-': 4100, 'heads': 5586, 'revealing': 6930, 'answers': 1515, 'aren': 1517, 'asleep': 1519, 'ate': 1520, 'zed': 1479, 'bandages': 4408, 'load': 6049, 'sabarish': 6986, '&cs': 3466, '2years': 3834, 'woodland': 7919, 'kalaachutaarama': 5894, 'violated': 3399, 'bears': 2497, 'headin': 5584, 'nbme': 6329, 'www': 192, 'cds': 1542, 'u-find': 1756, 'child': 1544, 'com': 223, 'dirty': 1571, 'disc': 5019, 'journey': 2067, 'closed': 1549, 'competition': 1554, 'inde': 5754, 'risk': 6949, 'abta': 2432, 'panren': 6543, 'whats': 694, '\\\\response\\\\': 4117, 'cheetos': 4709, 'credited': 1937, 'played': 2152, 'smart': 7170, 'myparents': 6302, 'priest': 6737, 'biz': 1156, 'derek': 1568, 'dint': 1570, 'pie': 1664, 'used': 783, 'drivin': 1574, '09099726429': 3720, 'jsut': 5879, 'english': 1578, 'stopcost': 7334, 'prepare': 1676, 'expecting': 1581, 'getting': 249, 'sry': 3264, 'fever': 1587, 'referin': 6869, 'freephone': 1592, '9996': 4059, 'grand': 1597, 'group': 1600, 'wondering': 1010, 'surprise': 996, '60p/min': 1822, 'joker': 5867, 'whenever': 1007, 'ibiza': 1607, 'class': 280, 'shipping': 2199, '78': 3994, 'shesil': 3209, 'forms': 5348, 'mnths': 2982, 'headache': 2030, 'sisters': 7145, 'continue': 2612, 'jiu': 1615, 'kept': 1618, 'river': 6951, 'mine': 676, 'shortly': 1720, 'row': 1700, 'diet': 2660, 'detroit': 2653, 'leo': 6008, 'looked': 1628, 'loyalty': 1629, 'bullshit': 4598, 'emerging': 5161, 'marriage': 1630, 'thgt': 3332, 'waste': 2276, '24th': 3805, 'camcorder': 752, 'member': 1635, 'moji': 1640, 'cash-balance': 1905, 'swimming': 3298, 'lowes': 6077, 'g696ga': 2776, 'ya': 222, 'kuch': 5951, 'nights': 1645, 'hill': 1603, 'nw': 1647, 'marking': 6143, 'obviously': 1648, 'babies': 4387, 'superb': 3289, 'noline': 3020, 'clarification': 4749, 'opinion': 1651, 'poop': 3082, 'pobox84': 1670, 'giving': 1361, 'euro': 2716, 'insects': 5772, 'stunning': 7369, '08718720201': 1282, 'try': 272, 'pmt': 6650, 'premium': 3094, 'pobox36504w45wq': 3075, 'onwords': 6472, 'pg': 1660, 'bbd': 2494, 'picked': 1662, '9ja': 2419, 'hundreds': 5691, 'coz': 802, 'december': 1566, 'chechi': 4701, 'process': 1678, 'shrub': 7123, 'players': 1667, 'meant': 818, 'pleasure': 1669, 'porn': 1673, 'imin': 5739, 'shade': 7069, 'everyday': 2717, 'floating': 5321, 'problems': 1677, 'united': 7694, 'hamster': 2808, 'free': 63, 'provided': 6769, 'amigos': 4245, 'wallpaper': 3411, 'percent': 6592, 'radio': 1687, 'hoody': 5660, 'sk3': 2206, 'research': 1693, 'cupboard': 4902, 'return': 1695, 'chip': 4732, 'roger': 1696, 'ru': 1701, '-pls': 3507, 'lounge': 2927, 'sup': 1448, 'costs': 1560, 'paper': 1231, 'sooner': 1728, 'depressed': 2648, '42478': 3886, 'necessary': 3010, 'adult': 1507, 'scallies': 7016, 'miles': 2113, 'santa': 1705, 'scream': 1707, 'beloved': 2507, 'sec': 1710, 'fun': 393, 'afford': 4204, 'murdered': 2123, 'series': 1714, '09066382422': 3705, 'slp': 7169, 'railway': 3117, 'call2optout/lf56': 4628, 'strongly': 7354, 'conform': 4817, 'serious': 1715, 'sha': 1716, 'it': 18, 'between': 586, 'mee': 6171, 'clue': 4769, 'or2optout/hv9d': 6482, 'space': 1729, 'surely': 1736, 'tariffs': 1739, '116': 3739, '1172': 3740, 'thandiyachu': 7498, 'bt-national': 4587, 'carryin': 4655, '1205': 3742, 'flow': 5323, '128': 3743, '12mths': 3745, 'hogli': 5646, 'mouse': 6263, '1405': 3748, 'tour': 1750, '140ppm': 3749, '146tf150p': 3751, 'beforehand': 4453, '150p/msgrcvd': 3754, 'info': 1057, '150p/mtmsg': 3756, '150p/mtmsgrcvd18+': 3757, 'pimples': 3066, '150p/rcvd': 3758, '150p/sms': 3759, '150p/wk': 3761, 'varaya': 7741, '150ppmpobox10183bhamb64xe': 3762, 'free-message': 5366, 'relation': 3142, 'boltblue': 4516, '15pm': 3765, '16+only': 3766, '1680': 3767, '169': 3768, '1843': 3771, '1da': 3774, '1mega': 3777, 'lim': 6024, 'fifteen': 1588, '1pm': 3778, '1st4terms': 3779, 'concern': 4809, 'rstm': 6968, '2-4-1': 3783, '2/2': 3786, '2005': 3789, 'b-': 4380, '21/m': 3795, 'lil': 2909, '2309': 3799, 'followin': 5331, '23f': 3800, '23g': 3801, '255': 3806, 'to': 5, 'suprman': 7406, '26': 3807, 'accenture': 4167, '28/5': 3811, '29/03/05': 3813, '29/m': 3815, '2bold': 3816, 'tackle': 7443, 'predicte': 6717, '2channel': 3817, '2exit': 3818, 'womdarfull': 7916, 'info@txt82228': 5760, 'music-trivia': 6293, 'request': 1432, 'senrd-dnot': 7050, 'pocy': 6661, '2getha': 3820, '2mro': 3825, 'simpler': 7138, 'laxinorficated': 5989, 'yan': 1777, 'suffering': 7388, '2nhite': 3826, 'hai': 1363, '2nights': 3827, '2wt': 3833, '3-maruti': 3835, '300%': 3837, '300603': 3838, 'onion': 6468, '300603t&csbcm4235wc1n3xx': 3839, '121': 2344, 'sms': 290, 'mittelschmertz': 6223, 'narcotics': 6319, '300p': 3840, 'flip': 2753, 'edwards': 5133, 'lesser': 6011, '30apr': 3841, '1': 151, 'cocksuckers': 4775, '30pm': 3842, 'claire': 1920, 'spiffing': 7254, '3100': 3847, 'sunscreen': 7399, '310303': 3848, '09050003091': 2328, '32/f': 3849, 'lion': 6037, 'redeemable': 6865, '326': 3853, '330': 3854, 'tv/': 7637, 'doesn\\x89û÷t': 5043, 'hunks': 5693, 'peak': 3056, '3750': 3858, '382': 3859, 'whos': 2285, '3days': 3861, 'salt': 6997, '3optical': 3864, '3pound': 3865, '3xx': 3869, 'newspapers': 6359, '4*lux': 3871, '4-6': 3872, '4-7/12': 3873, 'jog': 5864, '4-some1': 3875, 'halloween': 5553, 'fumbling': 5402, '400': 3876, '400thousad': 3878, '402': 3879, 'twittering': 7644, '4041': 3880, '40mph': 3882, 'commit': 4790, 'wifi': 3422, '41782': 3883, 'mwahs': 6299, 'didntgive': 5000, 'evil': 5216, 'directors': 5013, '420': 3884, 'harish': 5571, '4217': 3885, 'fgkslpopw': 5289, '44': 3889, 'stable': 7289, '4403ldnw1a7rw18': 3890, '448712404000>please': 3892, 'hudgi': 5684, '45': 3894, 'lift': 1625, '450p': 3895, 'reformat': 6872, '450pw': 3896, '45pm': 3897, 'arul': 4319, '47': 3898, '48': 3901, 'scotch': 7022, '48922': 3902, 'heater': 2813, '4few': 3904, 'permanent': 6599, 'colourful': 4782, 'text': 80, '4get': 3905, '4got': 3907, 'molested&someone': 6240, 'spider': 7252, '85023': 1829, 'damn': 1342, '4jx': 3908, '09064019788': 3687, 'oreos': 6486, 'real1': 6847, 'action': 1843, '4t&': 3910, 'ugo': 7658, '4the': 3912, '4thnov': 3913, '4txt/ì¼1': 3915, 'recharge': 6856, '4utxt': 3916, '4ward': 3917, 'been': 125, '\\\\wylie': 4138, 'å£33': 8029, '4wrd': 3918, '5+-': 3921, 'interflora': 2855, '50%': 3924, 'prasanth': 6711, '50/mtmsgrcvd18+': 3925, '07008009200': 3537, '50/week': 3926, 'kingdom': 5926, '0125698789': 3527, 'quite': 373, '50/wk': 3927, '89080': 4042, '5000': 3928, 'barred': 4418, '505060': 3929, '50\\\\': 3930, '50p/wk': 3932, '50pm': 3934, 'imat': 5737, 'lmao': 1395, '50pmmorefrommobile2bremoved-mobypobox734ls27yf': 3935, 'effect': 2699, '50ppm': 3936, 'furniture': 5409, '515': 3939, '5226': 3940, 'http//www': 5681, 'sory': 7226, '526': 3941, '5digital': 3943, '5mls': 3947, '5th': 3949, 'spontaneously': 7267, '5wkg': 3950, '5wq': 3951, '5years': 3952, 'cruisin': 4888, 'ahmad': 1303, '6-ramaduth': 3953, '600': 3955, '61610': 3960, 'infront': 2850, '645': 3964, 'cooped': 4835, 'craving': 4871, 'txt-2-shop': 7645, '650': 3966, 'admirer': 1298, '66': 3967, 'anthony': 2462, '6669': 3968, '67441233': 3969, '01223585236': 3526, 'grandmas': 5498, '69101': 3971, '69200': 3972, '69866': 3974, '69876': 3975, 'eg': 937, '69911': 3978, '0871-872-9758': 3590, 'atten': 4352, '09065171142-stopsms-08718727870150ppm': 3691, '6ph': 3981, 'lara': 5977, '6th': 3982, '6zf': 3984, 'arranging': 4312, 'elaborate': 5145, '7-mahaveer': 3985, 'frndship': 5387, 'dogwood': 5045, 'kalstiya': 5897, 'door': 1042, 'nobbing': 6384, 'status': 3267, '730': 3986, '75max': 3989, '7634': 3990, '4years': 3920, '7684': 3991, 'shaking': 7073, '7732584351': 3993, '7cfca1a': 3996, 'wake': 487, '7th': 3998, 'errors': 5190, '7ws': 3999, '80': 4003, 'grown': 5517, 'ltd': 633, '8000930705': 4004, '80122300p/wk': 4005, 'bookmark': 4520, 'banned': 4411, '8027': 4007, '81303': 4010, 'hottest': 5671, 'shitinnit\\\\': 7099, '08714712379': 3609, '81618-': 4012, '82242': 4013, 'hangin': 5559, '83118': 4018, 'occupied': 6436, 'pounded': 6696, '83222': 4019, '83332': 4020, '83435': 4023, '83738': 4024, '85069': 4027, '85233': 4028, 'ffffffffff': 5286, '861': 4030, '8714714': 4034, '88800': 4037, '8883': 4038, 'reservations': 6908, '89034': 4041, '89123': 4044, '8pm': 4048, 'green': 1598, '9061100010': 4050, '9153': 4051, 'liao': 305, '9307622': 4054, '945+': 4055, 'andrews-boy': 4263, '946': 4056, '97n7qp': 4057, '9am-11pm': 4060, '9yt': 4062, 'abiola': 749, '=twelve': 4065, 'smokin': 7186, '\\\\sometimes': 4123, '@warner': 4068, 'shortage': 7109, 'outsider': 6512, 'starving': 7304, '\\\\1': 4072, '\\\\3000': 4073, 'clothes': 4763, 'haiyoh': 5547, '\\\\alright': 4075, '\\\\aww': 4076, 'decking': 4946, '\\\\because': 4078, 'mesages': 6188, 'soil': 7201, '\\\\best': 4079, '\\\\can': 4081, '\\\\cha': 4082, '\\\\divorce': 4084, 'knees': 5936, '\\\\don': 4085, '\\\\dont': 4086, '\\\\drink\\\\': 4087, '\\\\get': 4092, '\\\\gimme': 4094, '\\\\goodmorning': 4096, '\\\\gud': 4097, 'drpd': 5081, 'gin': 5454, '\\\\happy': 4098, '\\\\hurt': 4102, 'left': 414, 'decimal&gt': 662, 'piece': 6628, 'k': 92, '\\\\keep': 4106, 'kochi': 5941, '85555': 4029, '\\\\margaret': 4108, 'lanre': 5975, '\\\\miss': 4109, '\\\\mix\\\\': 4110, 'up': 51, 'mquiz': 6265, '\\\\shah': 4118, 'who': 148, '\\\\she': 4119, 'shop': 682, 'gold': 5472, 'ogunrinde': 6450, '09061743811': 3676, 'drop': 713, '*devouring': 3480, 'shrek': 7121, '\\\\si': 4121, 'magicalsongs': 6124, '\\\\sleep': 4122, '\\\\song': 4124, '0207': 2309, 'dial': 4994, 'hon': 5653, 'tahan': 7448, '\\\\symptoms\\\\': 4126, 'twenty': 7640, 'northampton': 6400, '\\\\thinking': 4127, '\\\\this': 4128, '\\\\ur': 4129, '83338': 4021, 'meaningful': 6165, '\\\\usf': 4131, 'evenings': 5205, '1/3': 3729, '\\\\valued': 4133, 'cyclists': 4914, 'current': 1941, '\\\\walk': 4134, '\\\\welcomes\\\\': 4135, 'were/are': 7858, 'hitler': 5637, 'overdid': 6515, 'nokia': 251, '\\\\with': 4136, '\\\\x\\\\': 4139, '\\\\you\\\\': 4141, 'corporation': 4840, 'rummer': 6978, '^': 4142, 'practicum': 6704, 'a-ffectionate': 4145, 'keris': 5913, 'a-green': 4146, 'a30': 4148, 'aa': 4149, 'aaniye': 4150, 'understanding': 3377, 'ab': 4151, 'outs': 6511, 'want2come': 7810, 'window': 3423, 'july': 2069, 'abeg': 4153, 'rvx': 6982, 'guides': 5531, 'lunchtime': 6088, '118p/msg': 3741, 'ac/u/bootydelious': 4162, 'ac/u/hmmross': 4164, 'apology': 4283, 'accordin': 4171, 'becz': 4446, 'delhi': 4964, 'wallet': 7805, 'accounting': 4172, 'accounts': 4173, 'qatar': 3114, 'campus': 1540, 'achieve': 4175, 'acid': 4176, 'cst': 4891, 'absence': 4158, 'msging': 6272, 'acknowledgement': 4177, 'hurting': 5696, 'faber': 5244, 'adam': 4185, 'adding': 4186, 'adds': 4187, 'adjustable': 4190, 'amplikater': 4251, 'unique&i': 7693, 'roast': 2183, 'club>>': 4767, 'shove': 7116, 'foreign': 2003, 'admission': 4191, 'hellogorgeous': 5605, 'admit': 4192, 'slept': 1251, 'disclose': 5020, 'adress': 4194, 'earth&sofa': 5115, 'adrian': 4195, 'adsense': 4197, 'advisors': 4199, 'aeroplane': 4201, 'affidavit': 4203, 'spys': 7278, 'afghanistan': 4205, 'mailbox': 2944, 'hourish': 5672, 'african': 4207, 'fighting': 1991, 'again*loving': 4209, '4mths': 2388, 'recharged': 6857, 'age16+å£1': 4210, 'pussy': 1680, 'hppnss': 5679, 'responsibility': 6919, 'age23': 4211, 'aging': 4213, 'tats': 7465, 'smith': 7183, 'mini': 2973, 'aids': 4216, 'aig': 4217, 'stifled': 7323, 'air1': 4218, 'ovulate': 6520, 'ak': 4220, 'alaipayuthe': 4221, 'aldrine': 4223, 'w1t1jy': 7788, 'inpersonation': 5771, 'luvd': 6091, 'aletter': 4224, 'readers': 6845, 'camera/video': 4637, 'tookplace': 7584, 'algarve': 4225, 'knowing': 2076, 'readiness': 6846, 'algebra': 4226, 'his/her': 5636, 'å£2': 744, 'curtsey': 4905, 'helloooo': 5606, 'alian': 4228, 'korte': 5948, 'bat': 1869, 'alibi': 4229, 'checkin': 4703, 'walk': 650, 'allalo': 4230, 'allday': 4231, 'town': 376, 'allows': 4235, 'alot': 4237, 'londn': 6061, '220cm2': 3798, 'alter': 4238, 'gone': 721, 'battle': 4431, 'alternative': 4239, 'buses': 2547, 'parish': 6554, 'alwa': 4241, 'wanting': 1768, 'ami': 4244, 'fucked': 5397, 'ammo': 4249, 'amongst': 4250, 'tones2you': 7581, 'amrita': 4253, 'amt': 4255, 'youi': 7992, 'vouch4me': 7783, 'lov': 2929, 'chillaxin': 4727, '00': 1280, 'mentionned': 6184, 'amused': 4256, 'analysis': 4259, 'anderson': 4260, 'shoul': 7113, 'andre': 4261, 'angels': 4264, 'lands': 5973, 'animal': 4265, 'animation': 4266, 'anna': 4267, '6031': 3956, 'e-namous': 5108, 'anot': 4270, 'poortiyagi': 6677, 'answer\\\\': 4271, 'anyones': 4274, 'themob>hit': 7512, 'anyplaces': 4275, 'aphexåõs': 4279, 'poo': 6673, 'apo': 4280, 'deeraj': 4954, 'cared': 2566, 'we': 37, 'noice': 6385, 'squid': 7283, 'apologetic': 4281, 'appear': 4284, 'applausestore': 4286, 'name1': 6314, 'applyed': 4288, 'phonebook': 6621, 'appointments': 4290, 'asian': 4327, 'macedonia': 6107, 'approaches': 4291, 'sphosting': 7250, 'realy': 1242, 'club4mobiles': 4766, 'approved': 4294, 'approx': 4295, 'aproach': 4297, 'apt': 4298, 'arabian': 4299, 'arestaurant': 4300, 'aretaking': 4301, 'petticoatdreams': 6612, 'areyouunique': 4302, 'dabooks': 4917, 'armenia': 4308, 'home': 88, 'limits': 6028, 'arng': 4309, 'proze': 6772, 'arrow': 4315, 'art': 4316, 'artists': 4317, 'weekly': 606, 'dang': 4922, 'arun': 4320, 'theirs': 7508, 'asda': 4322, 'rcvd': 1422, 'ashes': 4323, 'sn': 3241, 'textin': 7496, 'ashley': 4324, 'wn': 7913, 'large': 5979, 'ashwini': 4325, 'korli': 5947, 'their': 834, '2ez': 3819, 'asjesus': 4328, 'aspects': 4330, 'supports': 7404, 'wallpaper-all': 7806, 'didn\\x89û÷t': 2659, 'asshole': 4332, 'patent': 6569, 'un-redeemed': 782, 'asthere': 4336, 'astne': 4338, 'remain': 3144, 'astoundingly': 4339, 'asus': 4342, 'athletic': 4345, 'lul': 6087, 'otherwise': 1654, 'sentiment': 7054, 'atleast': 4347, '\\x89ûï': 8019, 'organise': 6488, 'atm': 4348, 'failing': 5250, 'noon': 1407, 'evrey': 5220, 'marley': 6144, 'attach': 4350, 'attack': 4351, 'attending': 4354, 'rowdy': 6963, 'blog': 4497, 'attitude': 4355, '*deep': 3479, 'attraction': 4356, 'thinl': 7523, 'person': 333, 'brison': 4568, 'attracts': 4358, 'ph': 6613, 'attributed': 4359, 'audiitions': 4360, 'auntie': 4361, 'venaam': 7755, 'aunties': 4362, 'aust': 4364, 'a': 9, 'australia': 4365, 'ava': 4366, 'panasonic': 6540, 'spook': 3261, 'avenue': 4369, 'dub': 5089, 'avin': 4370, 'mtalk': 6275, 'avoids': 4371, 'awkward': 4372, 'aww': 4373, 'ofstuff': 6447, 'quarter': 6806, 'axis': 4374, 'ayo': 4377, 'aå£1': 4378, 'sport': 1258, 'coveragd': 4862, 'b*': 4379, 'b-blue': 4381, 'b/tooth': 4382, 'thou': 7529, 'cya': 4913, 'cancer': 1329, 'b4280703': 4383, 'baaaaaaaabe': 4385, 'ams': 4254, 'baaaaabe': 4386, 'babyjontet': 4389, 'insha': 5773, 'babysitting': 4391, 'bac': 4392, 'breathe': 2536, 'today': 101, 'backdoor': 4393, 'backwards': 4394, '3g': 1490, 'badly': 4397, 'badrith': 4398, 'bakra': 4400, 'tgxxrz': 7497, 'ball': 4402, 'baller': 4403, 'line--you': 6031, 'balloon': 4404, 'banneduk': 4412, 'bao': 4414, 'barcelona': 4416, 'education': 5129, 'bari': 4417, 'barry': 4421, 'bars': 4422, 'bash': 4424, 'basq': 4427, 'completed': 2603, '08081560665': 3565, 'batchlor': 4428, 'n-oble': 6305, 'bcz': 4439, 'bay': 4433, 'scotland': 3188, 'positions': 6685, 'adventure': 2441, 'bbc': 4434, 'pouch': 3089, '65': 3965, 'bcaz': 4435, 'teenager': 7478, 'bcm': 4436, 'sells': 3198, 'bcm1896wc1n3xx': 4437, 'beach': 4440, 'darling': 1946, 'beatings': 4442, 'salmon': 6996, '80082': 1826, 'becaus': 4444, 'beendropping': 4448, 'beerage': 4450, 'tirupur': 3345, '\\\\polys\\\\': 4115, 'beers': 4451, 'befor': 4452, 'beggar': 4454, 'danger': 4923, 'registration': 6877, 'begins': 4455, 'xxxx': 3444, 'bellearlier': 4458, 'unless': 1000, 'belligerent': 4459, 'beneficiary': 4463, 'bergkamp': 4465, 'rose': 1435, 'concert': 1925, 'beside': 4466, 'coach': 4772, 'best1': 4467, 'forgotten': 2765, 'beta': 4468, 'naseeb': 6321, 'link': 811, 'beth': 4469, 'betta': 4470, 'fish': 2747, 'cheat': 4699, 'beverage': 4472, 'beware': 4474, 'chess': 4714, 'magical': 6123, 'bffs': 4475, 'showing': 3215, 'misfits': 6214, 'none': 1406, 'bhaji': 4477, 'bhaskar': 4478, 'convincing': 2615, 'biatch': 4479, 'poly#': 6665, 'chrgd@50p': 4738, 'bike': 4480, 'bilo': 4482, '\\\\valentines': 4132, 'bird': 4485, 'sacked': 6988, 'flies': 2751, 'biro': 4486, 'forgt': 5344, 'tyrone': 3371, 'bites': 4487, 'bits': 4488, 'uni': 1464, 'owned': 6526, 'laundry': 5985, '@kiosk': 4066, 'm95': 6102, 'college': 615, 'blessed': 4493, 'bro': 4571, 'program': 3104, 'blocked': 4496, 'lady': 1391, 'blogging': 4498, 'inst': 5776, 'navigate': 6328, 'blogspot': 4499, 'understood': 2261, 'blokes': 4500, 'showers': 7119, 'blonde': 4501, 'blow': 4502, 'upto': 3384, 'blowing': 4503, 'embarassing': 5157, 'boatin': 4510, 'bognor': 4513, 'bold2': 4514, 'owed': 6523, 'bollox': 4515, '\\\\sweet\\\\': 4125, 'oath': 6429, 'bomb': 4517, 'bookedthe': 4519, 'nokia/150p': 6389, 'simonwatson5120': 7137, 'boost': 4522, 'implications': 5742, 'bootydelious': 4523, 'borderline': 4524, 'officer': 6445, 'borrow': 4525, 'boughtåóbraindanceåóa': 4528, 'boundaries': 4529, 'jp': 5876, 'doublemins': 5061, 'mirror': 6212, 'splat': 7260, 'stays': 3269, 'bowa': 4530, '4th': 1818, 'lac': 5960, 'donno': 2675, 'box1146': 4532, 'box334': 4534, 'thanks': 171, 'fm': 5329, 'box403': 4535, '@': 1296, 'box420': 4536, '69855': 3973, 'being': 314, 'box42wr29c': 4537, 'salary': 1704, 'boyf': 4539, 'bpo': 4540, 'brainy': 4543, 'increments': 5753, 'brats': 4546, 'braved': 4547, 'brb': 4548, 'brdget': 4549, 'spoil': 7264, 'sticky': 7322, 'hall': 5550, '391784': 3860, 'breakfast': 4551, 'txt~journey': 7651, 'ipod': 957, 'nudist': 6419, 'breaks': 4554, 'nowhere': 6414, 'lar': 295, 'breath': 4555, 'breathing': 4557, 'earlier': 714, 'breeze': 4558, 'lol': 183, 'breezy': 4559, 'bridal': 4561, '/7': 2306, 'bridge': 4562, '09061744553': 3677, 'brighten': 4564, 'reserved': 6910, 'brin': 4566, 'british': 4569, 'britney': 4570, 'broadband': 4572, 'brolly': 4573, 'broth': 4574, 'birthdate': 2515, 'cards': 4649, 'custcare': 934, 'everyones': 5210, 'brown': 4577, 'brownies': 4579, 'browse': 4580, 'browser': 4581, 'gail': 5413, 'browsin': 4582, 'edrunk': 5128, 'brum': 4583, 'fault': 1585, 'onum': 6471, 'promo': 3105, 'flying': 5328, 'bruv': 4584, 'bsnl': 4585, 'dismissial': 5025, 'btwn': 4588, 'bubbletext': 4589, 'buffy': 4593, 'mornin': 6252, 'happier': 5564, 'novelty': 6410, 'associate': 4333, 'built': 4595, 'burden': 4601, 'oi': 3027, 'burn': 4604, 'burning': 4605, 'dt': 5087, 'burnt': 4607, '08718725756': 3630, 'box434sk38wp150ppm18+': 4538, 'burrito': 4608, 'nickey': 6362, 'buttheres': 4611, 'loxahatchee': 6078, 'challenging': 4682, 'buttons': 4612, 'actor': 2436, 'spring': 7275, 'buyer': 4613, 'dileep': 5008, 'buzy': 4615, 'huiming': 5687, 'hahaha': 5544, 'byatch': 4619, 'byåóleafcutter': 4620, 'outstanding': 3041, 'la1': 5957, 'b\\x89û÷ham': 4621, 'c-in': 4622, 'c-red': 4623, 'dentists': 4971, 'cakes': 4624, 'least': 961, 'call2optout/hf8': 4627, 'chat80155': 4697, 'poly/true/pix/ringtones/games': 6667, 'stdtxtrate': 7308, 'callfreefone': 4634, 'remembered': 2176, 'calls1': 4635, 'cannot': 1901, 'sell': 829, '4msgs': 3909, 'heltini': 5612, 'calm': 4636, 'cantdo': 4642, 'buzz': 1535, 'europe': 5201, 'careful': 4651, 'carlin': 4652, 'carpark': 4654, 'cashed': 4658, 'casing': 4659, 'casting': 4660, 'catches': 4662, 'ayn': 4376, 'categories': 4663, 'causes': 4664, 'cave\\\\': 4665, 'wrenching': 7938, 'cedar': 4670, 'ceiling': 4671, 'irulinae': 5809, 'family': 623, 'celebrate': 4672, 'census': 4674, 'via': 1124, 'defer': 4956, '4-pavanaputra': 3874, 'cereals': 4675, 'unsubscribed': 7706, 'ceri': 4676, 'certainly': 4677, 'pretsorginta': 6732, 'fuckinnice': 5398, 'rply': 1246, 'respect': 1694, 'half-8th': 5548, 'ofå£2000': 6448, 'w1j': 3407, 'fav': 5274, 'ponnungale': 6672, 'sleepin': 3231, 'keys': 2887, 'chachi': 4679, 'wendy': 7856, 'chad': 4680, 'nursery': 6421, 'splendid': 7261, 'challenge': 4681, 'reasonable': 6849, 'champlaxigating': 4683, 'uptown': 7719, 'champneys': 4684, 'strips': 7351, 'chances': 4685, 'changing': 4686, 'goodnight': 1201, 'chapel': 4687, 'chaps': 4688, 'gon': 5476, 'entropication': 5181, 'katexxx\\\\': 5904, 'character': 4690, 'torrents': 7592, 'characters': 4691, 'energy': 1971, 'charged@150p/msg': 4692, 'charlie': 4693, 'intention': 5783, 'charts': 4694, 'specialise': 7243, 'gota': 5486, 'chastity': 4696, 'chatter': 4698, 'checkboxes': 4702, 'checkup': 4704, 'cross': 2629, 'cheek': 4705, 'listen': 674, 'cheered': 4706, 'call2optout=j5q': 4630, 'chef': 4710, 'cherthala': 4713, 'swann': 7419, 'quizzes': 6813, 'chez': 4717, '6times': 3983, 'chick': 4721, 'chickened': 4722, 'chik': 4724, 'childish': 4725, 'poboxox36504w45wq': 6657, 'takin': 2233, 'ridden': 6936, 'childporn': 4726, 'marrge': 6145, 'cleaning': 1547, 'chillin': 4728, 'weighed': 7851, 'remembr': 3146, 'chiong': 4731, 'chit-chat': 4733, 'block': 4495, 'chloe': 4735, 'choosing': 4736, 'chords': 4737, 'christians': 4740, 'continued': 4829, 'admin': 2439, 'sugardad': 7391, 'christmassy': 4741, '84025': 4025, 'busty': 4610, 'chuckin': 4742, 'fixedline': 5312, 'combine': 2600, 'fb': 1351, 'church': 4743, 'claimcode': 4747, 'claims': 4748, 'classes': 4751, 'classic': 4752, 'feed': 5278, 'classmates': 4753, 'puzzeles': 6800, 'clever': 4755, 'cliff': 4756, 'men': 969, '07821230901': 3553, 'closes': 4760, 'club4': 4765, 'clubmoby': 4768, 'cm': 4770, 'four': 2004, 'olympics': 6463, '\\\\jeevithathile': 4104, 'coca-cola': 4773, 'cock': 4774, 'saristar': 7006, 'coco': 4776, '35p': 3856, 'far': 624, 'mids': 2972, 'colany': 4778, 'lavender': 5988, '4txt/120p': 3914, 'nevr': 6354, 'spree': 1259, 'colin': 4779, 'inviting': 2054, 'colleg': 4781, 'comb': 4784, 'lapdancer': 5976, 'command': 4788, 'como': 4791, 'companion': 4792, 'compass': 4793, 'spirit': 7257, 'kintu': 5927, 'sending': 897, 'stop2': 7330, 'bathroom': 4429, 'complain': 4795, 'completes': 4798, 'completing': 4799, 'compliments': 4801, 'collect': 446, 'compulsory': 4804, 'computers': 4806, 'callback': 2556, 'neway': 6355, 'conacted': 4807, 'concerned': 4810, 'conditions': 4812, 'necessarily': 3009, 'conected': 4813, 'conference': 4814, '06': 3535, 'configure': 4815, 'connected': 4821, 'tosend': 7595, 'football': 2762, 'consensus': 4822, 'filth': 5298, 'conserve': 4824, 'consistently': 4825, 'sang': 7002, 'continent': 4828, 'install': 5777, 'contribute': 4830, 'documents': 5040, 'copied': 4837, 'dps': 5067, 'copies': 4838, 'walks': 7803, 'correctly': 4842, 'corrupt': 4843, 'cough': 4850, 'coulda': 4851, 'couldnåõt': 4852, 'notifications': 6406, 'count': 4853, 'countinlots': 4854, 'coupla': 4856, 'desparately': 4980, 'unemployed': 3378, 'courageous': 4858, '\\\\paths': 4114, 'pro': 6748, 'court': 4859, 'uncountable': 7681, 'courtroom': 4860, 'hari-': 5570, 'cousin': 4861, 'cps': 4864, 'isnt': 1380, 'crazyin': 4872, 'creativity': 4873, 'workage': 7925, 'cres': 4875, 'cried': 4878, 'crossing': 4882, 'dontcha': 5052, '%': 1785, 'crowd': 4883, 'wid': 840, 'brother\\x89û÷s': 4576, 'kodthini': 5943, 'taxes': 7469, 'yummy': 3450, 'nope': 636, 'cruel': 4886, 'unconsciously': 7679, 'crushes': 4889, 'å£6': 8035, 'csh11': 4890, 'cstore': 4892, 'cthen': 4893, 'cts': 4895, 'num': 1409, 'cudnt': 4897, 'datebox1282essexcm61xn': 4931, 'culdnt': 4898, 'mumhas': 6287, 'generally': 2017, 'sir': 359, 'cumin': 4900, 'curry': 4904, 'customercare': 4906, 'neighbors': 6344, 'cutefrnd': 4909, 'w/question': 7785, 'iron': 5804, 'particularly': 6559, 'earlier-we': 5112, 'cutest': 4910, 'understand': 914, 'cutie': 4911, 'cutting': 4912, 'cysts': 4915, 'shijas': 7090, 'dabbles': 4916, 'delicious': 4965, 'morning': 210, 'dads': 4918, 'po19': 6651, 'dancce': 4919, 'maximum': 6160, 'dance': 4920, 'nyt': 1078, 'fall': 1583, 'dancin': 4921, 'dao': 4924, 'gardener': 5424, 'just': 45, 'darker': 4925, 'irritation': 5808, 'darkness': 4927, 'dats': 4932, 'underdtand': 7682, 'lionp': 2912, 'dawns': 4933, '83355': 1294, 'dehydrated': 4961, '21/11/04': 3793, 'objection': 6433, 'dear-loving': 4938, 'papa': 6547, 'pocay': 6658, 'something': 180, 'dear1': 4939, 'death': 4941, 'crammed': 4867, 'dec': 4942, 'decent': 4944, 'advise': 2442, 'deciding': 4945, 'petrol-rs': 6611, 'guai': 5524, 'declare': 4947, 'dedicate': 4948, 'see': 94, 'dedicated': 4949, 'deduct': 4950, 'defeat': 4955, 'defo': 4958, 'degree': 4959, '09061104276': 3668, 'delayed': 4962, 'delete': 4963, 'deltomorrow': 4966, 'dena': 4968, 'including': 1608, 'dental': 4969, 'participate': 6557, 'dependable': 4973, 'dependents': 4974, 'designation': 4978, 'desk': 4979, 'necklace': 6334, 'dessert': 4981, 'smell': 7176, 'destiny': 4983, 'detail': 4984, 'rightly': 6938, 'developer': 4987, 'device': 4988, 'wahala': 7796, 'devils': 4989, 'dha': 4990, 'dialling': 4995, 'diapers': 4997, 'ndship': 6330, 'jen': 5854, 'holder': 1204, '\\\\none': 4112, 'macha': 6108, 'diddy': 4999, 'caroline': 2570, 'didnåõt': 5001, 'diesel': 5002, 'motivate': 6257, 'dieting': 5003, 'temper': 7483, 'patty': 6575, 'differences': 5004, 'dificult': 5005, 'seemed': 2194, 'digi': 5006, 'thank': 483, 'dinero': 5009, 'imf': 5738, 'disagreeable': 5014, 'disappeared': 5015, 'disappointment': 5016, '8ball': 4046, 'discreet': 5022, 'dismay': 5024, 'display': 5026, 'disturbance': 5027, 'golddigger': 5473, 'ditto': 5028, 'division': 5030, 'divorce': 5031, 'fowler': 5355, 'mia': 6195, 'deepak': 4951, 'randomlly': 6831, 'reply': 107, 'dlf': 5035, 'dobby': 5037, 'idea': 2041, 'dock': 5038, 'teresa': 7486, 'plus': 597, 'abroad': 4157, 'dogg': 5044, 'waliking': 7800, 'order': 506, 'doinat': 5046, 'pump': 6785, 'bother': 1160, 'dolls': 5048, 'dom': 5049, 'done/want': 5051, 'donyt': 5054, 'gave': 1198, 'dooms': 5055, 'towards': 1461, 'dormitory': 5056, 'calld': 4633, 'entrepreneurs': 5180, 'dose': 5057, 'breakin': 4552, 'pract': 6703, 'guild': 5532, 'dosomething': 5058, 'allo': 4233, 'doubles': 5062, 'dramatic': 5070, 'dreading': 5073, 'fps': 5357, 'dressed': 5075, 'piah': 6626, 'plum': 6646, 'drive\\\\': 5076, 'canname': 4641, 'driver': 5077, 'looovvve': 6065, 'feb': 1586, 'drizzling': 5078, 'drops': 5079, 'drugdealer': 5082, 'drunkard': 5084, 'drunken': 5085, 'garments': 5426, 'opps': 6478, 'nichols': 3016, 'lv': 6094, 'jeans': 2868, 'dudette': 5092, 'lyk': 6096, 'dull': 5094, 'better': 298, 'annie': 4268, 'dumb': 5095, 'ws': 7947, 'dungerees': 5097, 'duo': 5098, 'band': 4407, 'durham': 5099, 'lei': 431, 'dust': 5101, 'immunisation': 5740, 'duvet': 5102, 'next': 204, 'dvg': 5103, 'remove': 1428, 'neither': 6346, 'dwn': 5104, '250': 1807, 'dying': 5105, '\\\\adp\\\\': 4074, 'dysentry': 5106, 'e-mail': 5107, 'nothin': 6405, 'e-ternal': 5109, 'e14': 5110, 'eachother': 5111, 'ears': 5114, 'easily': 5117, 'east': 5118, 'developed': 4986, 'ebay': 5119, 'echo': 5120, 'eckankar': 5121, 'ecstacy': 5122, 'tigress': 7543, '2moro': 1809, 'spose': 7271, 'edhae': 5125, 'edition': 5127, 'mega': 6174, 'educational': 5130, 'edukkukayee': 5131, 'driving': 495, 'efreefone': 5136, 'kill': 5923, 'vikky': 1468, 'eggs-pert': 5139, 'pura': 6790, 'ego': 5140, 'eh74rr': 5141, 'potter': 6695, 'eightish': 5142, 'el': 5143, 'ela': 5144, 'eldest': 5149, 'elliot': 5153, '08001950382': 3559, 'email&gt': 5155, 'drum': 5083, 'embarrassed': 5158, 'nt': 551, 'embassy': 5159, 'friendship\\\\': 5383, 'emergency': 5160, 'employee': 5164, 'employer': 5165, 'initiate\\\\': 5764, 'endless': 5166, 'engaged': 5169, 'engalnd': 5170, 'enjoying': 5171, 'enna': 5173, 'spelled': 7248, 'ente': 5175, 'entertaining': 5177, 'foward': 5354, 'entirely': 5179, 'envy': 5184, '08701237397': 3573, 'epi': 5185, 'treats': 7610, 'sake': 3175, 'eppolum': 5186, 'equally': 5187, 'erotic': 5189, 'time&gt': 1459, 'ertini': 5191, 'own--you': 6525, 'eruku': 5192, 'forwarding': 5352, 'erutupalam': 5193, 'esaplanade': 5194, 'ken': 5912, 'sum': 7395, 'espe': 5196, 'ethnicity': 5198, 'ettans': 5199, 'evaluation': 5202, 'evaporated': 5203, 'paypal': 6583, 'phone750': 6620, 'eveb-': 5204, 'events': 5207, 'records': 1425, 'every1': 5208, 'everyboy': 5209, 'everyso': 5211, 'soryda': 7227, 'view': 7766, 'complaint': 4796, 'everythin': 5212, 'everything\\\\': 5213, '30ish': 2372, 'pudunga': 6782, 'evey': 5215, 'evo': 5217, 'evone': 5218, 'muchand': 6281, 'entertain': 5176, 'hack': 5543, 'evrydy': 5221, 'ex-wife': 5222, 'excused': 5224, 'exmpel': 5226, 'exorcism': 5227, 'anyways': 1854, 'related': 6880, 'shrink': 7122, 'exp': 5228, 'congrats': 709, 'expects': 5230, 'expiry': 5233, 'exposed': 5236, 'ext': 5237, 'shoving': 7117, 'reality': 2171, 'exterminator': 5238, 'extreme': 5239, 'smiling': 778, 'ey': 5240, 'wizzle': 7911, 'eye': 5241, 'customersqueries@netvision': 4908, 'quoting': 1685, 'fab': 5243, '09058094455': 3661, 'factory': 5246, 'drug': 1576, 'facts': 5247, 'tui': 7630, '2nite': 1287, 'fails': 5251, 'faith': 5253, 'pt2': 6778, 'fal': 5255, 'falconerf': 5256, 'ere': 5188, 'buen': 4592, 'fallen': 5257, '09065069154': 3689, 'told': 230, '88600': 1832, 'obese': 6431, 'bruce': 2544, 'falling': 5258, 'familiar': 5261, 'å£54': 8034, 'scores': 3187, 'passion': 6566, 'fancies': 5264, 'fans': 5265, 'goggles': 5468, 'seeking': 7042, 'texts': 419, 'farrell': 5266, 'farting': 5267, 'fassyole': 5268, 'fatty': 5271, 'meh': 968, 'fault&al': 5272, 'favor': 5275, 'musthu': 6296, 'middle': 2112, 'feathery': 5276, 'feet': 5280, 'spageddies': 7236, 'feng': 5282, 'receipts': 6853, 'few\\\\': 5284, 'ffffuuuuuuu': 5287, 'supose': 7402, 'sept': 1713, 'fidalfication': 5290, 'fiend/make': 5291, 'libertines': 6014, 'fifth': 5293, 'finest': 5302, 'should': 140, 'finishd': 5303, 'firmware': 5308, 'first-': 5309, 'x2': 7955, 'fiting': 5311, '87131': 1494, 'flatter': 5315, 'habit': 2805, 'maniac': 6135, '0871-4719-523': 3588, 'flea': 5317, 'flippin': 5320, 'florida': 5322, 'flung': 5325, '5we': 2393, 'room': 374, 'folks': 5330, 'risks': 6950, 'fondly': 5333, 'i\\x89û÷m': 2862, 'ass*': 4331, 'for': 19, 'fire': 5305, 'fones': 5334, 'forgets': 5340, 'forgive': 5341, 'minimum': 6207, 'forgiven': 5342, 'reply-': 6901, 'forgiveness': 5343, 'planet': 3071, 'buyers': 4614, 'fox': 5356, 'greece': 5510, 'franyxxxxx': 5361, 'freaky': 5363, 'free-send': 5368, 'free2day': 5369, 'freek': 5372, '151': 3764, 'freely': 5373, 'freemsg>fav': 5374, 'french': 5376, 'lovingly': 6076, 'hospitals': 5668, 'frequently': 5377, 'fresh': 5378, 'gymnastics': 5539, 'award': 445, 'fridays': 5379, 'matthew': 6157, 'summon': 7396, 'fried': 5381, 're-send': 6842, 'friendships': 5384, 'model': 1403, 'fring': 5385, '3': 182, 'replying': 1692, 'frnds\\\\': 5386, 'shot': 2201, 'mono#': 6246, 'frndship\\\\': 5388, 'frndsship': 5390, 'liked': 1217, 'frog': 5393, 'teju': 7479, 'frosty': 5395, '2hrs': 3822, 'fuelled': 5401, 'payee': 6580, 'thnx': 7527, 'fund': 5404, 'fundamentals': 5405, 'funk': 5407, 'fwiw': 5411, 'g2': 5412, 'repeat': 6898, 'gained': 5415, 'gandhipuram': 5419, 'predictive': 6720, 'freedom': 5370, 'garage': 5422, 'absolutely': 4159, 'gari': 5425, 'bck': 2496, 'unredeemed': 2263, 'jelly': 5853, 'greatly': 5508, 'tensed': 7485, 'gastroenteritis': 5427, 'allow': 4234, 'loses': 6069, 'nowadays': 6413, '87070': 4033, 'gayle': 5430, 'mostly': 6254, 'gays': 5431, 'eighth': 2703, 'gbp': 5432, 'gei': 5435, 'proove': 6764, 'ing': 2851, 'genuine': 5437, 'geoenvironmental': 5438, 'george': 5439, '3650': 3857, 'get4an18th': 5442, 'temple': 7484, '08718711108': 3628, 'click': 1167, 'geting': 5444, 'getsleep': 5445, 'gf': 5446, 'ghodbandar': 5447, 'lag': 2898, 'gibbs': 5448, 'parking': 6556, '087016248': 3576, 'inc': 1211, 'gifts': 5451, 'giggle': 5452, 'gigolo': 5453, 'hearted': 5596, 'girlfrnd': 5455, 'cleared': 2588, 'fightng': 5295, 'girlie': 5456, 'glory': 5457, 'sorta': 7224, '08718738034': 3637, 'gmw': 5460, 'go2': 5462, 'goals': 5464, 'slow': 899, 'canada': 2560, 'massages': 6148, 'gobi': 5466, 'gods': 5467, 'misbehaved': 6213, 'shattered': 7080, 'yorge': 7989, 'dem': 4967, 'goigng': 5469, 'gokila': 5471, 'students': 2226, 'goldviking': 5475, 'suggestion': 7392, 'gong': 5477, 'conversations': 4832, 'gonnamissu': 5478, 'goodfriend': 5480, 'one': 85, 'pesky': 6608, 'course': 855, 'goodmate': 5481, 'shall': 346, 'goodtime': 5483, 'gopalettan': 5484, 'gosh': 5485, 'sux': 7414, 'oblisingately': 6434, 'snowman': 3243, 'gotmarried': 5487, 'gotto': 5488, 'goverment': 5489, 'gprs': 5491, 'grab': 5494, '-p': 2305, 'grams': 5497, 'explicitly': 5234, 'dating': 804, 'granite': 5499, 'jaz': 5848, 'grasp': 5500, 'embarassed': 1577, 'grateful': 5501, 'grave': 5502, 'gravel': 5503, 'gravy': 5504, 'ou': 6498, 'gray': 5505, 'willpower': 7893, 'grazed': 5506, 'greatness': 5509, 'grooved': 5513, 'punch': 6786, 'grownup': 5518, 'guessed': 5527, 'charged': 798, 'guessin': 5529, 'rewarding': 6932, 'private': 641, 'hostel': 1373, 'gut': 5536, 'gv': 5537, 'gving': 5538, 'disastrous': 5018, 'h*': 5541, 'gifted': 5450, 'halla': 5551, 'fell': 2740, 'kanji': 5901, 'hallaq': 5552, 'deserve': 4977, 'went': 263, 'nails': 6312, 'tobed': 7569, 'hamper': 5554, 'handing': 5555, 'handsome': 5556, 'masteriastering': 6149, 'polo': 3080, 'handsomes': 5557, 'rates': 985, 'forå£38': 5353, 'hanks': 5560, 'wellda': 7855, 'appy': 4296, 'iphone': 5800, '08707509020': 1483, 'hannaford': 5561, 'happiest': 5565, 'rdy': 6840, 'august': 1864, 'chief': 4723, 'happily': 5566, 'hardest': 5568, 'cum': 857, 'hardly': 5569, 'harlem': 5572, 'harry': 5573, 'haventcn': 5581, 'enemy': 2707, 'havn': 5582, 'inside': 1377, 'arngd': 4310, 'lodge': 6052, 'hdd': 5583, 'heading': 5585, 'headset': 5587, 'headstart': 5588, 'intrepid': 5789, 'head\\x89û_': 5589, 'heal': 5590, 'healer': 5591, 'arguing': 4304, 'healthy': 5592, 'heap': 5593, 'mileage': 6198, 'hearin': 5594, 'heart-': 5595, 'inlude': 5766, 'tessy': 7490, 'hearts': 5597, 'hmmm': 724, 'shanghai': 7076, 'heavily': 5599, 'hello-': 5602, 'hello-ed': 5603, 'help08700621170150p': 5607, 'mt': 2996, 'helpful': 5609, '1x150p/wk': 1487, 'poly3': 6668, 'signing': 7133, 'helps': 5611, 'eve': 758, 'degrees': 4960, 'hen': 5613, 'hep': 5614, 'fffff': 5285, 'here>>': 5615, 'hero': 5616, 'report': 1430, 'kid': 5922, 'heroes': 5617, '***************': 3472, 'pin': 2150, 'heron': 5618, 'hesitant': 5619, 'mns': 6231, '20m12aq': 3792, 'hesitation': 5620, 'hg/suite342/2lands/row/w1j6hl': 5623, 'hhahhaahahah': 5624, 'spent': 1257, 'mre': 6266, 'kitty': 5934, 'worthless': 7931, 'hiding': 5627, 'highest': 5628, 'woke': 1130, 'hills': 5630, 'vomit': 1765, 'tai': 7449, 'himself': 5632, 'apeshit': 4278, 'himso': 5633, '09061209465': 3670, 'hitman': 5638, 'applying': 4289, 'loveme': 6074, 'hitter': 5639, 'hlp': 5642, 'hme': 5643, 'hmph': 5644, 'hockey': 5645, 'improved': 5748, 'hole': 5649, 'hols': 5651, 'certificate': 4678, 'province': 6771, 'answered': 2461, 'honestly': 5655, 'hooch': 5659, 'honesty': 5656, 'instituitions': 2853, '80062': 1291, 'honeymoon': 5657, 'scenario': 7018, 'fact': 946, 'hont': 5658, 'hoops': 5662, 'juz': 430, 'mus': 6290, 'hopes': 5664, 'js': 5877, 'twiggs': 7641, 'hopeu': 5665, 'horse': 5666, 'hos': 5667, 'hotels': 5669, 'px3748': 6802, 'hotmix': 5670, 'bus': 427, 'maps': 6138, 'housewives': 5674, 'housing': 5675, 'hit': 765, 'nos': 6401, 'howda': 5676, 'thangam': 1744, 'howdy': 5677, 'connect': 4820, 'http//tms': 5680, 'soooo': 7218, 'huai': 5683, 'mentor': 6185, 'hugh': 5685, 'hui': 5686, 'hurried': 5695, 'hustle': 5698, '21870000>hi': 2356, 'idiot\\\\': 5721, 'forth': 5349, 'atrocious': 4349, 'hvae': 5700, 'hype': 5701, 'hypertension': 5702, 'iam': 5705, '2000': 3788, 'ibh': 5707, 'ibuprofens': 5710, 'hu': 5682, 'act': 4180, 'iccha': 5711, 'icic': 5712, 'id=820554ad0a1705572711&first=trueåác': 5716, 'idc': 5717, 'å£1000call': 8023, 'ideal': 5718, 'psychologist': 6777, 'deep': 1567, 'converter': 4834, 'identification': 5719, 'idew': 5720, 'si': 7126, '\\\\morning\\\\': 4111, 'iff': 5723, 'ifink': 5724, 'wanna': 310, 'sth': 7321, 'innings': 2050, 'ig11': 5725, 'lancaster': 5968, 'ignorant': 5726, 'musta': 6295, 'ihave': 5728, 'ijust': 5729, 'ikno': 5730, 'table': 2232, 'heat': 5598, 'ileave': 5732, 'illness': 5733, 'ilol': 5734, 'image': 5735, 'experience': 1982, 'imposed': 5743, 'because': 351, 'imposter': 5744, 'impressed': 5745, 'impressively': 5746, 'includes': 5749, 'already': 147, 'inconvenient': 5750, 'increase': 5752, 'inever': 5756, 'party': 822, '\\\\shit': 4120, 'info@ringtoneking': 5759, 'lubly': 6085, 'learn': 1621, 'info@vipclub4u': 5761, 'infra': 5762, 'sh': 7068, 'inner': 5767, '500': 700, 'owns': 6527, 'innu': 5769, 'x': 259, 'inperialmusic': 5770, 'ages': 1508, 'jeetey': 5852, 'nottingham': 6408, 'personally': 6607, 'inspection': 5775, 'str*': 7340, 'installation': 5778, 'instant': 5779, 'instantly': 5780, 'instructions': 5781, 'are': 27, 'permission': 6600, 'ciao': 4744, 'intend': 5782, 'magic': 6122, 'savings': 7011, 'interfued': 5784, 'viva': 7778, 'internet/service': 5785, 'interviw': 5787, '08712317606': 3595, 'intha': 5788, 'intrude': 5790, 'invention': 5792, 'tncs': 1460, 'invitation': 5793, 'owo': 6528, 'christmas': 930, 'strtd': 7356, 'involve': 5795, 'pehle': 6587, 'fake': 2731, 'pose': 6683, 'enufcredeit': 5182, 'ip': 5797, 'purse': 6795, 'gr8prizes': 2798, 'b': 169, 'ipads': 5799, 'american': 1852, 'riley': 6939, 'iraq': 5801, 'iriver': 5803, 'irritated': 5806, 'acc': 1297, 'irritates': 5807, 'isaiah': 5812, 'takecare': 7453, 'shining': 7093, 'ishtamayoo': 5814, 'island': 5815, 'isn\\x89ûªt': 5816, 'ordered': 3038, 'say/ask': 7012, 'drastic': 5071, 'isn\\x89û÷t': 5817, 'isnåõt': 5818, 'itcould': 5820, 'restock': 6920, 'åòharry': 8042, 'arrived': 4314, 'itried2tell': 5822, 'itwhichturnedinto': 5823, 'itxt': 5824, 'ivatte': 5826, 'iwas+marine&thatåõs': 5828, 'thinking': 603, 'dual': 5088, 'reminder': 6890, 'iz': 5830, 'oredi': 638, 'i\\x89ûªm': 5831, 'track': 1462, 'iåõd': 5833, 'tops': 7590, 'jacuzzi': 5838, 'jam': 5840, 'tayseer': 7471, 'jap': 5845, 'jaykwon': 5847, 'jb': 5849, 'je': 5851, 'jerry': 5856, 'msgs': 729, 'ji': 5859, 'abbey': 4152, 'jia': 5860, 'joanna': 5861, 'jocks': 5862, 'johnåó-sounds': 5865, 'held': 2815, 'joke--thet': 5866, 'jolly': 5868, 'name2': 6315, 'noun': 3021, 'jon': 5869, 'sounds': 779, 'kavalan': 5906, '1winaweek': 2351, 'jos': 5873, 'jstfrnd': 5878, 'judgemental': 5880, 'prin': 6738, 'jules': 5881, 'juswoke': 5888, 'k61': 5889, 'k718': 5890, 'kaaj': 5891, 'cat': 1907, 'kaila': 5892, 'magazine': 6120, 'kaitlyn': 5893, 'lamp': 5967, 'å£1million': 8027, 'end': 282, 'ride': 1433, 'kalainar': 5895, 'kalisidare': 5896, 'karo': 5903, 'genius': 2783, 'doctor': 1174, 'kath': 5905, 'kaypoh': 5908, 'vday': 7749, 'ke': 5909, 'box139': 4533, 'keen': 5910, 'tcs': 2238, 'keluviri': 5911, 'keyword': 5914, 'ki': 5918, 'maximize': 2107, 'kicchu': 5919, 'kg': 5916, 'kickboxing': 5920, 'kilos': 5925, 'lekdog': 6005, 'high': 1051, 'kissing': 5931, 'indyarocks': 5755, 'kittum': 5933, 'youre': 7995, 'ko': 5940, 'konw': 5944, 'pictures': 1663, 'loads': 1063, 'spin': 7255, 'korean': 5946, 'kotees': 5949, 'dont': 102, 'l-oveable': 5953, ',': 7, 'l8': 5954, 'pobox45w2tg150p': 3076, 'l8rs': 5955, 'free*': 5365, 'la32wu': 5958, 'labor': 5959, 'lage': 5962, 'lambda': 5965, 'landlineonly': 5970, 'landlines': 5971, 'dining': 5010, 'landmark': 5972, 'laready': 5978, 'lasagna': 5981, 'lastest': 5982, 'latests': 5984, 'staying': 1112, 'laurie': 5986, 'lautech': 5987, 'loyal': 6079, '/': 1013, 'lay': 5990, 'woulda': 7935, 'princes': 6739, 'lccltd': 5993, 'ld': 5994, '\\\\urgent': 4130, 'luvs': 6092, 'le': 5995, 'leadership': 5996, 'leanne': 6000, 'learned': 6001, 'leg': 6003, 'les': 6010, '2nite-tell': 3828, 'level': 6012, 'ias': 5706, 'lifeis': 6017, 'mo': 1068, 'lifpartnr': 6018, 'pleasant': 6642, 'lighters': 6021, 'line': 306, 'project': 827, 'likeyour': 6023, 'limit': 6025, 'limiting': 6027, 'gauti': 5429, 'lindsay': 6030, 'stink': 7325, 'lined': 6033, 'lingo': 6035, 'torch': 1117, 'lipo': 6038, 'woozles': 7923, 'listened2the': 6040, 'listener': 6041, 'racal': 6815, 'rr': 6967, 'listening2the': 6042, 'self': 1712, 'lists': 6044, 'lit': 6045, 'literally': 6046, 'coins': 1551, 'teletext': 7481, 'lo': 6048, 'lock': 6050, 'woman': 1477, 'lodging': 6053, 'logoff': 6056, 'shouting': 7115, 'logon': 6057, 'starting': 992, 'logos': 6058, 'voda': 1764, 'wearing': 2278, 'stream': 7343, 'lonlines': 6062, 'burns': 4606, 'loo': 6063, 'lord': 6067, 'difficulties': 2662, 'hun-onbus': 5690, 'losers': 6068, 'realise': 3126, 'customers': 4907, 'films': 1995, 'raping': 6833, 'greeting': 5511, 'lotto': 6071, 'lotz': 6072, 'lst': 6082, 'unsubscribe': 691, 'lunsford': 6089, 'mistakes': 2979, 'luton': 6090, 'lyrics': 6098, 'm100': 6099, 'talent': 3305, 'm8': 6101, 'stopbcm': 7333, 'maaaan': 6103, '24m': 3804, 'maat\\\\': 6105, 'mac': 6106, 'machines': 6110, 'placed': 6636, 'macleran': 6112, 'macs': 6113, 'madodu': 6116, 'maggi': 6121, 'dhorte': 4993, 'maintain': 6126, 'skillgame': 3228, 'mallika': 6128, 'manageable': 6129, 'soc': 7199, 'manchester': 6130, 'night': 122, 'mandan': 6131, 'mango': 6134, 'maraikara': 6139, 'mathematics': 6151, 'mathews': 6152, '0871-872-9755': 3589, 'matra': 6154, 'worrying': 7930, 'matric': 6155, '08002988890': 3561, 'matrix3': 6156, 'speak': 418, 'gamb': 5417, 'max': 6158, 'dreams': 620, 'mca': 6162, 'ruin': 3168, 'meaningless': 6166, '114/14': 2343, 'meat': 6167, 'westonzoyland': 7866, 'recount': 6862, 'which': 237, 'mecause': 6169, 'brother': 588, 'f': 2729, 'meetins': 6173, 'pretend': 6731, 'mel': 6175, 'mental': 2965, 'melnite': 6176, 'faggy': 2730, 'melody': 6177, 'cuddled': 4896, 'memory': 6180, 'mention': 6182, 'mentioned': 6183, 'justify': 5887, 'stu': 7358, 'merely': 6186, 'weird': 3416, 'merememberin': 6187, 'message**thanks': 6189, 'messages-text': 6190, 'subscribers': 7376, 'method': 6192, 'mgs': 6193, 'millions': 6200, 'url&gt': 3385, 'lose': 813, 'milta': 6201, 'mina': 6202, 'minapn': 6203, 'minded': 6204, 'minnaminunginte': 6208, '18+only': 3769, 'mint': 6210, 'minus': 6211, 'e-tlp': 1965, 'mising': 6215, 'misss': 6218, 'blessings': 2520, 'earn': 2692, 'missy': 6220, '09066612661': 1798, 'mitsake': 6222, 'telling': 643, 'miwa': 6224, '09066660100': 3707, 'mjzgroup': 6226, 'twice': 1755, 'mk45': 6227, 'mmsto': 6230, 'mnth': 6232, 'mobilesvary': 6234, '09066364311': 3698, 'mobno': 6235, 'mobsi': 6237, 'several': 7062, 'mofo': 6239, 'lacs': 2897, 'dog': 1176, 'monkeespeople': 6242, 'monkeyaround': 6244, 'monkeys': 6245, 'shirts': 7096, 'monos': 6248, 'natwest': 6325, 'monster': 6249, 'motherfucker': 6256, '02/06/03': 1482, 'motivating': 6258, 'informed': 1376, 'motive': 6259, 'langport': 2900, 'mountain': 6261, 'error': 2714, 'nigpun': 6368, 'scoring': 7021, 'got\\\\': 2795, 'meatballs': 6168, 'mouth': 6264, 'msg+ticket@kiosk': 6269, 'msg150p': 6270, 'eggs': 2702, 'mth': 6276, 'much/impede': 6279, 'much\\\\': 6280, 'muhommad': 6283, 'multis': 6285, 'mundhe': 6289, 'grumble': 5520, 'tea/coffee': 7475, 'mush': 6291, 'mushy': 6292, 'musical': 6294, 'mutations': 6298, 'signin': 7132, 'mymoby': 6301, '13/10/04': 3746, 'imagination': 5736, 'raiden': 6820, 'mys': 6303, 'n-atural': 6304, 'pataistha': 6568, 'n=qjkgighjjgcbl': 6307, 'nagar': 6311, 'nannys': 6318, 'hiphop': 5634, 'nattil': 6323, 'nauseous': 6326, 'necesity': 6332, 'goodnite': 2793, 'necessity': 6333, 'needa': 6335, 'mates': 883, 'needing': 6336, 'anything': 167, 'srt': 7287, 'needle': 6337, 'angry': 924, 'needy': 6338, '@shesil': 4067, 'september': 7056, 'grief': 5512, 'neekunna': 6339, 'downs': 5065, 'neft': 6340, 'i': 3, 'neglet': 6342, 'neighbor': 6343, 'neighbour': 6345, 'naal': 6309, 'neo69': 6348, 'neshanth': 6349, 'netflix': 6350, 'neville': 6353, 'oil': 3029, 'newquay-send': 6357, 'nick': 6361, 'acted': 4181, 'ibm': 5708, 'quiteamuzing': 6811, 'careabout': 4650, 'nigh': 6365, 'nigro': 6369, 'nikiyu4': 6371, 'nino': 6374, 'nmde': 6380, 'hrs': 1209, 'steering': 7315, 'no-434': 6381, 'delivered': 2644, 'no-910': 6383, 'noisy': 6386, 'rude': 3167, 'sleepwell&amp': 7161, 'noiåõm': 6387, 'three': 3339, 'nokia6650': 6391, 'noncomittal': 6393, 'requests': 2177, 'evr': 5219, 'nonetheless': 6394, 'nookii': 6395, 'points': 573, 'noooooooo': 6396, 'nora': 6397, 'guys': 343, 'nosh': 6402, 'note': 6403, 'now1': 6412, 'noworriesloans': 6415, 'knock': 2893, 'nurses': 6422, 'nurungu': 6423, 'nusstu': 6424, '1/1': 3728, 'practical': 3090, 'nvq': 6425, '88877>free': 4040, 'nìâte': 6427, 'o=44345': 6428, 'poorly': 6676, 'quiet': 6810, 'obedient': 6430, 'spouse': 7274, 'oblivious': 6435, 'standing': 3265, 'steyn': 7320, 'odi': 6441, 'praveesh': 6712, 'ofcourse': 6442, 'offc': 6443, 'petey': 6610, 'offered': 6444, 'oga': 6449, 'okies': 6454, 'steve': 7319, 'okmail': 6455, 'meaning': 2108, 'olage': 6457, '3030': 1019, 'olave': 6458, 'appropriate': 4292, 'oli': 6460, 'ollu': 6461, 'on-edge': 6464, 'thousands': 3337, 'cheaper': 1333, 'onam': 6465, 'dodda': 5041, 'oncall': 6466, 'onion-rs': 6469, 'naked': 2125, 'only1more': 6470, 'subscriber': 1734, 'recieve': 6858, 'strong-buy': 7353, 'ooooooh': 6474, 'openings': 6476, 'opted': 6479, '130': 3747, 'optimistic': 6480, 'optin': 6481, 'passport': 6567, 'oral': 6483, 'organizer': 6489, 'surly': 7409, 'ortxt': 6493, 'change': 537, 'sf': 7066, 'othrwise': 6496, 'phne': 6618, 'otside': 6497, 'bf': 1316, 'ours': 6501, 'out--have': 6502, 'out--if': 6503, '[\\x89û_]': 4071, 'outages': 6504, 'outfor': 6508, 'guy': 499, 'semiobscure': 7048, 'outl8r': 6509, 'outrageous': 6510, 'push': 6796, 'ovarian': 6513, 'overa': 6514, 'overemphasise': 6516, 'ovr': 6519, 'owl': 6524, 'padhe': 6533, 'receipts\\x89ûówell': 6854, 'well': 139, 'painful': 6535, 'pale': 6537, 'pandy': 6541, 'melt': 2962, 'losing': 2095, 'panicks': 6542, 'paragraphs': 6551, 'infact': 5757, 'harder': 5567, 'parchi': 6553, 'lover': 1397, 'bawling': 4432, 'pours': 6698, 'wherever': 1771, 'bambling': 4406, 'parkin': 6555, 'particular': 6558, 'parts': 6561, 'silly': 7135, 'mahal': 6125, 'paru': 6562, 'bmw': 4508, 'sorry-i': 7223, 'grace': 5495, 'pases': 6563, 'passable': 6564, 'previously': 6735, 'passes': 6565, 'listening': 2915, 'path': 6570, 'patients': 6572, 'patrick': 6573, 'way&this': 7830, 'payment': 6581, 'gsex': 5521, 'pei': 6588, 'pen': 6589, 'perform': 6594, 'trishul': 7616, 'remixed': 6892, 'performed': 6595, 'peril': 6597, 'permissions': 6601, 'renewal': 3147, 'perpetual': 6602, 'persevered': 6603, 'persian': 6604, 'person2die': 6605, '3hrs': 2376, 'personality': 6606, 'pest': 6609, 'specs': 7245, 'memories': 6179, 'pharmacy': 6614, 'phd': 6615, 'phil': 6616, 'philosophical': 6617, 'physics': 6625, 'pickle': 6627, 'piggy': 6629, 'wicket': 7886, 'pillows': 6631, 'pixels': 6634, 'sary': 3181, 'pl': 6635, 'hut': 5699, 'planettalkinstant': 6638, 'joking': 1616, 'platt': 6640, 'thatåõscool': 7504, 'pleassssssseeeeee': 6643, 'ploughing': 6645, 'dryer': 5086, 'bridgwater': 4563, 'plumbing': 6647, 'westshore': 7867, 'cozy': 4863, 'smiles': 7181, 'plural': 6648, 'plyr': 6649, 'pobox1': 6652, 'pobox365o4w45wq': 6656, 'rgent': 6934, 'pocked': 6659, 'emily': 5162, 'poker': 6663, 'various': 7743, 'polyh': 6670, 'pooja': 6674, 'spelling': 7249, '000pes': 3523, '1winawk': 3782, 'pookie': 6675, 'supreme': 7405, 'popped': 6678, 'popping': 6679, 'port': 6680, 'regretted': 6878, 'posh': 6684, 'possessiveness': 6686, '21st': 3796, 'possibly': 6688, 'posts': 6692, 'unhappy': 7689, 'eå£nd': 5242, 'fridge': 5380, 'poured': 6697, 'heehee': 5600, 'satsgettin': 7010, 'delivery': 590, 'prabu': 6702, 'practising': 6705, 'praises': 6706, 'mudyadhu': 6282, 'prakesh': 6709, 'tactful': 7444, 'n': 111, 'romantic': 1434, 'pre': 6714, 'predict': 6716, 'predicting': 6718, 'bunch': 4599, 'preferably': 6721, 'prepayment': 6723, 'presents': 6724, 'president': 6725, 'symbol': 3300, 'presnts': 6727, 'pressies': 6728, '09061213237': 2332, 'printer': 6741, 'value': 3392, 'prior': 6743, 'priority': 6744, 'prix': 6745, '\\\\be': 4077, 'prizeawaiting': 6746, 'gossip': 2020, 'problem-free': 6749, 'problum': 6751, 'pai': 6534, 'professors': 6755, 'progress': 6758, 'st': 780, 'projects': 6759, 'prometazine': 6760, 'vco': 7748, 'promotion': 6762, 'proper': 6765, 'groovy': 5514, 'props': 6766, 'proverb': 6768, 'provider': 6770, 'psychiatrist': 6775, 'pulling': 6783, 'pulls': 6784, 'punishment': 6788, 'goodevening': 5479, '#5000': 2297, 'ba': 2487, 'purchases': 6791, 'pure': 6792, 'pushbutton': 6797, 'pushes': 6798, 'å£200': 1139, 'puttin': 6799, 'qet': 6803, 'set': 777, 'qing': 6804, 'qlynnbv': 6805, 'queries': 6808, 'score': 2190, 'r836': 6814, 'radiator': 6816, 'rael': 6818, 'internet': 1378, 'raji': 6824, 'record': 2173, 'ralphs': 6828, 'ramen': 6829, 'ranju': 6832, 'newport': 6356, 'rats': 6835, 'rayan': 6836, 'rcb': 6837, 'wasn': 1004, 'rct': 6839, 're-met': 6841, 'reassuring': 6850, 'rebel': 6851, 'reception': 6855, 'recorder': 6861, 'reffering': 6870, 'refunded': 6875, 'double-faggot': 5060, 'regalportfolio': 6876, 'study': 904, 'relaxing': 6882, 'thesis': 3331, 'religiously': 6885, 'dates': 2637, 'reltnship': 6887, '8-hr': 4002, 'remembrs': 6888, 'annoying': 2459, 'reminded': 6889, 'reminding': 6891, 'removal': 6893, 'repent': 6899, '09065171142-stopsms-08': 3690, 'concentrate': 2604, 'strewn': 7346, 'replace': 6900, 'she': 93, 'require': 6903, 'requirements': 6905, 'resent': 6907, 'reserve': 6909, 'resizing': 6913, 'reslove': 6914, 'cooking': 2619, 'lays': 5992, 'respectful': 6915, 'responding': 6917, 'restocked': 6921, 'restrict': 6922, 'resubbing': 6924, 'resubmit': 6925, 'returning': 6927, 'returns': 6928, 'amy': 2457, 'reunion': 6929, 'reverse': 6931, 'rg21': 6933, 'boys': 1161, 'ringing': 6941, 'fantastic': 947, 'rings': 6942, 'ringtone-get': 6943, 'ringtoneking': 6944, 'suffer': 7387, 'wishing': 1128, 'ringtoneåá': 6945, 'ripped': 6948, 'rob': 6952, 'rocks': 6954, 'rodds1': 6955, 'rolled': 6956, 'bb': 927, 'rough': 6959, 'rounds': 6961, 'route': 6962, 'asap': 796, 'rows': 6964, 'rp176781': 6965, 'rt-king': 6969, 'citylink': 4745, 'rtf': 6970, 'rto': 6972, 'rules': 6975, 'rum': 6976, 'rushing': 6980, 'rwm': 6983, 'wont': 402, 's89': 6985, 'safely': 6989, 'google': 1595, 'safety': 6990, 'fights': 2743, 'sagamu': 6991, 'sales': 6994, 'sambar': 6999, 'shindig': 7092, 'sandiago': 7000, 'satanic': 7008, 'sathy': 7009, 'met': 1065, 'marry': 1631, 'sayin': 7013, 'sc': 7015, 'stylist': 7371, 'scenery': 7019, 'scorable': 7020, 'stands': 7296, 'shock': 7103, 'scratches': 7025, 'screen': 7026, '6days': 3980, 'screwd': 7027, 'algorithms': 4227, 'second-': 7033, 'secondary': 7034, 'flew': 5319, 'secretly': 7035, 'secrets': 7036, 'section': 7037, 'secured': 7039, 'seeds': 7040, 'seekers': 7041, 'sehwag': 7044, 'selflessness': 7046, 'semi': 7047, 'enemies': 5168, 'pendent': 6590, 'sensible': 7052, 'seperated': 7055, 'settling': 7060, 'seventeen': 7061, 'sextextuk': 7063, 'sexual': 7064, '430': 3888, 'shadow': 7070, 'solved': 7206, 'sterling': 7318, 'shag': 7071, 'cro1327': 4879, 'shampain': 7074, 'entitled': 1185, 'shangela': 7075, 'shant': 7077, 'whatsup': 7873, 'shelves': 7086, 'sherawat': 7087, 'digits': 5007, 'das': 4929, 'shifad': 7089, 'shinco': 7091, 'habba': 5542, 'shiny': 7094, 'gas': 667, 'shipped': 7095, 'shite': 7097, 'shitin': 7098, 'shldxxxx': 7102, 'shocking': 7104, 'unmits': 7701, 'barring': 4420, 'shola': 7105, 'timi': 7547, 'shore': 7108, 'uneventful': 7686, 'shortbreaks': 7110, 'shortcode': 7111, 'showered': 7118, 'shsex': 7124, 'shud': 7125, 'filled': 5296, 'sian': 7127, 'signal': 7129, 'significant': 7131, 'simpsons': 7139, 'sitter': 7147, 'sittin': 7148, '88088': 4036, 'sized': 7150, 'skinny': 7153, 'finn': 5304, 'skye': 7156, 'slaaaaave': 7157, 'ducking': 5090, 'photoshop': 6623, 'slacking': 7158, 'sleepingwith': 7159, 'sleeps': 7160, 'edison': 5126, 'slob-': 7164, 'slowing': 7168, 'dad': 407, 'smartcall': 7171, '4info': 2387, 'seing': 7045, 'smash': 7173, 'smashed': 7174, 'couch\\\\': 4849, 'smells': 7177, 'raed': 6817, 'smeone': 7178, 'overheating': 6517, 'smidgin': 7179, 'aberdeen': 4155, 'smiley': 7182, 'smoothly': 7187, '45239': 2382, 'buy': 194, 'smsing': 7189, 'snap': 7191, 't-ruthful': 7439, 'snatch': 7192, 'sneham\\\\': 7193, 'snoring': 7195, 'snot': 7196, 'snowball': 7197, 'baby': 380, 'soiree': 7202, 'worc': 7924, 'acting': 4183, 'solihull': 7205, 'someday': 7207, 'sunlight': 3288, 'someplace': 7208, 'sometext': 7210, 'sometme': 7211, 'messaging': 2969, 'somewhr': 7213, 'evening': 471, 'somone': 7214, 'nat': 2128, 'sonathaya': 7215, 'psychic': 6776, 'sooo': 7217, 'sooooo': 7219, 'sorrow': 7221, 'ericsson': 2712, 'sos': 7228, 'broken': 2542, 'source': 7232, 'soz': 7233, 'sozi': 7234, 'spaces': 7235, 'spain': 7237, 'sparkling': 7240, '08719181259': 3640, 'guidance': 5530, '177': 2350, 'specialisation': 7242, 'speling': 7247, 'spice': 7251, 'spinout': 7256, 'felt': 863, 'spjanuary': 7259, 'split': 7262, 'hp': 5678, 'splleing': 7263, 'spoilt': 7265, 'spoon': 7268, 'monthlysubscription@50p/msg': 6250, 'sportsx': 7270, 'trial': 7613, 'spot': 7272, 'flowers': 5324, 'spotty': 7273, 'spun-out': 7277, 'schedule': 3184, 'squeeeeeze': 7281, 'squeezed': 7282, 'srsly': 7286, 'rate': 574, 'stability': 7288, 'stagwood': 7292, 'stairs': 7293, 'stalk': 7294, 'chic': 4720, 'nightnight': 6367, 'star': 7298, 'perf': 6593, 'starve': 7303, 'nelson': 6347, 'steak': 7309, 'stealing': 7311, 'hurt': 523, 'steam': 7312, 'steed': 7314, 'bloody': 1531, 'stereo': 7316, 'stop2stop': 7331, 'convinced': 2614, 'stop\\\\': 7332, 'strict': 7347, 'squatting': 7280, 'strike': 7348, 'strings': 7349, 'strip': 7350, 'msgs@150p': 6274, 'costumes': 4847, 'strokes': 7352, 'studdying': 7360, 'studies': 7362, 'ignoring': 5727, 'stuffed': 7367, 'stuffs': 7368, 'ni8': 976, 'styling': 7370, 'golden': 5474, 'submitted': 7372, 'subs16+1win150ppmx3': 7374, 'med': 6170, 'subscribe': 7375, 'subsequent': 7379, 'desparate': 2650, '5-sankatmochan': 3922, 'subtoitles': 7380, 'shut': 3217, 'success': 7381, 'sucker': 7384, 'suckers': 7385, 'credit': 856, 'gnun': 5461, 'sugababes': 7389, 'previous': 2160, 'sullivan': 7394, 'in': 14, 'nr31': 6416, 'suply': 7401, 'surf': 7407, 'surname': 7410, 'watevr': 7826, 'surrender': 7411, 'textand': 7494, 'almost': 794, 'light': 881, 'svc': 7415, 'sw73ss': 7417, 'swan': 7418, 'swashbuckling': 7421, 'swat': 7422, 'sweater': 7424, 'sweatter': 7425, 'swhrt': 7427, 'swimsuit': 7428, 'teach': 1453, 'cant': 238, 'switch': 7429, 'swoop': 7430, 'sympathetic': 7433, 'synced': 7434, 'bx420-ip4-5we': 4618, 'syria': 7435, 'syrup': 7436, 'w111wx': 3406, '81618': 4011, 't&csbcm4235wc1n3xx': 7437, 't-shirt': 7440, 'official': 1649, 'swayze': 7423, 't91': 7441, 'height': 2814, 'normally': 2135, 'tablet': 7442, 'taka': 7452, 'talkbut': 7455, 'kothi': 2894, 'talkin': 7457, 'tamilnadu': 7460, 'å£1000': 443, 'tarot': 7461, 'taste': 7462, 'tasts': 7463, 'unsub': 1759, 'tata': 7464, 'tbs/persolvo': 7472, 'tc-llc': 7473, 'dentist': 4970, 'tears': 7477, 'telediscount': 7480, 'thanku': 7499, 'thankyou': 7500, 'aah': 2429, 'thasa': 7501, 'that2worzels': 7502, 'leh': 382, '1hr': 3775, 'theater': 7506, 'thedailydraw': 7507, 'themed': 7509, 'theoretically': 7515, 'mila': 6197, 'pthis': 6779, 'theplace': 7516}\n"
     ]
    }
   ],
   "source": [
    "word_to_index = vocab.get_stoi()\n",
    "print(word_to_index)"
   ]
  },
  {
   "cell_type": "code",
   "execution_count": 21,
   "id": "95f34b9d",
   "metadata": {},
   "outputs": [
    {
     "name": "stdout",
     "output_type": "stream",
     "text": [
      "['<unk>', '<pad>', '.', 'i', 'you', 'to', \"'\", ',', '?', 'a', 'the', '!', 'u', 'and', 'in', 'is', 'me', 'my', 'it', 'for', 'your', 'that', 'of', 'have', 's', 'on', 'call', 'are', 'can', '2', ')', 'now', 'but', 'so', 'not', 'm', 'or', 'we', 'at', 'do', 'get', 't', 'be', 'if', 'will', 'just', 'with', 'no', 'this', 'ur', 'how', 'up', '&lt', 'what', 'go', 'when', '4', 'from', 'ok', '#&gt', 'know', 'out', 'all', 'free', 'like', 'll', 'then', 'he', 'there', 'got', 'good', 'am', 'was', 'come', 'time', 'its', 'love', 'want', 'only', 'day', 'text', '-', 'need', 'going', 'lor', 'one', 'as', 'send', 'home', 'about', 'back', 'still', 'k', 'she', 'see', 'don', 'by', 'da', 'txt', 'any', 'stop', 'today', 'dont', 'r', 'tell', 'please', 'our', 'reply', 'take', 'hi', 'ì_', 'n', 'they', 'her', 'new', 'sorry', 'some', 'did', 'mobile', 'oh', 'him', 'think', 'night', 'hey', 're', 'been', 'phone', 'great', 'here', 'much', 'too', 'hope', 'later', 'week', 'had', 'more', 'pls', 'where', 'wat', 'well', 'should', 'has', 'make', 'dear', '(', 'claim', 've', 'already', 'who', 'way', '&', '1', 'say', 'an', 'ask', 'number', 'really', 'yeah', 'yes', 'e', 'give', 'prize', 'right', 'doing', 'meet', 'after', 'work', 'anything', 'would', 'b', 'd', 'thanks', 'why', 'c', 'im', 'let', 'them', 'won', 'cos', 'life', 'something', 'happy', '3', 'lol', 'msg', 'tomorrow', 'babe', 'every', 'last', 'sure', 'message', 'said', 'www', 'again', 'buy', 'miss', 'urgent', 'very', 'around', 'cash', 'find', 'money', 'over', 'keep', 'next', 'before', 'sent', 'wait', 'care', 'his', 'morning', 'tonight', 'us', 'ìï', 'off', 'someone', 'thing', 'also', 'contact', 'could', 'even', 'pick', 'ya', 'com', 'dun', 'first', 'help', 'sleep', 'were', 'late', 'told', 'win', '&amp', 'chat', 'down', 'feel', 'v', 'which', 'cant', 'soon', 'leave', 'many', 'per', 'place', 'thk', 'wan', 'always', 'coming', 'done', 'getting', 'nice', 'nokia', 'other', 'uk', 'gonna', 'guaranteed', 'haha', 'use', 'waiting', 'x', 'finish', 'friend', 'hello', 'went', 'wish', 'same', 'best', 'co', 'customer', 'friends', 'long', 'talk', 'try', 'fine', 'gud', 'than', 'thought', 'y', 'year', 'yet', 'class', 'cool', 'end', 'ill', 'mins', 'name', 'ready', 'bit', 'job', 'service', 'sms', 'stuff', '\\\\', 'didn', 'draw', 'lar', 'lunch', 'never', 'better', 'dat', 'days', 'trying', 'yo', '5', 'having', 'liao', 'line', 'man', 'things', 'tone', 'wanna', 'yup', '*', 'ah', 'being', 'early', 'enjoy', 'few', 'house', 'may', 'might', 'min', 'people', 'problem', 'shopping', 'shows', 'account', 'car', 'den', 'dinner', 'ever', 'half', 'holiday', 'person', 'real', 'smile', 'thanx', 'thats', 'aight', 'another', 'check', 'face', 'guess', 'guys', 'hear', 'jus', 'shall', 'word', '50', '6', 'awarded', 'because', 'big', 'eat', 'latest', 'live', 'maybe', 'reach', 'sat', 'sir', 'watch', 'bed', 'box', 'chance', 'code', 'dunno', 'everything', 'heart', 'into', 'lot', 'meeting', 'pay', 'plan', 'quite', 'room', 'shit', 'town', 'video', '150ppm', '1st', 'baby', 'girl', 'leh', 'look', 'mind', 'minutes', 'month', 'nothing', 'probably', 'weekend', '7', 'apply', 'called', 'fun', 'luv', 'once', 'orange', 'pa', 'remember', 'start', 'wanted', 'watching', 'wont', '000', 'able', 'abt', 'cost', 'dad', 'does', 'enough', 'fuck', 'god', 'goes', 'landline', 'left', 'looking', 'offer', 'receive', 'speak', 'texts', 'å£1', '2nd', 'actually', 'alright', 'away', 'bad', 'birthday', 'bus', 'camera', 'forgot', 'juz', 'lei', 'mail', 'making', 'must', 'network', 'office', 'play', 'po', 'princess', 'put', 'school', 'worry', 'å£1000', 'asked', 'award', 'collect', 'didnt', 'haf', 'important', 'says', 'sch', 'show', 'special', 'stay', 'sweet', 'those', 'though', 'tmr', 'wk', 'working', 'world', 'years', 'anyway', 'book', 'bring', 'busy', 'came', 'chikku', 'easy', 'else', 'evening', 'hair', 'havent', 'hour', 'huh', 'join', 'little', 'means', 'most', 'online', 'pain', 'ringtone', 'thank', 'til', 'tot', 'valid', 'wake', 'wif', 'xxx', '+', 'afternoon', 'ard', 'boy', 'dis', 'driving', 'g', 'gift', 'goin', 'guy', 'happen', 'hav', 'hot', 'missed', 'movie', 'net', 'order', 'oso', 'part', 'saw', 'sexy', 'these', 'times', 'tv', 'two', 'until', 'while', 'without', 'wot', '10', '18', 'both', 'details', 'hurt', 'made', 'price', 'run', 'since', 'started', 'trip', 'true', 'yourself', '16+', '9', 'attempt', 'believe', 'bonus', 'change', 'charge', 'collection', 'de', 'finished', 'food', 'full', 'haven', 'head', 'http', 'mean', 'mum', 'nite', 'noe', 'nt', 'okay', 'old', 'plz', 'selected', 't&c', 'test', 'tried', 'update', 'xmas', 'yesterday', '12hrs', '4*', 'address', 'beautiful', 'calls', 'colour', 'dude', 'feeling', 'makes', 'neva', 'pics', 'points', 'rate', 'ring', 'rite', 'sun', 't&cs', 'tomo', 'å£100', 'å£2000', '16', '18+', '8', 'alone', 'between', 'bored', 'brother', 'calling', 'delivery', 'drink', 'entry', 'fri', 'land', 'missing', 'needs', 'plus', 'sae', 'saying', 'services', 'smoke', 'taking', 'thinking', 'top', 'wants', 'weekly', 'words', 'xx', 'yours', '150p', 'auction', 'boytoy', 'bt', 'cause', 'college', 'company', 'darlin', 'date', 'double', 'dreams', 'drive', 'expires', 'family', 'far', 'game', 'gd', 'ha', 'happened', 'hours', 'identifier', 'lesson', 'lets', 'ltd', 'messages', 'mob', 'nope', 'open', 'oredi', 'outside', 'poly', 'private', 'sis', 'telling', 'till', 'todays', 'tones', 'took', 'touch', 'voucher', 'walk', 'wife', '750', '8007', 'aft', 'anytime', 'await', 'awesome', 'bout', 'break', 'caller', 'choose', 'decimal&gt', 'doesn', 'each', 'everyone', 'fucking', 'gas', 'girls', 'hungry', 'id', 'kind', 'knw', 'leaving', 'listen', 'lucky', 'mine', 'player', 'pub', 'question', 'sad', 'second', 'shop', 'sister', 'sleeping', 'smth', 'statement', 'takes', 'tho', 'treat', 'unlimited', 'unsubscribe', 'wen', 'whatever', 'whats', 'whole', 'wit', '08000930705', '100', '30', '500', '800', 'age', 'answer', 'anyone', 'available', 'carlos', 'close', 'club', 'congrats', 'congratulations', 'content', 'couple', 'drop', 'earlier', 'finally', 'forget', 'found', 'fr', 'freemsg', 'frnd', 'gone', 'hee', 'hmm', 'hmmm', 'jay', 'lots', 'minute', 'mom', 'msgs', 'mu', 'music', 'news', 'okie', 'prob', 'read', 'seen', 'snow', 'talking', 'together', 'uncle', 'w', 'yar', 'yr', 'å£2', 'å£500', '*grins*', '//www', '2003', 'abiola', 'b4', 'bank', 'camcorder', 'card', 'cut', 'darren', 'decided', 'either', 'eve', 'exam', 'fancy', 'friday', 'games', 'gr8', 'hard', 'hit', 'hows', 'india', 'kiss*', 'lovely', 'o', 'park', 'pounds', 'reason', 'saturday', 'sea', 'search', 'set', 'smiling', 'sounds', 'st', 'tel', 'un-redeemed', 'used', 'vouchers', 'wil', 'wonderful', 'worth', 'å£250', 'å£5000', '08000839402', '86688', '=', 'ago', 'almost', 'ans', 'asap', 'case', 'charged', 'chennai', 'comes', 'computer', 'coz', 'crazy', 'dating', 'doin', 'download', 'final', 'fone', 'gotta', 'knew', 'link', 'log', 'lose', 'loved', 'loving', 'march', 'mate', 'meant', 'muz', 'national', 'parents', 'party', 'pass', 'pic', 'pm', 'point', 'project', 'safe', 'sell', 'side', 'store', 'story', 'swing', 'their', 'through', 'ugh', 'visit', 'wana', 'welcome', 'wid', 'worried', 'wow', '0800', '10p', '150p/msg', 'asking', 'ass', 'bath', 'bathe', 'charity', 'comin', 'comp', 'confirm', 'correct', 'course', 'credit', 'cum', 'dead', 'direct', 'disturb', 'extra', 'fast', 'felt', 'figure', 'forever', 'friendship', 'frnds', 'gym', 'heard', 'hiya', 'il', 'information', 'isn', 'itself', 'ive', 'kiss', 'knows', 'laugh', 'less', 'lessons', 'light', 'lost', 'mates', 'mobileupd8', 'monday', 'mr', 'myself', 'nah', 'ones', 'operator', 'own', 'post', 'pretty', 'rental', 'rest', 'semester', 'sending', 'sex', 'slow', 'somewhere', 'sort', 'spend', 'street', 'study', 'support', 'ten', 'th', 'thinks', 'tickets', 'tired', 'tonite', 'truth', 'type', 'understand', 'valentine', 'wap', 'wonder', 'wrong', '\\x89û_', '11', '2day', '87066', 'aha', 'angry', 'ar', 'area', 'bb', 'booked', 'catch', 'christmas', 'complimentary', 'crave', 'currently', 'custcare', 'daddy', 'drugs', 'eg', 'eh', 'em', 'email', 'england', 'enter', 'etc', 'ex', 'facebook', 'fact', 'fantastic', 'film', 'frm', 'gets', 'glad', 'happiness', 'hw', 'ice', 'immediately', 'invited', 'ipod', 'kate', 'laptop', 'lazy', 'least', 'lect', 'library', 'luck', 'mah', 'match', 'mayb', 'meh', 'men', 'mm', 'mobiles', 'moment', 'move', 'mrt', 'na', 'ni8', 'normal', 'numbers', 'orchard', 'others', 'pc', 'pete', 'picking', 'questions', 'rates', 'ringtones', 'rock', 'secret', 'sick', 'somebody', 'song', 'starting', 'stupid', 'sunday', 'supposed', 'surprise', 'training', 'ts&cs', 'txting', 'unless', 'urself', 'usf', 'warm', 'wasn', 'water', 'weeks', 'whenever', 'winner', 'wkly', 'wondering', 'yep', '\\x89ûò', '/', '08712460324', '10p/min', '150', '20', '25p', '3030', '87077', 'access', 'across', 'age16', 'anymore', 'appreciate', 'arrive', 'bcoz', 'behind', 'bid', 'bucks', 'cheap', 'checking', 'clean', 'cold', 'comuk', 'credits', 'cuz', 'deal', 'depends', 'die', 'difficult', 'door', 'during', 'entered', 'eyes', 'father', 'gay', 'goodmorning', 'goto', 'hand', 'high', 'hold', 'honey', 'however', 'hurry', 'imma', 'info', 'insurance', 'interested', 'john', 'kids', 'kinda', 'loads', 'mark', 'met', 'midnight', 'mistake', 'mo', 'mon', 'months', 'moon', 'motorola', 'mp3', 'near', 'nigeria', 'nobody', 'ntt', 'nyt', 'omg', 'oops', 'opt', 'page', 'paid', 'paying', 'pizza', 'planning', 'pobox', 'pray', 'present', 'promise', 'quiz', 'rather', 'reached', 'reading', 'red', 'reference', 'rent', 'road', 'rs', 'sale', 'save', 'seeing', 'sense', 'shd', 'shower', 'shuhui', 'simple', 'sitting', 'small', 'sound', 'stand', 'staying', 'studying', 'sucks', 'tampa', 'thinkin', 'torch', 'train', 'trust', 'txts', 'umma', 'user', 'using', 'via', 'vl', 'voice', 'weed', 'wishing', 'within', 'woke', 'workin', 'write', 'wun', 'yahoo', 'yest', '|', '||', 'å£10', 'å£200', 'å£3', 'å£350', '$', '12', '2004', '\\\\hey', 'add', 'against', 'aiyo', 'alex', 'askd', 'awaiting', 'bag', 'bak', 'battery', 'bill', 'biz', 'blood', 'blue', 'bold', 'bother', 'boys', 'bslvyl', 'bugis', 'cancel', 'cell', 'cine', 'click', 'cute', 'decide', 'definitely', 'different', 'directly', 'discount', 'doctor', 'doesnt', 'dog', 'dogging', 'dream', 'dvd', 'eatin', 'eating', 'empty', 'ending', 'ends', 'entitled', 'excellent', 'except', 'expensive', 'fat', 'feels', 'flirt', 'following', 'forward', 'frens', 'funny', 'future', 'gal', 'gave', 'gee', 'gettin', 'goodnight', 'happening', 'hell', 'holder', 'holla', 'hoping', 'hospital', 'hotel', 'hrs', 'hurts', 'inc', 'kb', 'king', 'ldew', 'ldn', 'lemme', 'liked', 'loan', 'longer', 'lookin', 'loverboy', 'loves', 'matter', 'merry', 'mode', 'mrng', 'naughty', 'nxt', 'offers', 'omw', 'paper', 'past', 'phones', 'photo', 'plans', 'polys', 'poor', 'posted', 'press', 'raining', 'reaching', 'realy', 'recently', 'registered', 'reward', 'rply', 'seems', 'single', 'situation', 'slave', 'slept', 'sofa', 'sometimes', 'sony', 'sp', 'specially', 'spent', 'sport', 'spree', 'starts', 'station', 'straight', 'system', 'ta', 'texting', 'tht', 'tough', 'trouble', 'turns', 'tyler', 'wats', 'weather', 'wednesday', 'weekends', 'weight', 'wiv', 'xy', 'yoga', 'yrs', '00', '0870', '08718720201', '1327', '20p', '25', '2mrw', '2nite', '40gb', '4u', '5wb', '80062', '80488', '82277', '83355', '=d', '@', 'acc', 'admirer', 'advance', 'advice', 'aftr', 'ahead', 'ahmad', 'air', 'airport', 'alrite', 'amount', 'announcement', 'app', 'april', 'arrange', 'askin', 'babes', 'become', 'belly', 'bf', 'bin', 'bluetooth', 'body', 'boring', 'boss', 'brand', 'brings', 'broke', 'bt-national-rate', 'budget', 'buying', 'cal', 'cancer', 'cars', 'cd', 'changed', 'cheaper', 'cheers', 'children', 'cinema', 'coffee', 'couldn', 'country', 'cr9', 'croydon', 'damn', 'del', 'deliver', 'dey', 'din', 'don\\x89û÷t', 'especially', 'everybody', 'exams', 'fb', 'fetch', 'five', 'fixed', 'flag', 'fyi', 'gals', 'gentle', 'getzed', 'gives', 'giving', 'guide', 'hai', 'handset', 'happens', 'hate', 'heavy', 'ho', 'hook', 'hop', 'horny', 'horrible', 'hostel', 'hr', 'imagine', 'informed', 'inside', 'internet', 'ish', 'isnt', 'izzit', 'j', 'january', 'joined', 'joke', 'joy', 'kallis', 'kano', 'l8r', 'la', 'lady', 'law', 'lead', 'list', 'lmao', 'looks', 'lover', 'ma', 'married', 'matches', 'medical', 'moan', 'model', 'movies', 'no1', 'none', 'noon', 'notice', 'num', 'onto', 'partner', 'pilates', 'planned', 'plenty', 'pound', 'power', 'pple', 'putting', 'quick', 'rain', 'rakhesh', 'rcvd', 'rd', 'receipt', 'records', 'relax', 'remind', 'remove', 'replied', 'report', 'representative', 'request', 'ride', 'romantic', 'rose', 'round', 'savamob', 'short', 'simply', 'slowly', 'social', 'south', 'standard', 'std', 'strong', 'style', 'summer', 'sup', 'super', 'sura', 'swt', 'tea', 'teach', 'team', 'tenerife', 'thts', 'thurs', 'ticket', 'time&gt', 'tncs', 'towards', 'track', 'tuesday', 'uni', 'urawinner', 'valentines', 'valued', 'vikky', 'village', 'vote', 'waking', 'website', 'wed', 'wet', 'willing', 'wine', 'woman', 'worries', 'zed', '*kiss*', '*sighs*', '02/06/03', '08707509020', '08712300220', '1000', '11mths+', '1x150p/wk', '3510i', '36504', '3g', '530', '6hrs', '86021', '87131', '88039', '8th', '<forwarded', '\\\\hi', '\\\\i', '\\\\what', 'abi', 'accept', 'ache', 'activate', 'ad', 'added', 'adult', 'ages', 'ain', 'aiyah', 'alert', 'along', 'amazing', 'answering', 'answers', 'appt', 'aren', 'arms', 'asleep', 'ate', 'ave', 'awake', 'barely', 'basic', 'basically', 'bedroom', 'bet', 'black', 'blackberry', 'blank', 'bloody', 'bought', 'brought', 'btw', 'buzz', 'bye', 'cafe', 'cake', 'callertune', 'campus', 'cbe', 'cds', 'charges', 'child', 'chinese', 'choice', 'cleaning', 'clock', 'closed', 'closer', 'coins', 'colleagues', 'common', 'competition', 'complete', 'completely', 'connection', 'contract', 'copy', 'costs', 'cover', 'cry', 'cup', 'daily', 'day\\\\', 'december', 'deep', 'derek', 'digital', 'dint', 'dirty', 'dnt', 'donåõt', 'drivin', 'dropped', 'drug', 'embarassed', 'english', 'excuse', 'expect', 'expecting', 'explain', 'fall', 'fantasies', 'fault', 'feb', 'fever', 'fifteen', 'fingers', 'flat', 'flights', 'freephone', 'fren', 'fullonsms', 'google', 'gorgeous', 'grand', 'green', 'grl', 'group', 'hanging', 'hg/suite342/2lands', 'hill', 'holding', 'howz', 'hun', 'ibiza', 'including', 'inclusive', 'intelligent', 'intro', 'iåõm', 'jazz', 'jess', 'jiu', 'joking', 'keeping', 'kept', 'kerala', 'ladies', 'learn', 'leaves', 'legal', 'leona', 'lift', 'living', 'london', 'looked', 'loyalty', 'marriage', 'marry', 'masters', 'meal', 'meetin', 'member', 'menu', 'mid', 'mite', 'mmm', 'moji', 'mood', 'mother', 'mumtaz', 'netcollex', 'nights', 'nvm', 'nw', 'obviously', 'official', 'oni', 'opinion', 'opportunity', 'original', 'otherwise', 'outta', 'p', 'pack', 'paris', 'password', 'pg', 'photos', 'picked', 'pictures', 'pie', 'pissed', 'pix', 'players', 'pleased', 'pleasure', 'pobox84', 'polyphonic', 'pongal', 'porn', 'possible', 'ppl', 'prepare', 'problems', 'process', 'profit', 'pussy', 'q', 'quality', 'queen', 'quote', 'quoting', 'r*reveal', 'radio', 'reasons', 'receiving', 'ref', 'rem', 'replying', 'research', 'respect', 'return', 'roger', 'role', 'ron', 'roommate', 'row', 'ru', 'rush', 's&c', 'salary', 'santa', 'scared', 'scream', 'screaming', 'season', 'sec', 'selection', 'self', 'sept', 'series', 'serious', 'sha', 'shame', 'share', 'shoot', 'shortly', 'shouldn', 'sing', 'skilgme', 'sky', 'skype', 'smile*', 'somethin', 'sooner', 'space', 'special-call', 'spoken', 'step', 'sub', 'subscriber', 'sunshine', 'surely', 'surprised', 'taken', 'tariffs', 'tc', 'tear', 'term', 'terms', 'thangam', 'theatre', 'thursday', 'timing', 'tm', 'total', 'tour', 'travel', 'tt', 'ttyl', 'tuition', 'twice', 'u-find', 'unable', 'under', 'unsub', 'usual', 'usually', 'version', 'vip', 'voda', 'vomit', 'waitin', 'walking', 'wanting', 'weak', 'wear', 'wherever', 'wishes', 'wkend', 'works', 'worse', 'xchat', 'yan', 'yetunde', 'yijue', 'yogasana', 'yun', 'å£150', 'å£800', 'å£900', '%', '&gt', '*loving', '*smiles*', '*teasing', '05', '07xxxxxxxxx', '08002986906', '08701417012', '08702840625', '08712405020', '08715705022', '09066362231', '09066612661', '1000s', '10am-7pm', '11mths', '150p/min', '150p/msgrcvdhg/suite342/2lands/row/w1j6hl', '150p/tone', '150pm', '18yrs', '250', '28', '2moro', '2morow', '2optout', '300', '3d', '3gbp', '3mins', '3qxj9', '434', '4th', '50p', '50perwksub', '542', '60p/min', '62468', '6pm', '786', '80082', '83600', '84128', '85023', '87239', '88066', '88600', '89555', '8wp', '9ae', '\\\\its', '\\\\oh', '\\\\our', '_', 'ac', 'accident', 'accordingly', 'action', 'adore', 'aint', 'aiya', 'aiyar', 'al', 'alcohol', 'alfie', 'alive', 'american', 'anti', 'anyways', 'apologise', 'apparently', 'apps', 'argument', 'armand', 'arrested', 'arsenal', 'assume', 'attend', 'august', 'auto', 'avatar', 'avent', 'balance', 'bat', 'bathing', 'bday', 'beer', 'begin', 'bell', 'beyond', 'bigger', 'billed', 'birds', 'birth', 'bitch', 'bite', 'blah', 'blake', 'bloke', 'boo', 'booking', 'books', 'born', 'box95qu', 'box97n7qp', 'boye', 'brothas', 'bud', 'buns', 'burger', 'business', 'butt', 'callin', 'cam', 'cann', 'cannot', 'cardiff', 'caring', 'carry', 'cash-balance', 'cash-in', 'cat', 'catching', 'caught', 'cc', 'center', 'cha', 'chain', 'changes', 'chatting', 'checked', 'chicken', 'citizen', 'city', 'claire', 'clear', 'collecting', 'com1win150ppmx3age16', 'comedy', 'concert', 'confidence', 'confirmed', 'considering', 'constantly', 'contacted', 'contents', 'convey', 'cornwall', 'costa', 'crab', 'created', 'credited', 'cs', 'cud', 'cuddle', 'current', 'cw25wx', 'dai', 'dare', 'dark', 'darling', 'dave', 'decision', 'def', 'deleted', 'deliveredtomorrow', 'dick', 'died', 'diff', 'discuss', 'dislikes', 'docs', 'doggy', 'dollars', 'doors', 'downloads', 'drinks', 'dry', 'dsn', 'e-tlp', 'earth', 'easier', 'eight', 'elsewhere', 'ended', 'energy', 'eng', 'enjoyed', 'enuff', 'er', 'escape', 'esplanade', 'essential', 'evng', 'exe', 'exhausted', 'experience', 'fair', 'fantasy', 'faster', 'fave', 'favourite', 'february', 'fees', 'female', 'fighting', 'file', 'files', 'fill', 'films', 'finishes', 'finishing', 'fix', 'flash', 'fml', 'followed', 'footprints', 'foreign', 'four', 'fran', 'freak', 'freefone', 'frying', 'fuckin', 'ful', 'gang', 'gap', 'gary', 'gautham', 'ge', 'geeee', 'generally', 'giv', 'gona', 'gossip', 'gram', 'greetings', 'ground', 'gt', 'handed', 'handle', 'hands', 'hardcore', 'havin', 'headache', 'hella', 'hint', 'hl', 'hmv', 'hopefully', 'house-maid', 'hubby', 'hug', 'ibhltd', 'ic', 'idea', 'ideas', 'idiot', 'ignore', 'in2', 'inches', 'indian', 'indians', 'infernal', 'innings', 'instead', 'interview', 'invite', 'inviting', 'iouri', 'irritating', 'islands', 'issue', 'issues', 'italian', 'it\\x89û÷s', 'i\\x89û÷ll', 'james', 'jason', 'jealous', 'jordan', 'journey', 'jst', 'july', 'june', 'k52', 'key', 'kick', 'kindly', 'knackered', 'knowing', 'lab', 'laid', 'laughing', 'ldnw15h', 'lecture', 'legs', 'letter', 'letters', 'lick', 'lie', 'lifetime', 'likely', 'likes', 'lines', 'lives', 'local', 'login', 'login=', 'losing', 'loss', 'lotr', 'luxury', 'm8s', 'machan', 'mad', 'madam', 'malaria', 'male', 'mall', 'management', 'maximize', 'meaning', 'measure', 'medicine', 'meds', 'middle', 'miles', 'milk', 'miracle', 'missin', 'moby', 'moments', 'moms', 'monthly', 'moral', 'mths', 'murdered', 'murderer', 'naked', 'nan', 'nap', 'nat', 'nature', 'nearly', 'networking', 'nokias', 'norm', 'norm150p/tone', 'normally', 'o2', 'often', 'okey', 'opt-out', 'optout', 'package', 'pages', 'passionate', 'pending', 'perfect', 'personal', 'philosophy', 'picture', 'pieces', 'pin', 'plane', 'played', 'playing', 'pod', 'police', 'ppm', 'prabha', 'practice', 'prefer', 'previous', 'prolly', 'promises', 'proof', 'ptbo', 'purchase', 'quickly', 'quit', 'raise', 'random', 'rang', 'reality', 'received', 'record', 'regret', 'released', 'remembered', 'requests', 'respond', 'result', 'review', 'rich', 'roads', 'roast', 'rofl', 'rule', 'running', 'saved', 'scary', 'science', 'score', 'se', 'searching', 'seem', 'seemed', 'sen', 'settled', 'seven', 'sheets', 'shipping', 'shld', 'shot', 'sign', 'silent', 'sim', 'singles', 'sk3', 'sk38xh', 'skip', 'slippers', 'snake', 'software', 'sol', 'sometime', 'songs', 'sonyericsson', 'sore', 'spk', 'spoke', 'staff', 'stamps', 'stock', 'stopped', 'stranger', 'stress', 'stuck', 'students', 'subscribed', 'subscription', 'sugar', 'sunny', 'suntec', 'table', 'takin', 'tat', 'taunton', 'taylor', 'tb', 'tcs', 'teacher', 'tells', 'terrible', 'tests', 'textcomp', 'texted', 'textoperator', 'thanksgiving', 'that\\x89û÷s', 'thatåõs', 'thnk', 'thru', 'tick', 'tis', 'tog', 'tom', 'totally', 'transfer', 'tscs087147403231winawk', 'turn', 'txtauction', 'ubi', 'understood', 'unique', 'unredeemed', 'unsold', 'upset', 'ure', 'urgnt', 'usc', 'vary', 'vava', 'vry', 'w45wq', 'wales', 'walls', 'walmart', 'waste', 'wc1n3xx', 'wearing', 'wedding', 'wer', 'we\\x89û÷re', 'whenevr', 'white', 'whom', 'whos', 'wins', 'wnt', 'wtf', 'wylie', 'x\\\\', 'yay', 'ym', 'å£3/wk', 'å£4', 'å£400', 'åð', '#5000', '$700', '***********', '*9', '*kisses*', '*pouts*', '*stomps', '-d', '-p', '/7', '008704050406', '02/09/03', '0207', '02073162414', '0578', '07/11/04', '0776xxxxxxx', '08000407165', '08000776320', '08000938767', '08002888812', '08452810073', '08700621170150p', '08706091795', '08709222922', '08712402050', '08712405022', '08718726270', '087187262701', '08718727870', '08718738001', '09050003091', '09050090044', '09056242159', '09058094565', '09061213237', '09061221066', '09061743806', '09061790121', '09064012160', '09065989182', '09066350750', '1/2', '1030', '10k', '10ppm', '114/14', '121', '125gift', '15', '150p/mtmsgrcvd18', '150ppermesssubscription', '153', '177', '1winaweek', '200', '2007', '20p/min', '21', '21870000>hi', '220-cm2', '24', '24hrs', '26th', '2find', '2geva', '2go', '2marrow', '2morro', '2p', '2stop', '2stoptxt', '2u', '2waxsto', '2wks', '30ish', '31/10/04', '31p', '373', '3hrs', '3uz', '4-tc', '40', '40533', '41685', '45239', '4a', '4d', '4eva', '4fil', '4info', '4mths', '50/pm', '50gbp/mtmsg18', '5min', '5p/min', '5we', '630', '69669', '69698', '6hl', '6months', '7250', '7250i', '7ish', '80086', '80182', '80608', '80878', '81151', '82468', '83383', '84199', '85', '86888', '87575', '88222', '88888', '89545', '89693', '8am', '8p/min', '9ja', '9pm', '9t', '\\\\a', '\\\\cheers', '\\\\how', '\\\\im', '\\\\life', '\\\\the', '\\\\wen', 'aah', 'ability', 'abj', 'abta', 'aburo', 'academic', 'accidentally', 'actor', 'actual', 'addie', 'admin', 'administrator', 'adventure', 'advise', 'affair', 'affairs', 'afraid', 'ag', 'agalla', 'agree', 'airtel', 'aka', 'album', 'ali', 'allah', 'allowed', 'alwys', 'among', 'amy', 'andros', 'annoying', 'ansr', 'answered', 'anthony', 'anybody', 'anythin', 'anywhere', 'apart', 'apartment', 'application', 'appointment', 'appreciated', 'arcade', 'arent', 'argh', 'argue', 'arts', 'asp', 'atlanta', 'atlast', 'attached', 'audition', 'audrey', 'aunt', 'aunty', 'av', 'avoid', 'avoiding', 'ba', 'bags', 'bahamas', 'bang', 'banks', 'bar', 'batch', 'bbd', 'bc', 'bck', 'bears', 'beauty', 'bec', 'becomes', 'becoz', 'beg', 'begging', 'behave', 'bein', 'belovd', 'beloved', 'ben', 'benefits', 'bids', 'biggest', 'billion', 'bills', 'birla', 'birthdate', 'bishan', 'blame', 'bleh', 'bless', 'blessings', 'blind', 'bloomberg', 'blu', 'boat', 'booty', 'borin', 'boston', 'bottle', 'bottom', 'bowl', 'box326', 'box39822', 'boyfriend', 'brah', 'bread', 'breathe', 'bright', 'brilliant', 'bringing', 'bristol', 'broad', 'broken', 'bros', 'bruce', 'buff', 'building', 'buses', 'båõday', 'c52', 'cabin', 'calculation', 'cali', 'calicut', 'california', 'call09050000327', 'callback', 'callers', 'callså£1/minmobsmorelkpobox177hp51fl', 'callså£1/minmoremobsemspobox45po139wa', 'canada', 'canal', 'canary', 'cancelled', 'capital', 'captain', 'cared', 'career', 'carefully', 'cares', 'caroline', 'cashbin', 'cashto', 'castor', 'causing', 'celeb', 'celebration', 'centre', 'channel', 'charles', 'chart', 'chasing', 'cheese', 'chill', 'china', 'chocolate', 'chosen', 'cld', 'cleared', 'clearing', 'clearly', 'cme', 'cn', 'coast', 'coat', 'cochin', 'collected', 'color', 'colours', 'com/index', 'combine', 'commercial', 'community', 'completed', 'concentrate', 'condition', 'conducts', 'confused', 'connections', 'consider', 'constant', 'contacts', 'continue', 'control', 'convinced', 'convincing', 'cook', 'cooked', 'cookies', 'cooking', 'coping', 'costå£1', 'countin', 'cramps', 'crash', 'craziest', 'cream', 'creepy', 'crisis', 'cross', 'cuddling', 'curious', 'cust', 'custom', 'dan', 'dancing', 'darlings', 'dates', 'dealer', 'dealing', 'dearly', 'decisions', 'definite', 'delay', 'delivered', 'demand', 'denis', 'department', 'depressed', 'desert', 'desparate', 'desperate', 'despite', 'detroit', 'deus', 'develop', 'di', 'diamonds', 'dictionary', 'didn\\x89û÷t', 'diet', 'difference', 'difficulties', 'dignity', 'dime', 'ding', 'discussed', 'distance', 'distract', 'disturbing', 'dload', 'doc', 'dokey', 'dollar', 'donate', 'donno', 'dorm', 'doubt', 'dough', 'downloaded', 'dr', 'dress', 'dresser', 'drinkin', 'drinking', 'drms', 'drunk', 'dubsack', 'duchess', 'due', 'durban', 'ear', 'earn', 'easter', 'eaten', 'ec2a', 'edu', 'ee', 'eek', 'effect', 'effects', 'egg', 'eggs', 'eighth', 'elaine', 'electricity', 'en', 'enemy', 'energy\\\\', 'engin', 'envelope', 'epsilon', 'ericsson', 'erm', 'error', 'eta', 'euro', 'everyday', 'evn', 'evry', 'exact', 'exactly', 'exciting', 'excuses', 'executive', 'exeter', 'explicit', 'express', 'expression', 'f', 'faggy', 'fake', 'falls', 'fan', 'farm', 'fastest', 'fathima', 'favorite', 'favour', 'feet*', 'fell', 'field', 'fight', 'fights', 'figures', 'filthy', 'finance', 'fish', 'fit', 'flaked', 'flaky', 'flies', 'flight', 'flip', 'flirting', 'floor', 'flower', 'fly', 'fo', 'follow', 'fool', 'foot', 'football', 'force', 'forevr', 'forgotten', 'forums', 'forwarded', 'free>ringtone', 'fret', 'fringe', 'fromm', 'front', 'fujitsu', 'funky', 'further', 'g696ga', 'gain', 'galileo', 'garbage', 'gaytextbuddy', 'geeeee', 'gender', 'genius', 'gent', 'gentleman', 'gently', 'germany', 'getstop', 'gimme', 'given', 'gn', 'goal', 'goodnite', 'goodnoon', 'got\\\\', 'gotten', 'govt', 'gr8prizes', 'gravity', 'greet', 'growing', 'gudnite', 'guessing', 'guilty', 'habit', 'haiz', 'ham', 'hamster', 'hang', 'happend', 'hasn', 'havenåõt', 'heater', 'height', 'held', 'helen', 'helpline', 'hence', 'henry', 'hes', 'hip', 'history', 'hm', 'hol', 'holy', 'hoped', 'hor', 'howard', 'hrishi', 'hsbc', 'huge', 'hugs', 'hundred', 'hunny', 'husband', 'hv', 'hyde', 'idk', 'ikea', 'impatient', 'impossible', 'inch', 'incident', 'include', 'inconsiderate', 'indeed', 'indicate', 'individual', 'inform', 'infront', 'ing', 'installing', 'instituitions', 'interesting', 'interflora', 'invest', 'ip4', 'ipad', 'iq', 'items', 'itåõs', 'i\\x89û÷m', 'jacket', 'jamster', 'jan', 'jane', 'java', 'jeans', 'jenny', 'jesus', 'jiayin', 'jo', 'jobs', 'jogging', 'joining', 'jokin', 'jolt', 'jsco', 'juan', 'juicy', 'kadeem', 'kaiez', 'kappa', 'karaoke', 'keeps', 'kent', 'keys', 'kicks', 'kidding', 'kidz', 'killed', 'killing', 'knock', 'kothi', 'kz', 'l', 'lacs', 'lag', 'lane', 'langport', 'language', 'largest', 'lately', 'latr', 'licks', 'lido', 'lies', 'lik', 'lil', 'linerental', 'lionm', 'lionp', 'lions', 'lip', 'listening', 'liverpool', 'lk', 'loans', 'location', 'locations', 'logo', 'lonely', 'lookatme', 'loose', 'lotta', 'lou', 'lounge', 'lousy', 'lov', 'lovable', 'lovers', 'low', 'lt', 'lucozade', 'lucy', 'lush', 'lyf', 'lyfu', 'm227xy', 'm26', 'm263uz', 'macho', 'maga', 'mailbox', 'mails', 'major', 'makin', 'manage', 'map', 'market', 'mas', 'massive', 'math', 'max10mins', 'maxå£7', 'mb', 'mcat', 'meanwhile', 'meets', 'mei', 'melle', 'melt', 'members', 'membership', 'mental', 'meow', 'mess', 'messaged', 'messaging', 'messenger', 'messy', 'mids', 'mini', 'minor', 'minuts', 'mis', 'miserable', 'missing*', 'mistakes', 'mmmm', 'mmmmmm', 'mnths', 'mobilesdirect', 'module', 'modules', 'mojibiola', 'mono', 'morn', 'morphine', 'moved', 'moves', 'movietrivia', 'moving', 'msg@150p', 'msn', 'mt', 'mummy', 'murder', 'mystery', 'nag', 'nahi', 'nalla', 'named', 'names', 'nasty', 'nb', 'nd', 'ne', 'necessarily', 'necessary', 'neck', 'needed', 'nervous', 'networks', 'newest', 'nichols', 'nimya', 'nit', 'nitros', 'noline', 'noun', 'ntwk', 'nus', 'nyc', 'officially', 'ofice', 'oi', 'oic', 'oil', 'ola', 'onwards', 'oooh', 'opening', 'opinions', 'option', 'or2stoptxt', 'oranges', 'ordered', 'oru', 'os', 'outstanding', 'ovulation', 'oz', 'painting', 'pan', 'panic', 'papers', 'paperwork', 'parco', 'parent', 'partnership', 'passed', 'payoh', 'peace', 'peaceful', 'peak', 'pence', 'penis', 'perhaps', 'persons', 'petrol', 'phoned', 'php', 'picsfree1', 'pig', 'pimples', 'pink', 'piss', 'placement', 'places', 'planet', 'plaza', 'plm', 'pobox334', 'pobox36504w45wq', 'pobox45w2tg150p', 'pocketbabe', 'pole', 'politicians', 'polo', 'pool', 'poop', 'pop', 'popcorn', 'position', 'possession', 'postcard', 'postcode', 'pouch', 'practical', 'practicing', 'praying', 'premier', 'premium', 'prepared', 'prescription', 'prey', 'print', 'priscilla', 'privacy', 'probs', 'processed', 'prof', 'program', 'promo', 'properly', 'property', 'propose', 'prospects', 'ps', 'public', 'pull', 'purpose', 'qatar', 'ques-', 'racing', 'railway', 'rally', 'randomly', 'randy', 'range', 'ranjith', 'rays', 'rcv', 're-schedule', 'realise', 'realize', 'realized', 'reboot', 'rec', 'recd', 'recent', 'recession', 'reckon', 'recognise', 'refused', 'reg', 'regarding', 'regards', 'register', 'regular', 'relation', 'relatives', 'remain', 'remains', 'remembr', 'renewal', 'rentl', 'repair', 'response', 'results', 'resume', 'retrieve', 'returned', 'reveal', 'revealed', 'revision', 'rgds', 'rhythm', 'rights', 'roommates', 'rooms', 'row/w1j6hl', 'row/w1jhl', 'royal', 'rub', 'rude', 'ruin', 'ruining', 'runs', 'ryan', 'sac', 'sachin', 'sacrifice', 'sake', 'salon', 'sam', 'sar', 'sarcasm', 'sarcastic', 'sary', 'satisfy', 'saucy', 'schedule', 'schools', 'scold', 'scores', 'scotland', 'screamed', 'scrounge', 'seconds', 'secretary', 'secs', 'sed', 'select', 'selfish', 'selling', 'sells', 'sem', 'sender', 'sends', 'senthil', 'seriously', 'serving', 'setting', 'settings', 'settle', 'shahjahan', 'shesil', 'ship', 'shirt', 'shoes', 'shoppin', 'shorter', 'showing', 'shu', 'shut', 'shy', 'sight', 'silently', 'singing', 'sipix', 'sit', 'site', 'siva', 'six', 'size', 'skillgame', 'skyped', 'slap', 'sleepin', 'sleepy', 'slice', 'slide', 'slightly', 'slip', 'slo', 'smokes', 'smoking', 'smsco', 'sn', 'snogs', 'snowman', 'soft', 'solve', 'some1', 'sorted', 'sorting', 'soup', 'spanish', 'spare', 'speaking', 'specific', 'speechless', 'speed', 'speedchat', 'spell', 'spending', 'spile', 'spoiled', 'spook', 'sports', 'sptv', 'sry', 'standing', 'stars', 'status', 'stayed', 'stays', 'stick', 'stockport', 'stomach', 'stones', 'stops', 'stores', 'strange', 'stretch', 'student', 'subpoly', 'subs', 'subscribe6gbp/mnth', 'sue', 'suggest', 'suite', 'suits', 'sum1', 'sumthin', 'sunlight', 'superb', 'supervisor', 'supply', 'surfing', 'suzy', 'swatch', 'sweetheart', 'sweetie', 'sweets', 'swimming', 'swiss', 'symbol', 't&cs/stop', 't-c', 'tablets', 'tacos', 'talent', 'talks', 'tank', 'tap', 'tape', 'taxi', 'tcr/w1', 'teaches', 'tease', 'teasing', 'tech', 'technical', 'tee', 'teeth', 'telephone', 'telly', 'telugu', 'temp', 'tenants', 'tension', 'testing', 'textbuddy', 'textpod', 'themob', 'theory', 'theres', 'thesis', 'thgt', 'thm', 'thot', 'thought-', 'thoughts', 'thousands', 'thread', 'three', 'throat', 'throw', 'tight', 'tihs', 'tirunelvali', 'tirupur', 'tmrw', 'toa', 'toclaim', 'tomarrow', 'tons', 'tool', 'toot', 'topic', 'toshiba', 'touched', 'trade', 'traffic', 'trains', 'transaction', 'transfered', 'transport', 'treated', 'tree', 'truly', 'tscs', 'tues', 'turning', 'txtin', 'txtstop', 'txttowin', 'tyrone', 'uh', 'uk/expressoffer', 'uks', 'ultimatum', 'uncles', 'understanding', 'unemployed', 'unfortunately', 'up4', 'upd8', 'upgrade', 'upload', 'upto', 'url&gt', 'urn', 'usb', 'useful', 'vale', 'valid12hrs', 'valuable', 'value', 'vegas', 'verify', 'vewy', 'vid', 'videochat', 'videophones', 'violated', 'violence', 'visionsms', 'vodafone', 'vodka', 'voicemail', 'vth', 'w111wx', 'w1j', 'wah', 'waited', 'walked', 'wallpaper', 'warner', 'waves', 'web', 'wee', 'weird', 'weirdest', 'welp', 'west', 'whn', 'widelive', 'wifi', 'window', 'winning', 'wipro', 'wise', 'wkg', 'wks', 'wld', 'wml', 'wo', 'woken', 'women', 'worst', 'wouldn', 'wrk', 'wud', 'x49', 'xavier', 'xin', 'xuhui', 'xxx\\\\', 'xxxmobilemovieclub', 'xxxx', 'xxxxx', 'yck', 'yeh', 'yer', 'yor', 'yummy', 'yunny', 'yuo', 'zindgi', 'zoe', 'å£1450', 'å£1500', '#', '#150', '$1', '$2', '$350', '$5', '$50', '$900', '%of', '&cs', '&it', '&othrs', '&sam', '&xxx', '*****', '***************', '*****up', '**free', '*a', '*adoring', '*childish', '*covers', '*deep', '*devouring', '*exposes', '*i*', '*laughs*', '*missing', '*number', '*passionate', '*phews*', '*possessive', '*pushes', '*sent', '*sips', '*smacks', '*wicked', '+123', '+447797706009', '+get', '+std', '+å£400', '-*', '-/', '-4', '-call', '-db-', '-message', '-msg', '-no', '-pls', '-shakespeare-', '-sub', '-the', '-u', '-xx', '-|', '/-', '//alto18', '//careers', '//doit', '//gotbabes', '//img', '//tms', '//wap', '0', '000pes', '0089', '0121', '01223585236', '0125698789', '02', '0207-083-6089', '02072069400', '02085076972', '03', '0430-jul-05', '050703', '06', '06/11/04', '07008009200', '07090201529', '07090298926', '07099833605', '07123456789', '0721072', '07734396839', '07742676969', '07753741225', '07786200117', '077xxx', '07801543489', '07808', '07808247860', '07808726822', '07815296484', '07821230901', '078498****7', '0789xxxxxxx', '07946746291/07880867867', '0796xxxxxx', '07973788240', '08001950382', '08002986030', '08002988890', '08006344447', '0808', '08081263000', '08081560665', '0825', '0844', '08448350055', '08448714184', '0845', '08700469649', '08701213186', '08701237397', '08701417012150p', '0870141701216+', '087016248', '08701752560', '087018728737', '0870241182716', '08704050406', '08704439680', '08704439680ts&cs', '0870737910216yrs', '08707500020', '0870753331018+', '08707808226', '08708034412', '0871-4719-523', '0871-872-9755', '0871-872-9758', '087104711148', '08712101358', '08712103738', '0871212025016', '08712317606', '08712400200', '08712400602450p', '08712400603', '08712402578', '08712402779', '08712402902', '08712402972', '08712404000', '08712466669', '0871277810710p/min', '0871277810810', '08714342399', '087147123779am-7pm', '08714712379', '08714712388', '08714712394', '08714714011', '08715203028', '08715203649', '08715203652', '08715203677', '08715203685', '08715203694', '08715205273', '08715500022', '08717111821', '08717205546', '0871750', '08717509990', '08717890890å£1', '08717895698', '08717898035', '08718711108', '08718723815', '08718725756', '08718726978', '087187272008', '08718727868', '08718730555', '08718730666', '08718738002', '08718738034', '08719180219', '08719180248', '08719181259', '08719181503', '08719181513', '08719839835', '08719899217', '08719899229', '08719899230', '09041940223', '09050000301', '09050000555', '09050000878', '09050000928', '09050001295', '09050001808', '09050002311', '09050005321', '09050280520', '09053750005', '09057039994', '09058091870', '09058094454', '09058094455', '09058094507', '09058094583', '09058094597', '09058095201', '09058097189', '09058098002', '09061104276', '09061104283', '09061209465', '09061701444', '09061701851', '09061701939', '09061702893', '09061743386', '09061743811', '09061744553', '09061790125', '09061790126', '09063440451', '09063442151', '09063458130', '0906346330', '09064011000', '09064017295', '09064018838', '09064019788', '09065069120', '09065069154', '09065171142-stopsms-08', '09065171142-stopsms-08718727870150ppm', '09065174042', '09065394514', '09065989180', '09066358361', '09066362206', '09066362220', '09066364311', '09066364349', '09066364589', '09066368327', '09066368470', '09066368753', '09066380611', '09066382422', '09066649731from', '09066660100', '09071512432', '09071512433', '09071517866', '09077818151', '09090204448', '09090900040', '09094646631', '09094646899', '09095350301', '09096102316', '09099725823', '09099726395', '09099726429', '09099726481', '09111030116', '0quit', '1-hanuman', '1-month', '1-u', '1/08/03', '1/1', '1/3', '10/06/03', '100p/sms', '100percent-real', '1013', '10am', '10am-9pm', '10th', '1120', '1131', '116', '1172', '118p/msg', '1205', '128', '12hours', '12mths', '13/10/04', '130', '1405', '140ppm', '145', '146tf150p', '14thmarch', '150p/day', '150p/msgrcvd', '150p/mt', '150p/mtmsg', '150p/mtmsgrcvd18+', '150p/rcvd', '150p/sms', '150p/text', '150p/wk', '150ppmpobox10183bhamb64xe', '150ppmsg', '151', '15pm', '16+only', '1680', '169', '18+only', '18/11/04', '1843', '195', '1956669', '1da', '1hr', '1im', '1mega', '1pm', '1st4terms', '1stchoice', '1stone', '1winawk', '2-4-1', '2-bajarangabali', '2-u', '2/2', '20%', '2000', '2005', '2006', '2025050', '20m12aq', '21/11/04', '21/f', '21/m', '21st', '22', '220cm2', '2309', '23f', '23g', '24/10/04', '24/7mp', '24m', '24th', '255', '26', '26/11/04', '2667', '27/6/03', '28/5', '2814032', '29/03/05', '29/10/0', '29/m', '2bold', '2channel', '2exit', '2ez', '2getha', '2gthr', '2hrs', '2morrow', '2morrowxxxx', '2mro', '2nhite', '2nights', '2nite-tell', '2px', '2rcv', '2stoptx', '2u2', '2wt', '2years', '3-maruti', '3-u', '300%', '300603', '300603t&csbcm4235wc1n3xx', '300p', '30apr', '30pm', '30pp/txt', '30s', '30th', '31', '3100', '310303', '32/f', '32000', '3230', '32323', '326', '330', '350', '35p', '3650', '3750', '382', '391784', '3days', '3lions', '3miles', '3optical', '3pound', '3rd', '3ss', '3wks', '3xx', '3xå£150pw', '4*lux', '4-6', '4-7/12', '4-pavanaputra', '4-some1', '400', '400mins', '400thousad', '402', '4041', '40411', '40mph', '41782', '420', '4217', '42478', '42810', '430', '44', '4403ldnw1a7rw18', '447801259231', '448712404000>please', '449050000301', '45', '450p', '450pw', '45pm', '47', '4742', '47per', '48', '48922', '49557', '4few', '4get', '4give', '4got', '4jx', '4msgs', '4t&', '4t&ctxt', '4the', '4thnov', '4txt/120p', '4txt/ì¼1', '4utxt', '4ward', '4wrd', '4xx26', '4years', '5+-', '5-sankatmochan', '5/9/03', '50%', '50/mtmsgrcvd18+', '50/week', '50/wk', '5000', '505060', '50\\\\', '50ea', '50p/wk', '50perweeksub', '50pm', '50pmmorefrommobile2bremoved-mobypobox734ls27yf', '50ppm', '50rcvd', '50s', '515', '5226', '526', '54', '5digital', '5free', '5ish', '5k', '5mls', '5p', '5th', '5wkg', '5wq', '5years', '6-ramaduth', '60', '600', '6031', '60p', '61', '61200', '61610', '62220cncl', '6230', '63miles', '645', '65', '650', '66', '6669', '67441233', '68866', '69101', '69200', '69855', '69866', '69876', '69888', '69888nyt', '69911', '69988', '6days', '6ph', '6th', '6times', '6zf', '7-mahaveer', '730', '731', '7548', '75max', '7634', '7684', '77', '7732584351', '78', '7am', '7cfca1a', '7oz', '7th', '7ws', '7zs', '8-8', '8-hr', '80', '8000930705', '80122300p/wk', '80155', '8027', '8077', '81010', '81303', '81618', '81618-', '82242', '82324', '83021', '83049', '83110', '83118', '83222', '83332', '83338', '83370', '83435', '83738', '84025', '850', '85069', '85233', '85555', '861', '864233', '87021', '87070', '8714714', '8800', '88088', '88800', '8883', '88877', '88877>free', '89034', '89080', '89105', '89123', '89938', '8ball', '8lb', '8pm', '9-6', '9061100010', '9153', '9280114', '930', '9307622', '945+', '946', '97n7qp', '98321561', '9996', '9am-11pm', '9th', '9yt', '<ukp>2000', '=/', '=twelve', '@kiosk', '@shesil', '@warner', '[colour=red]text[/colour]txtstar', '[sic]', '[\\x89û_]', '\\\\1', '\\\\3000', '\\\\adp\\\\', '\\\\alright', '\\\\aww', '\\\\be', '\\\\because', '\\\\best', '\\\\boost', '\\\\can', '\\\\cha', '\\\\checkmate\\\\', '\\\\divorce', '\\\\don', '\\\\dont', '\\\\drink\\\\', '\\\\drive', '\\\\enjoy\\\\', '\\\\ey', '\\\\for', '\\\\get', '\\\\getting', '\\\\gimme', '\\\\go', '\\\\goodmorning', '\\\\gud', '\\\\happy', '\\\\hello', '\\\\hello-/@drivby-', '\\\\hello\\\\', '\\\\hurt', '\\\\if', '\\\\jeevithathile', '\\\\julianaland\\\\', '\\\\keep', '\\\\kudi\\\\yarasu', '\\\\margaret', '\\\\miss', '\\\\mix\\\\', '\\\\morning\\\\', '\\\\none', '\\\\not', '\\\\paths', '\\\\polys\\\\', '\\\\power', '\\\\response\\\\', '\\\\shah', '\\\\she', '\\\\shit', '\\\\si', '\\\\sleep', '\\\\sometimes', '\\\\song', '\\\\sweet\\\\', '\\\\symptoms\\\\', '\\\\thinking', '\\\\this', '\\\\ur', '\\\\urgent', '\\\\usf', '\\\\valentines', '\\\\valued', '\\\\walk', '\\\\welcomes\\\\', '\\\\with', '\\\\wow', '\\\\wylie', '\\\\x\\\\', '\\\\yeh', '\\\\you\\\\', '^', '____', 'a-', 'a-ffectionate', 'a-green', 'a21', 'a30', 'aa', 'aaniye', 'ab', 'abbey', 'abeg', 'abel', 'aberdeen', 'aboutas', 'abroad', 'absence', 'absolutely', 'absolutly', 'ac/smsrewards', 'ac/u/bootydelious', 'ac/u/goldviking', 'ac/u/hmmross', 'ac/w/icmb3cktz8r7', 'accent', 'accenture', 'accidant', 'accomodate', 'accomodations', 'accordin', 'accounting', 'accounts', 'accumulation', 'achieve', 'acid', 'acknowledgement', 'acl03530150pm', 'acnt', 'act', 'acted', 'actin', 'acting', 'active', 'adam', 'adding', 'adds', 'adewale', 'adi', 'adjustable', 'admission', 'admit', 'adoring', 'adress', 'adrian', 'ads', 'adsense', 'adventuring', 'advisors', 'aeronautics', 'aeroplane', 'affectionate', 'affidavit', 'afford', 'afghanistan', 'africa', 'african', 'afternon', 'again*loving', 'age16+å£1', 'age23', 'agency', 'aging', 'ahhhh', 'aid', 'aids', 'aig', 'air1', 'ajith', 'ak', 'alaipayuthe', 'album-quite', 'aldrine', 'aletter', 'algarve', 'algebra', 'algorithms', 'alian', 'alibi', 'allalo', 'allday', 'alle', 'allo', 'allow', 'allows', 'alone\\\\', 'alot', 'alter', 'alternative', 'although', 'alwa', 'ambitious', 'ambrith', 'ami', 'amigos', 'amk', 'amla', 'ammae', 'ammo', 'amongst', 'amplikater', 'amrca', 'amrita', 'ams', 'amt', 'amused', 'ana', 'anal', 'analysis', 'anderson', 'andre', 'andres', 'andrews-boy', 'angels', 'animal', 'animation', 'anna', 'annie', 'announced', 'anot', 'answer\\\\', 'answerin', 'anyhow', 'anyones', 'anyplaces', 'anythingtomorrow', 'apes', 'apeshit', 'aphexåõs', 'apo', 'apologetic', 'apologize', 'apology', 'appear', 'appendix', 'applausestore', 'applebees', 'applyed', 'applying', 'appointments', 'approaches', 'appropriate', 'approve', 'approved', 'approx', 'appy', 'aproach', 'apt', 'arabian', 'arestaurant', 'aretaking', 'areyouunique', 'argentina', 'arguing', 'arguments', 'arises', 'arm', 'armenia', 'arng', 'arngd', 'arr', 'arranging', 'arrival', 'arrived', 'arrow', 'art', 'artists', 'arty', 'arul', 'arun', 'asa', 'asda', 'ashes', 'ashley', 'ashwini', 'asia', 'asian', 'asjesus', 'asks', 'aspects', 'ass*', 'asshole', 'associate', 'asssssholeeee', 'assumed', 'asthere', 'asthma', 'astne', 'astoundingly', 'astrology', 'astronomer', 'asus', 'asusual', 'at/your', 'athletic', 'athome', 'atleast', 'atm', 'atrocious', 'attach', 'attack', 'atten', 'attended', 'attending', 'attitude', 'attraction', 'attractive', 'attracts', 'attributed', 'audiitions', 'auntie', 'aunties', 'aunts', 'aust', 'australia', 'ava', 'availa', 'avalarr', 'avenue', 'avin', 'avoids', 'awkward', 'aww', 'axis', 'ay', 'ayn', 'ayo', 'aå£1', 'b*', 'b-', 'b-blue', 'b/tooth', 'b4280703', 'ba128nnfwfly150ppm', 'baaaaaaaabe', 'baaaaabe', 'babies', 'babygoodbye', 'babyjontet', 'babysit', 'babysitting', 'bac', 'backdoor', 'backwards', 'bad-', 'badass', 'badly', 'badrith', 'baig', 'bakra', 'bakrid', 'ball', 'baller', 'balloon', 'bam', 'bambling', 'band', 'bandages', 'bangb', 'bangbabes', 'banned', 'banneduk', 'banter', 'bao', 'barbie\\\\', 'barcelona', 'bari', 'barred', 'barrel', 'barring', 'barry', 'bars', 'base', 'bash', 'basket', 'basketball', 'basq', 'batchlor', 'bathroom', 'batsman', 'battle', 'bawling', 'bay', 'bbc', 'bcaz', 'bcm', 'bcm1896wc1n3xx', 'bcm4284', 'bcz', 'beach', 'bear', 'beatings', 'beauties', 'becaus', 'becausethey', 'becz', 'bedrm-$900', 'beendropping', 'beer-rs', 'beerage', 'beers', 'befor', 'beforehand', 'beggar', 'begins', 'begun', 'behalf', 'bellearlier', 'belligerent', 'belongs', 'bend', 'beneath', 'beneficiary', 'bennys', 'bergkamp', 'beside', 'best1', 'beta', 'beth', 'betta', 'bettr', 'beverage', 'bevies', 'beware', 'bffs', 'bfore', 'bhaji', 'bhaskar', 'biatch', 'bike', 'billy', 'bilo', 'bimbo', 'biola', 'bird', 'biro', 'bites', 'bits', 'bk', 'blacko', 'blanked', 'bleak', 'blessed', 'blessing', 'block', 'blocked', 'blog', 'blogging', 'blogspot', 'blokes', 'blonde', 'blow', 'blowing', 'blown', 'bluetoothhdset', 'bluff', 'bluray', 'bmw', 'board', 'boatin', 'bob', 'boggy', 'bognor', 'bold2', 'bollox', 'boltblue', 'bomb', 'boobs', 'bookedthe', 'bookmark', 'bookshelf', 'boost', 'bootydelious', 'borderline', 'borrow', 'bot', 'bothering', 'boughtåóbraindanceåóa', 'boundaries', 'bowa', 'bowls', 'box1146', 'box139', 'box334', 'box403', 'box420', 'box42wr29c', 'box434sk38wp150ppm18+', 'boyf', 'bpo', 'brain', 'brains', 'brainy', 'brandy', 'bras', 'brats', 'braved', 'brb', 'brdget', 'breadstick', 'breakfast', 'breakin', 'breaking', 'breaks', 'breath', 'breathe1', 'breathing', 'breeze', 'breezy', 'bribe', 'bridal', 'bridge', 'bridgwater', 'brighten', 'brilliantly', 'brin', 'brisk', 'brison', 'british', 'britney', 'bro', 'broadband', 'brolly', 'broth', 'brothers', 'brother\\x89û÷s', 'brown', 'brownie', 'brownies', 'browse', 'browser', 'browsin', 'brum', 'bruv', 'bsnl', 'bstfrnd', 'bt-national', 'btwn', 'bubbletext', 'buddy', 'buddys', 'buen', 'buffy', 'build', 'built', 'bulbs', 'bull', 'bullshit', 'bunch', 'bunkers', 'burden', 'burgundy', 'burial', 'burn', 'burning', 'burns', 'burnt', 'burrito', 'bus8', 'busty', 'buttheres', 'buttons', 'buyer', 'buyers', 'buzy', 'bx', 'bx420', 'bx420-ip4-5we', 'byatch', 'byåóleafcutter', 'b\\x89û÷ham', 'c-in', 'c-red', 'cakes', 'call2optout/4qf2', 'call2optout/674&', 'call2optout/hf8', 'call2optout/lf56', 'call2optout/n9dx', 'call2optout=j5q', 'callcost', 'callcost150ppmmobilesvary', 'calld', 'callfreefone', 'calls1', 'calm', 'camera/video', 'camp', 'camry', 'canceled', 'canname', 'cantdo', 'canteen', 'can\\x89û÷t', 'canåõt', 'cappuccino*', 'caps', 'captaining', 'cards', 'careabout', 'careful', 'carlin', 'carly', 'carpark', 'carryin', 'cartons', 'cartoon', 'cashed', 'casing', 'casting', 'casualty', 'catches', 'categories', 'causes', 'cave\\\\', 'caveboy', 'cc100p/min', 'ccna', 'cdgt', 'cedar', 'ceiling', 'celebrate', 'celebrations', 'census', 'cereals', 'ceri', 'certainly', 'certificate', 'chachi', 'chad', 'challenge', 'challenging', 'champlaxigating', 'champneys', 'chances', 'changing', 'chapel', 'chaps', 'chapter', 'character', 'characters', 'charged@150p/msg', 'charlie', 'charts', 'chase', 'chastity', 'chat80155', 'chatter', 'cheat', 'cheating', 'chechi', 'checkboxes', 'checkin', 'checkup', 'cheek', 'cheered', 'cheery', 'cheesy', 'cheetos', 'chef', 'cheque', 'cherish', 'cherthala', 'chess', 'chex', 'cheyyamo', 'chez', 'chg', 'chgs', 'chic', 'chick', 'chickened', 'chief', 'chik', 'childish', 'childporn', 'chillaxin', 'chillin', 'chinchillas', 'chinky', 'chiong', 'chip', 'chit-chat', 'chk', 'chloe', 'choosing', 'chords', 'chrgd@50p', 'christ', 'christians', 'christmassy', 'chuckin', 'church', 'ciao', 'citylink', 'cl', 'claimcode', 'claims', 'clarification', 'clash', 'classes', 'classic', 'classmates', 'clearer', 'clever', 'cliff', 'clip', 'clos1', 'closeby', 'closes', 'closingdate04/09/02', 'cloth', 'clothes', 'cloud', 'club4', 'club4mobiles', 'club>>', 'clubmoby', 'clue', 'cm', 'cnl', 'coach', 'coca-cola', 'cock', 'cocksuckers', 'coco', 'coincidence', 'colany', 'colin', 'collages', 'colleg', 'colourful', 'com/etlp/dining', 'comb', 'combination', 'comfey', 'comfort', 'command', 'comment', 'commit', 'como', 'companion', 'compass', 'compensation', 'complain', 'complaint', 'complementary', 'completes', 'completing', 'complexities', 'compliments', 'comprehensive', 'compromised', 'compulsory', 'computational', 'computers', 'conacted', 'concentrating', 'concern', 'concerned', 'conclusion', 'conditions', 'conected', 'conference', 'configure', 'confirm/deny', 'conform', 'confuses', 'congratulation', 'connect', 'connected', 'consensus', 'consent', 'conserve', 'consistently', 'console', 'contains', 'continent', 'continued', 'contribute', 'convenience', 'conversations', 'converted', 'converter', 'cooped', 'cooperative', 'copied', 'copies', 'corect', 'corporation', 'correction', 'correctly', 'corrupt', 'corvettes', 'cosign', 'costume', 'costumes', 'costå£3', 'couch\\\\', 'cough', 'coulda', 'couldnåõt', 'count', 'countinlots', 'counts', 'coupla', 'courage', 'courageous', 'court', 'courtroom', 'cousin', 'coveragd', 'cozy', 'cps', 'cr', 'cr01327bt', 'crammed', 'crap', 'crashed', 'crashing', 'craving', 'crazyin', 'creativity', 'creep', 'cres', 'cricket', 'cricketer', 'cried', 'cro1327', 'crore', 'crore\\\\', 'crossing', 'crowd', 'crucial', 'crucify', 'cruel', 'cruise', 'cruisin', 'crushes', 'csh11', 'cst', 'cstore', 'cthen', 'ctla', 'cts', 'cuddled', 'cudnt', 'culdnt', 'cultures', 'cumin', 'cumming', 'cupboard', 'curfew', 'curry', 'curtsey', 'customercare', 'customers', 'customersqueries@netvision', 'cutefrnd', 'cutest', 'cutie', 'cutting', 'cya', 'cyclists', 'cysts', 'dabbles', 'dabooks', 'dads', 'dancce', 'dance', 'dancin', 'dang', 'danger', 'dao', 'darker', 'darkest', 'darkness', 'dartboard', 'das', 'data', 'datebox1282essexcm61xn', 'dats', 'dawns', 'daytime', 'daywith', 'dbuk', 'dd', 'dear-loving', 'dear1', 'dearer', 'death', 'dec', 'decades', 'decent', 'deciding', 'decking', 'declare', 'dedicate', 'dedicated', 'deduct', 'deepak', 'deepest', 'deer', 'deeraj', 'defeat', 'defer', 'definitly', 'defo', 'degree', 'degrees', 'dehydrated', 'delayed', 'delete', 'delhi', 'delicious', 'deltomorrow', 'dem', 'dena', 'dental', 'dentist', 'dentists', 'denying', 'dependable', 'dependents', 'deposited', 'depression', 'deserve', 'designation', 'desk', 'desparately', 'dessert', 'destination', 'destiny', 'detail', 'determined', 'developed', 'developer', 'device', 'devils', 'dha', 'dhanush', 'dhina', 'dhorte', 'dial', 'dialling', 'dialogue', 'diapers', 'dict', 'diddy', 'didntgive', 'didnåõt', 'diesel', 'dieting', 'differences', 'dificult', 'digi', 'digits', 'dileep', 'dinero', 'dining', 'dip', 'dippeditinadew', 'directors', 'disagreeable', 'disappeared', 'disappointment', 'disaster', 'disastrous', 'disc', 'disclose', 'disconnected', 'discreet', 'disk', 'dismay', 'dismissial', 'display', 'disturbance', 'ditto', 'divert', 'division', 'divorce', 'dizzamn', 'dizzee', 'dl', 'dlf', 'dob', 'dobby', 'dock', 'docks', 'documents', 'dodda', 'doesdiscount', 'doesn\\x89û÷t', 'dogg', 'dogwood', 'doinat', 'doke', 'dolls', 'dom', 'domain', 'done/want', 'dontcha', 'dontmatter', 'donyt', 'dooms', 'dormitory', 'dose', 'dosomething', 'dot', 'double-faggot', 'doublemins', 'doubles', 'doubletxt', 'downon', 'downs', 'dozens', 'dps', 'drama', 'dramastorm', 'dramatic', 'drastic', 'draws', 'dreading', 'dreamz', 'dressed', 'drive\\\\', 'driver', 'drizzling', 'drops', 'drove', 'drpd', 'drugdealer', 'drum', 'drunkard', 'drunken', 'dryer', 'dt', 'dual', 'dub', 'ducking', 'dudes', 'dudette', 'duffer', 'dull', 'dumb', 'dump', 'dungerees', 'duo', 'durham', 'dusk', 'dust', 'duvet', 'dvg', 'dwn', 'dying', 'dysentry', 'e-mail', 'e-namous', 'e-ternal', 'e14', 'eachother', 'earlier-we', 'earliest', 'ears', 'earth&sofa', 'easiest', 'easily', 'east', 'ebay', 'echo', 'eckankar', 'ecstacy', 'ecstasy', 'edge', 'edhae', 'edison', 'edition', 'edrunk', 'education', 'educational', 'edukkukayee', 'edward', 'edwards', 'eerie', 'eerulli', 'efreefone', 'egbon', 'egg-potato', 'eggs-pert', 'ego', 'eh74rr', 'eightish', 'el', 'ela', 'elaborate', 'elaborating', 'elama', 'elaya', 'eldest', 'election', 'elephant', 'eleven', 'elliot', 'elvis', 'email&gt', 'emailed', 'embarassing', 'embarrassed', 'embassy', 'emergency', 'emerging', 'emily', 'emotion', 'employee', 'employer', 'endless', 'endowed', 'enemies', 'engaged', 'engalnd', 'enjoying', 'enketa', 'enna', 'ennal', 'ente', 'entertain', 'entertaining', 'entey', 'entirely', 'entrepreneurs', 'entropication', 'enufcredeit', 'environment', 'envy', 'epi', 'eppolum', 'equally', 'ere', 'erotic', 'errors', 'ertini', 'eruku', 'erutupalam', 'esaplanade', 'ese', 'espe', 'establish', 'ethnicity', 'ettans', 'euro2004', 'europe', 'evaluation', 'evaporated', 'eveb-', 'evenings', 'event', 'events', 'every1', 'everyboy', 'everyones', 'everyso', 'everythin', 'everything\\\\', 'everytime', 'evey', 'evil', 'evo', 'evone', 'evr', 'evrey', 'evrydy', 'ex-wife', 'excited', 'excused', 'exhaust', 'exmpel', 'exorcism', 'exp', 'expected', 'expects', 'experiencehttp', 'expired', 'expiry', 'explicitly', 'explosive', 'exposed', 'ext', 'exterminator', 'extreme', 'ey', 'eye', 'eå£nd', 'fab', 'faber', 'facilities', 'factory', 'facts', 'faded', 'failed', 'failing', 'fails', 'failure', 'faith', 'fakeye', 'fal', 'falconerf', 'fallen', 'falling', 'fals', 'famamus', 'familiar', 'famous', 'fancied', 'fancies', 'fans', 'farrell', 'farting', 'fassyole', 'fated', 'fats', 'fatty', 'fault&al', 'fault&fed', 'fav', 'favor', 'feathery', 'fedex', 'feed', 'feellikw', 'feet', 'fellow', 'feng', 'fetching', 'few\\\\', 'fffff', 'ffffffffff', 'ffffuuuuuuu', 'fgkslpo', 'fgkslpopw', 'fidalfication', 'fiend/make', 'fifa', 'fifth', 'fifty', 'fightng', 'filled', 'filling', 'filth', 'filthyguys', 'finalise', 'finding', 'finest', 'finishd', 'finn', 'fire', 'fired', 'fires', 'firmware', 'first-', 'fishrman', 'fiting', 'fixedline', 'fixes', 'fizz', 'flatter', 'flavour', 'flea', 'fletcher', 'flew', 'flippin', 'floating', 'florida', 'flow', 'flowers', 'flung', 'flurries', 'flute', 'flying', 'fm', 'folks', 'followin', 'follows', 'fondly', 'fones', 'fooled', 'footie', 'footy', 'forced', 'foregate', 'forgets', 'forgive', 'forgiven', 'forgiveness', 'forgt', 'formally', 'format', 'formatting', 'forms', 'forth', 'fortune', 'forum', 'forwarding', 'forå£38', 'foward', 'fowler', 'fox', 'fps', 'fraction', 'frankie', 'franxx', 'franyxxxxx', 'frauds', 'freaky', 'fredericksburg', 'free*', 'free-message', 'free-nokia', 'free-send', 'free2day', 'freedom', 'freeentry', 'freek', 'freely', 'freemsg>fav', 'freezing', 'french', 'frequently', 'fresh', 'fridays', 'fridge', 'fried', 'friend-of-a-friend', 'friendship\\\\', 'friendships', 'fring', 'frnds\\\\', 'frndship', 'frndship\\\\', 'frndshp', 'frndsship', 'frnt', 'fro', 'frog', 'frontierville', 'frosty', 'ft', 'fucked', 'fuckinnice', 'fucks', 'fudge', 'fuelled', 'fumbling', 'functions', 'fund', 'fundamentals', 'funeral', 'funk', 'funs', 'furniture', 'fuuuuck', 'fwiw', 'g2', 'gail', 'gailxx', 'gained', 'gam', 'gamb', 'gamestar', 'gandhipuram', 'ganesh', 'gaps', 'garage', 'garden', 'gardener', 'gari', 'garments', 'gastroenteritis', 'gate', 'gauti', 'gayle', 'gays', 'gbp', 'gbp/week', 'gd&the', 'gei', 'genes', 'genuine', 'geoenvironmental', 'george', 'gep', 'ger', 'get4an18th', 'getiing', 'geting', 'getsleep', 'gf', 'ghodbandar', 'gibbs', 'gibe', 'gifted', 'gifts', 'giggle', 'gigolo', 'gin', 'girlfrnd', 'girlie', 'glory', 'gloucesterroad', 'gm', 'gmw', 'gnun', 'go2', 'go2sri', 'goals', 'goals/team', 'gobi', 'gods', 'goggles', 'goigng', 'goin2bed', 'gokila', 'gold', 'golddigger', 'golden', 'goldviking', 'gon', 'gong', 'gonnamissu', 'goodevening', 'goodfriend', 'goodmate', 'goodo', 'goodtime', 'gopalettan', 'gosh', 'gota', 'gotmarried', 'gotto', 'goverment', 'gower', 'gprs', 'gpu', 'gr8fun', 'grab', 'grace', 'grahmbell', 'grams', 'grandmas', 'granite', 'grasp', 'grateful', 'grave', 'gravel', 'gravy', 'gray', 'grazed', 'greatest', 'greatly', 'greatness', 'greece', 'greeting', 'grief', 'grooved', 'groovy', 'groovying', 'grow', 'grown', 'grownup', 'grr', 'grumble', 'gsex', 'gsoh', 'gua', 'guai', 'gucci', 'gudnyt', 'guessed', 'guesses', 'guessin', 'guidance', 'guides', 'guild', 'gumby', 'guoyang', 'gurl', 'gut', 'gv', 'gving', 'gymnastics', 'h&m', 'h*', 'habba', 'hack', 'hahaha', 'haircut', 'hairdressers', 'haiyoh', 'half-8th', 'half8th', 'hall', 'halla', 'hallaq', 'halloween', 'hamper', 'handing', 'handsome', 'handsomes', 'hanger', 'hangin', 'hanks', 'hannaford', 'hanumanji', 'happenin', 'happier', 'happiest', 'happily', 'harder', 'hardest', 'hardly', 'hari-', 'harish', 'harlem', 'harry', 'hasbro', 'hasnt', 'hassling', 'hates', 'haughaighgtujhyguj', 'haul', 'hava', 'haventcn', 'havn', 'hdd', 'headin', 'heading', 'heads', 'headset', 'headstart', 'head\\x89û_', 'heal', 'healer', 'healthy', 'heap', 'hearin', 'heart-', 'hearted', 'hearts', 'heat', 'heavily', 'heehee', 'helens', 'hello-', 'hello-ed', 'hello\\\\', 'hellogorgeous', 'helloooo', 'help08700621170150p', 'help08718728876', 'helpful', 'helping', 'helps', 'heltini', 'hen', 'hep', 'here>>', 'hero', 'heroes', 'heron', 'hesitant', 'hesitation', 'hex', 'heåõs', 'hg/suite342/2lands/row/w1j6hl', 'hhahhaahahah', 'hide', 'hides', 'hiding', 'highest', 'hilarious-also', 'hills', 'hillsborough', 'himself', 'himso', 'hiphop', 'hire', 'his/her', 'hitler', 'hitman', 'hitter', 'hittng', 'hlday', 'hlp', 'hme', 'hmph', 'hockey', 'hogli', 'hogolo', 'holby', 'hole', 'hollalater', 'hols', 'homeowners', 'hon', 'honest', 'honestly', 'honesty', 'honeymoon', 'hont', 'hooch', 'hoody', 'hooked', 'hoops', 'hopeing', 'hopes', 'hopeu', 'horse', 'hos', 'hospitals', 'hotels', 'hotmix', 'hottest', 'hourish', 'houseful', 'housewives', 'housing', 'howda', 'howdy', 'hp', 'hppnss', 'http//tms', 'http//www', 'hu', 'huai', 'hudgi', 'hugh', 'hui', 'huiming', 'hum', 'humanities', 'hun-onbus', 'hundreds', 'hungover', 'hunks', 'hunting', 'hurried', 'hurting', 'hussey', 'hustle', 'hut', 'hvae', 'hype', 'hypertension', 'hypotheticalhuagauahahuagahyuhagga', 'i-ntimate', 'iam', 'ias', 'ibh', 'ibm', 'ibored', 'ibuprofens', 'iccha', 'icic', 'icicibank', 'icky', 'id=1b6a5ecef91ff9*37819&first=true18', 'id=820554ad0a1705572711&first=trueåác', 'idc', 'ideal', 'identification', 'idew', 'idiot\\\\', 'idu', 'iff', 'ifink', 'ig11', 'ignorant', 'ignoring', 'ihave', 'ijust', 'ikno', 'iknow', 'ileave', 'illness', 'ilol', 'image', 'imagination', 'imat', 'imf', 'imin', 'immunisation', 'imp', 'implications', 'imposed', 'imposter', 'impressed', 'impressively', 'improve', 'improved', 'includes', 'inconvenient', 'incorrect', 'increase', 'increments', 'inde', 'indyarocks', 'inever', 'infact', 'influx', 'info@ringtoneking', 'info@txt82228', 'info@vipclub4u', 'infra', 'ingredients', 'initiate\\\\', 'ink', 'inlude', 'inner', 'innocent', 'innu', 'inperialmusic', 'inpersonation', 'insects', 'insha', 'inshah', 'inspection', 'inst', 'install', 'installation', 'instant', 'instantly', 'instructions', 'intend', 'intention', 'interfued', 'internet/service', 'interviews', 'interviw', 'intha', 'intrepid', 'intrude', 'invaders', 'invention', 'invitation', 'invnted', 'involve', 'involved', 'ip', 'ipaditan', 'ipads', 'iphone', 'iraq', 'irene', 'iriver', 'iron', 'ironing', 'irritated', 'irritates', 'irritation', 'irulinae', 'is-', 'is/are', 'isaiah', 'iscoming', 'ishtamayoo', 'island', 'isn\\x89ûªt', 'isn\\x89û÷t', 'isnåõt', 'it*', 'itcould', 'itna', 'itried2tell', 'itwhichturnedinto', 'itxt', 'itz', 'ivatte', 'iwana', 'iwas+marine&thatåõs', 'iyo', 'iz', 'i\\x89ûªm', 'i\\x89û÷ve', 'iåõd', 'jabo', 'jack', 'jackpot', 'jackson', 'jacuzzi', 'jaklin', 'jam', 'jamz', 'janarige', 'janinexx', 'janx', 'jap', 'japanese', 'jaykwon', 'jaz', 'jb', 'jd', 'je', 'jeetey', 'jelly', 'jen', 'jenne', 'jerry', 'jersey', 'jez', 'ji', 'jia', 'joanna', 'jocks', 'jod', 'jog', 'johnåó-sounds', 'joke--thet', 'joker', 'jolly', 'jon', 'jones', 'jontin', 'jorge-shock', 'jos', 'joy\\\\', 'joys', 'jp', 'js', 'jstfrnd', 'jsut', 'judgemental', 'jules', 'jump', 'jungle', 'junna', 'justbeen', 'justfound', 'justify', 'juswoke', 'k61', 'k718', 'kaaj', 'kaila', 'kaitlyn', 'kalaachutaarama', 'kalainar', 'kalisidare', 'kalstiya', 'kama', 'kanagu', 'kane', 'kanji', 'karnan', 'karo', 'katexxx\\\\', 'kath', 'kavalan', 'kay', 'kaypoh', 'ke', 'keen', 'keluviri', 'ken', 'keris', 'keyword', 'kfc', 'kg', 'khelate', 'ki', 'kicchu', 'kickboxing', 'kickoff', 'kid', 'kill', 'kills', 'kilos', 'kingdom', 'kintu', 'kip', 'kisi', 'kisses*', 'kissing', 'kit', 'kittum', 'kitty', 'knee', 'knees', 'knickers', 'knocking', 'known', 'ko', 'kochi', 'kodstini', 'kodthini', 'konw', 'korche', 'korean', 'korli', 'korte', 'kotees', 'ktv', 'kuch', 'kvb', 'l-oveable', 'l8', 'l8rs', 'l8tr', 'la1', 'la32wu', 'labor', 'lac', 'lacking', 'lage', 'lager', 'lakhs', 'lambda', 'lambu', 'lamp', 'lancaster', 'landing', 'landlineonly', 'landlines', 'landmark', 'lands', 'lanka', 'lanre', 'lapdancer', 'lara', 'laready', 'large', 'lark', 'lasagna', 'lastest', 'latelyxxx', 'latests', 'laundry', 'laurie', 'lautech', 'lavender', 'laxinorficated', 'lay', 'laying', 'lays', 'lccltd', 'ld', 'le', 'leadership', 'leading', 'leads', 'league', 'leanne', 'learned', 'leftovers', 'leg', 'legitimat', 'lekdog', 'length', 'lengths', 'leo', 'leonardo', 'les', 'lesser', 'level', 'lib', 'libertines', 'life\\\\', 'lifebook', 'lifeis', 'lifpartnr', 'lifted', 'lifting', 'lighters', 'lightly', 'likeyour', 'lim', 'limit', 'limited', 'limiting', 'limits', 'limping', 'lindsay', 'line--you', 'linear', 'lined', 'lingerie', 'lingo', 'links', 'lion', 'lipo', 'listed', 'listened2the', 'listener', 'listening2the', 'listn', 'lists', 'lit', 'literally', 'lived', 'lo', 'load', 'lock', 'locks', 'lodge', 'lodging', 'logging', 'logo/pic', 'logoff', 'logon', 'logos', 'lolnice', 'lololo', 'londn', 'lonlines', 'loo', 'loooooool', 'looovvve', 'loosing', 'lord', 'losers', 'loses', 'lotsly', 'lotto', 'lotz', 'loud', 'loveme', 'lovin', 'lovingly', 'lowes', 'loxahatchee', 'loyal', 'ls15hb', 'ls278bb', 'lst', 'ltdhelpdesk', 'lttrs', 'lubly', 'luckily', 'lul', 'lunchtime', 'lunsford', 'luton', 'luvd', 'luvs', 'lux', 'lv', 'lvblefrnd', 'lyk', 'lyricalladie', 'lyrics', 'm100', 'm39m51', 'm8', 'm95', 'maaaan', 'maangalyam', 'maat\\\\', 'mac', 'macedonia', 'macha', 'machi', 'machines', 'mack', 'macleran', 'macs', 'mad1', 'mad2', 'madodu', 'madstini', 'madurai', 'mag', 'magazine', 'maggi', 'magic', 'magical', 'magicalsongs', 'mahal', 'maintain', 'makiing', 'mallika', 'manageable', 'manchester', 'mandan', 'mandara', 'mandy', 'mango', 'maniac', 'manual', 'mapquest', 'maps', 'maraikara', 'marandratha', 'maretare', 'margin', 'marking', 'marley', 'marrge', 'marvel', 'mary', 'massages', 'masteriastering', 'mathe', 'mathematics', 'mathews', 'maths', 'matra', 'matric', 'matrix3', 'matthew', 'max', 'max6/month', 'maximum', 'mc', 'mca', 'mcfly-all', 'meals', 'meaningful', 'meaningless', 'meat', 'meatballs', 'mecause', 'med', 'mee', 'meet+greet', 'meetins', 'mega', 'mel', 'melnite', 'melody', 'memorable', 'memories', 'memory', 'mens', 'mention', 'mentioned', 'mentionned', 'mentor', 'merely', 'merememberin', 'mesages', 'message**thanks', 'messages-text', 'messed', 'method', 'mgs', 'mi', 'mia', 'mike', 'mila', 'mileage', 'million', 'millions', 'milta', 'mina', 'minapn', 'minded', 'mindset', 'minecraft', 'minimum', 'minnaminunginte', 'mins/texts', 'mint', 'minus', 'mirror', 'misbehaved', 'misfits', 'mising', 'misplaced', 'missionary', 'misss', 'missunderstding', 'missy', 'misundrstud', 'mitsake', 'mittelschmertz', 'miwa', 'mj', 'mjzgroup', 'mk45', 'ml', 'mmmmm', 'mmsto', 'mns', 'mnth', 'mobcudb', 'mobilesvary', 'mobno', 'mobs', 'mobsi', 'mobstorequiz10ppm', 'mofo', 'molested&someone', 'mone', 'monkeespeople', 'monkey', 'monkeyaround', 'monkeys', 'mono#', 'monoc', 'monos', 'monster', 'monthlysubscription@50p/msg', 'more\\\\', 'mornin', 'moseley', 'mostly', 'mother-in-law', 'motherfucker', 'motivate', 'motivating', 'motive', 'motor', 'mountain', 'mountains', 'mouse', 'mouth', 'mquiz', 'mre', 'mrng\\\\', 'ms', 'msg+ticket@kiosk', 'msg150p', 'msg@å£1', 'msging', 'msgrcvd18+', 'msgs@150p', 'mtalk', 'mth', 'mtnl', 'muah', 'much/impede', 'much\\\\', 'muchand', 'mudyadhu', 'muhommad', 'multimedia', 'multis', 'mumbai', 'mumhas', 'mums', 'mundhe', 'mus', 'mush', 'mushy', 'music-trivia', 'musical', 'musta', 'musthu', 'mutai', 'mutations', 'mwahs', 'mylife', 'mymoby', 'myparents', 'mys', 'n-atural', 'n-oble', 'n8', 'n=qjkgighjjgcbl', 'na-tuition', 'naal', 'nachos', 'nagar', 'nails', 'nalli', 'name1', 'name2', 'nammanna', 'nange', 'nannys', 'narcotics', 'nasdaq', 'naseeb', 'nationwide', 'nattil', 'natural', 'natwest', 'nauseous', 'nav', 'navigate', 'nbme', 'ndship', 'nearer', 'necesity', 'necessity', 'necklace', 'needa', 'needing', 'needle', 'needy', 'neekunna', 'neft', 'neglect', 'neglet', 'neighbor', 'neighbors', 'neighbour', 'neither', 'nelson', 'neo69', 'neshanth', 'netflix', 'nething', 'netun', 'neville', 'nevr', 'neway', 'newport', 'newquay-send', 'newscaster', 'newspapers', 'nic', 'nick', 'nickey', 'nicky', 'nig', 'nigh', 'nighters', 'nightnight', 'nigpun', 'nigro', 'nike', 'nikiyu4', 'nimbomsons', 'ninish', 'nino', 'nipost', 'nite+2', 'nitro', 'nitw', 'nitz', 'nmde', 'no-434', 'no-762', 'no-910', 'nobbing', 'noice', 'noisy', 'noiåõm', 'nok', 'nokia/150p', 'nokia6600', 'nokia6650', 'non', 'noncomittal', 'nonetheless', 'nookii', 'noooooooo', 'nora', 'norcorp', 'nordstrom', 'northampton', 'nos', 'nosh', 'note', 'notes', 'nothin', 'notifications', 'notixiquating', 'nottingham', 'notxt', 'novelty', 'november', 'now1', 'nowadays', 'nowhere', 'noworriesloans', 'nr31', 'nri', 'nte', 'nudist', 'number-so', 'nursery', 'nurses', 'nurungu', 'nusstu', 'nvq', 'ny-usa', 'nìâte', 'o=44345', 'oath', 'obedient', 'obese', 'obey', 'objection', 'oblisingately', 'oblivious', 'occupied', 'occupy', 'occurs', 'oclock', 'odalebeku', 'odi', 'ofcourse', 'offc', 'offered', 'officer', 'ofsi', 'ofstuff', 'ofå£2000', 'oga', 'ogunrinde', 'oja', 'okday', 'okden', 'okies', 'okmail', 'okors', 'olage', 'olave', 'olayiwola', 'oli', 'ollu', 'olowoyey@', 'olympics', 'on-edge', 'onam', 'oncall', 'ondu', 'onion', 'onion-rs', 'only1more', 'onum', 'onwords', 'ooh', 'ooooooh', 'opened', 'openings', 'opponenter', 'opps', 'opted', 'optimistic', 'optin', 'or2optout/hv9d', 'oral', 'orc', 'ore', 'oreos', 'org', 'organise', 'organizer', 'orh', 'orig', 'ors', 'ortxt', 'oscar', 'otbox', 'othrwise', 'otside', 'ou', 'ouch', 'ourbacks', 'ours', 'out--have', 'out--if', 'outages', 'outbid', 'outdoors', 'outfit', 'outfor', 'outl8r', 'outrageous', 'outs', 'outsider', 'ovarian', 'overa', 'overdid', 'overemphasise', 'overheating', 'overtime', 'ovr', 'ovulate', 'ow', 'owe', 'owed', 'owl', 'own--you', 'owned', 'owns', 'owo', 'oyea', 'oyster', 'packing', 'packs', 'padhe', 'pai', 'painful', 'paining', 'pale', 'palm', 'panalam', 'panasonic', 'pandy', 'panicks', 'panren', 'pansy', 'panther', 'pap', 'papa', 'paracetamol', 'parachute', 'paragon', 'paragraphs', 'parantella', 'parchi', 'parish', 'parkin', 'parking', 'participate', 'particular', 'particularly', 'parties', 'parts', 'paru', 'pases', 'passable', 'passes', 'passion', 'passport', 'pataistha', 'patent', 'path', 'pathaya', 'patients', 'patrick', 'pattern', 'patty', 'pause', 'payasam', 'payback', 'payed', 'payee', 'payment', 'payments', 'paypal', 'peach', 'pee', 'peeps', 'pehle', 'pei', 'pen', 'pendent', 'penny', 'percent', 'perf', 'perform', 'performed', 'perfume', 'peril', 'period', 'permanent', 'permission', 'permissions', 'perpetual', 'persevered', 'persian', 'person2die', 'personality', 'personally', 'pesky', 'pest', 'petey', 'petrol-rs', 'petticoatdreams', 'ph', 'pharmacy', 'phd', 'phil', 'philosophical', 'phne', 'phoenix', 'phone750', 'phonebook', 'phony', 'photoshop', 'phrase', 'physics', 'piah', 'pickle', 'piece', 'piggy', 'pile', 'pillows', 'pints', 'pist', 'pixels', 'pl', 'placed', 'plaid', 'planettalkinstant', 'plate', 'platt', 'playng', 'pleasant', 'pleassssssseeeeee', 'pleasured', 'ploughing', 'plum', 'plumbing', 'plural', 'plyr', 'pmt', 'po19', 'pobox1', 'pobox114/14tcr/w1', 'pobox12n146tf15', 'pobox202', 'pobox365o4w45wq', 'poboxox36504w45wq', 'pocay', 'pocked', 'pockets', 'pocy', 'poet', 'poker', 'poking', 'poly#', 'poly/200p', 'poly/true/pix/ringtones/games', 'poly3', 'polyc', 'polyh', 'polyph', 'ponnungale', 'poo', 'pooja', 'pookie', 'poorly', 'poortiyagi', 'popped', 'popping', 'port', 'portal', 'portege', 'pose', 'posh', 'positions', 'possessiveness', 'possibility', 'possibly', 'postal', 'posting', 'postponed', 'posts', 'potato', 'potential', 'potter', 'pounded', 'poured', 'pours', 'powerful', 'ppm150', 'ppt150x3+normal', 'prabu', 'pract', 'practicum', 'practising', 'praises', 'prakasam', 'prakasamanu', 'prakesh', 'prasad', 'prasanth', 'praveesh', 'prayrs', 'pre', 'pre-book', 'predict', 'predicte', 'predicting', 'prediction', 'predictive', 'preferably', 'premarica', 'prepayment', 'presents', 'president', 'presleys', 'presnts', 'pressies', 'pressure', 'prestige', 'pretend', 'pretsorginta', 'pretsovru', 'previews', 'previously', 'pride', 'priest', 'prin', 'princes', 'printed', 'printer', 'printing', 'prior', 'priority', 'prix', 'prizeawaiting', 'prizeswith', 'pro', 'problem-free', 'problematic', 'problum', 'prods', 'products', 'professional', 'professors', 'profile', 'profiles', 'progress', 'projects', 'prometazine', 'prominent', 'promotion', 'promptly', 'proove', 'proper', 'props', 'propsd', 'proverb', 'provided', 'provider', 'province', 'proze', 'ps3', 'psp', 'psychiatrist', 'psychic', 'psychologist', 'pt2', 'pthis', 'publish', 'pubs', 'pudunga', 'pulling', 'pulls', 'pump', 'punch', 'punish', 'punishment', 'punto', 'pura', 'purchases', 'pure', 'purity', 'purple', 'purse', 'push', 'pushbutton', 'pushes', 'puttin', 'puzzeles', 'puzzles', 'px3748', 'qet', 'qing', 'qlynnbv', 'quarter', 'que', 'queries', 'questioned', 'quiet', 'quiteamuzing', 'quizclub', 'quizzes', 'r836', 'racal', 'radiator', 'raed', 'rael', 'raglan', 'raiden', 'raised', 'raj', 'rajas', 'raji', 'rajini', 'rajitha', 'raksha', 'ralphs', 'ramen', 'ran', 'randomlly', 'ranju', 'raping', 'ratio', 'rats', 'rayan', 'rcb', 'rcd', 'rct', 'rdy', 're-met', 're-send', 're-sub', 'reaction', 'readers', 'readiness', 'real1', 'rearrange', 'reasonable', 'reassuring', 'rebel', 'recd@thirtyeight', 'receipts', 'receipts\\x89ûówell', 'reception', 'recharge', 'recharged', 'recieve', 'recognises', 'recorded', 'recorder', 'recount', 'recovery', 'recpt', 'redeemable', 'reduce', 'ree', 'references', 'referin', 'reffering', 'reflex', 'reformat', 'refreshed', 'refund', 'refunded', 'regalportfolio', 'registration', 'regretted', 'rejected', 'related', 'relationship', 'relaxing', 'reliant', 'relieved', 'religiously', 'relocate', 'reltnship', 'remembrs', 'reminded', 'reminder', 'reminding', 'remixed', 'removal', 'rencontre', 'renting', 'rents', 'repairs', 'repeat', 'repent', 'replace', 'reply-', 'reppurcussions', 'require', 'required', 'requirements', 'resend', 'resent', 'reservations', 'reserve', 'reserved', 'reset', 'residency', 'resizing', 'reslove', 'respectful', 'responce', 'responding', 'responsibilities', 'responsibility', 'restock', 'restocked', 'restrict', 'restrictions', 'resubbing', 'resubmit', 'retard', 'returning', 'returns', 'reunion', 'revealing', 'reverse', 'rewarding', 'rg21', 'rgent', 'rice', 'ridden', 'rightio', 'rightly', 'riley', 'rimac', 'ringing', 'rings', 'ringtone-get', 'ringtoneking', 'ringtoneåá', 'rinu', 'rip', 'ripped', 'risk', 'risks', 'river', 'rob', 'rocking', 'rocks', 'rodds1', 'rolled', 'ros', 'roses', 'rough', 'rounder', 'rounds', 'route', 'rowdy', 'rows', 'rp176781', 'rpl', 'rr', 'rstm', 'rt-king', 'rtf', 'rtm', 'rto', 'rubber', 'rudi', 'rules', 'rum', 'rumbling', 'rummer', 'rupaul', 'rushing', 'rv', 'rvx', 'rwm', 's*', 's89', 'sabarish', 'sack', 'sacked', 'safely', 'safety', 'sagamu', 'saibaba', 'salad', 'sales', 'salesman', 'salmon', 'salt', 'samachara', 'sambar', 'sandiago', 'sane', 'sang', 'santacalling', 'sara', 'sarasota', 'saristar', 'sashimi', 'satanic', 'sathy', 'satsgettin', 'savings', 'say/ask', 'sayin', 'sayy', 'sc', 'scallies', 'scarcasim', 'scenario', 'scenery', 'scorable', 'scoring', 'scotch', 'scotsman', 'scraped', 'scratches', 'screen', 'screwd', 'scrumptious', 'sculpture', 'sd', 'sday', 'seat', 'second-', 'secondary', 'secretly', 'secrets', 'section', 'sections', 'secured', 'seeds', 'seekers', 'seeking', 'seh', 'sehwag', 'seing', 'selflessness', 'semi', 'semiobscure', 'senor', 'senrd-dnot', 'senses', 'sensible', 'sentence', 'sentiment', 'seperated', 'september', 'serena', 'served', 'server', 'settling', 'seventeen', 'several', 'sextextuk', 'sexual', 'sexychat', 'sf', 'sg/~phyhcmk/teaching/pc1323', 'sh', 'shade', 'shadow', 'shag', 'shakara', 'shaking', 'shampain', 'shangela', 'shanghai', 'shant', 'shared', 'sharing', 'shattered', 'shaved', 'shb', 'sheet', 'sheffield', 'shell', 'shelves', 'sherawat', 'shes', 'shifad', 'shijas', 'shinco', 'shindig', 'shining', 'shiny', 'shipped', 'shirts', 'shite', 'shitin', 'shitinnit\\\\', 'shitload', 'shitstorm', 'shldxxxx', 'shock', 'shocking', 'shola', 'shop--the', 'shoranur', 'shore', 'shortage', 'shortbreaks', 'shortcode', 'shorts', 'shoul', 'shouted', 'shouting', 'shove', 'shoving', 'showered', 'showers', 'showr', 'shrek', 'shrink', 'shrub', 'shsex', 'shud', 'si', 'sian', 'sigh*', 'signal', 'significance', 'significant', 'signin', 'signing', 'siguviri', 'silly', 'silver', 'simonwatson5120', 'simpler', 'simpsons', 'simulate', 'sinco', 'sindu', 'singapore', 'sirji', 'sisters', 'sitll', 'sitter', 'sittin', 'situations', 'sized', 'skateboarding', 'skills', 'skinny', 'skins', 'skint', 'skye', 'slaaaaave', 'slacking', 'sleepingwith', 'sleeps', 'sleepwell&amp', 'sliding', 'slippery', 'slob-', 'slots', 'slovely', 'slower', 'slowing', 'slp', 'smart', 'smartcall', 'smarter', 'smash', 'smashed', 'smear', 'smell', 'smells', 'smeone', 'smidgin', 'smiled', 'smiles', 'smiley', 'smith', 'smith-switch', 'smoked', 'smokin', 'smoothly', 'sms-08718727870', 'smsing', 'smsservices', 'snap', 'snatch', 'sneham\\\\', 'snickering', 'snoring', 'snot', 'snowball', 'snowboarding', 'soc', 'sochte', 'soil', 'soiree', 'soladha', 'sold', 'solihull', 'solved', 'someday', 'someplace', 'somerset', 'sometext', 'sometme', 'somewheresomeone', 'somewhr', 'somone', 'sonathaya', 'sonetimes', 'sooo', 'soooo', 'sooooo', 'sophas', 'sorrow', 'sorrows', 'sorry-i', 'sorta', 'sorts', 'sory', 'soryda', 'sos', 'soul', 'soundtrack', 'soundåõs', 'source', 'soz', 'sozi', 'spaces', 'spageddies', 'spain', 'spam', 'spares', 'sparkling', 'speciale', 'specialisation', 'specialise', 'specify', 'specs', 'speeding', 'speling', 'spelled', 'spelling', 'sphosting', 'spice', 'spider', 'spider-man', 'spiffing', 'spin', 'spinout', 'spirit', 'spiritual', 'spjanuary', 'splat', 'splendid', 'split', 'splleing', 'spoil', 'spoilt', 'sponsors', 'spontaneously', 'spoon', 'sporadically', 'sportsx', 'spose', 'spot', 'spotty', 'spouse', 'spring', 'sprint', 'spun-out', 'spys', 'sq825', 'squatting', 'squeeeeeze', 'squeezed', 'squid', 'squishy', 'srs', 'srsly', 'srt', 'stability', 'stable', 'stadium', 'stage', 'stagwood', 'stairs', 'stalk', 'stalking', 'stands', 'stapati', 'star', 'starer', 'staring', 'starring', 'starshine', 'starve', 'starving', 'starwars3', 'statements', 'stayin', 'stdtxtrate', 'steak', 'steal', 'stealing', 'steam', 'steamboat', 'steed', 'steering', 'stereo', 'stereophonics', 'sterling', 'steve', 'steyn', 'sth', 'sticky', 'stifled', 'stil', 'stink', 'stitch', 'stocked', 'stoners', 'stool', 'stop2', 'stop2stop', 'stop\\\\', 'stopbcm', 'stopcost', 'stopcs', 'stoptxtstopå£1', 'stories', 'storming', 'str', 'str*', 'str8', 'strain', 'stream', 'stressed', 'stressfull', 'strewn', 'strict', 'strike', 'strings', 'strip', 'strips', 'strokes', 'strong-buy', 'strongly', 'strt', 'strtd', 'struggling', 'stu', 'stubborn', 'studdying', 'studentfinancial', 'studies', 'studio', 'studyn', 'stuff--why', 'stuff42moro', 'stuffed', 'stuffs', 'stunning', 'styling', 'stylist', 'submitted', 'submitting', 'subs16+1win150ppmx3', 'subscribe', 'subscribers', 'subscriptions', 'subscriptn3gbp/wk', 'subsequent', 'subtoitles', 'success', 'successful', 'successfully', 'sucker', 'suckers', 'sudden', 'suffer', 'suffering', 'sugababes', 'suganya', 'sugardad', 'suggestion', 'suitemates', 'sullivan', 'sum', 'summon', 'sundayish', 'sunoco', 'sunscreen', 'superior', 'suply', 'supose', 'supplies', 'supports', 'supreme', 'suprman', 'surf', 'surgical', 'surly', 'surname', 'surrender', 'survey', 'sutra', 'sux', 'svc', 'sw7', 'sw73ss', 'swan', 'swann', 'swap', 'swashbuckling', 'swat', 'swayze', 'sweater', 'sweatter', 'swell', 'swhrt', 'swimsuit', 'switch', 'swoop', 'swtheart', 'syd', 'sympathetic', 'synced', 'syria', 'syrup', 't&csbcm4235wc1n3xx', 't&csc', 't-ruthful', 't-shirt', 't91', 'tablet', 'tackle', 'tactful', 'tactless', 'tag', 'tagged', 'tahan', 'tai', 'tait', 'taj', 'taka', 'takecare', 'talents', 'talkbut', 'talked', 'talkin', 'tall', 'tallahassee', 'tamilnadu', 'tarot', 'taste', 'tasts', 'tata', 'tats', 'tattoos', 'tau', 'taught', 'taxes', 'taxless', 'tayseer', 'tbs/persolvo', 'tc-llc', 'tddnewsletter@emc1', 'tea/coffee', 'teams', 'tears', 'teenager', 'teju', 'telediscount', 'teletext', 'telphone', 'temper', 'temple', 'tensed', 'teresa', 'terrific', 'terror', 'terry\\\\', 'tessy', 'tex', 'texd', 'text82228>>', 'textand', 'textbook', 'textin', 'tgxxrz', 'thandiyachu', 'thanku', 'thankyou', 'thasa', 'that2worzels', 'thatmum', 'thatåõscool', 'theacusations', 'theater', 'thedailydraw', 'theirs', 'themed', 'themes', 'themob>', 'themob>hit', 'themob>yo', 'thenampet', 'theoretically', 'theplace', 'there--', 'thesedays', 'thew/end', 'thia', 'thin', 'thinked', 'thinl', 'thirunelvali', 'thkin', 'thnq', 'thnx', 'tho-', 'thou', 'thout', 'threats', 'threw', 'throwin', 'throwing', 'thrown', 'throws', 'ths', 'thuglyfe', 'thy', 'tiempo', 'tiger', 'tightly', 'tigress', 'tiime', 'tim', 'time-hope', 'timi', 'timin', 'timings', 'tip', 'tips', 'tiring', 'tirunelvai', 'tissco', 'title', 'titles', 'tiwary', 'tix', 'tiz', 'tke', 'tkls', 'tlk', 'tming', 'tmorow', 'tmorrow', 'tmw', 'toaday', 'tobacco', 'tobed', 'tocall', 'today-sunday', 'todo', 'tok', 'toking', 'tol', 'toledo', 'tomeandsaid', 'tomorro', 'tomorrow/today', 'tones2u', 'tones2you', 'tongued', 'tonights', 'tookplace', 'tooo', 'toothpaste', 'tootsie', 'topped', 'toppoly', 'tops', 'tor', 'torrents', 'tortilla', 'torture', 'tosend', 'totes', 'toxic', 'toyota', 'trackmarque', 'trained', 'trainners', 'tranquility', 'transcribing', 'transferred', 'transfred', 'trash', 'traveling', 'travelled', 'treasure', 'treats', 'trebles', 'trek', 'trial', 'triple', 'trips', 'trishul', 'triumphed', 'tron', 'troubleshooting', 'trouser', 'truble', 'truck', 'truro', 'trusting', 'tryin', 'tsandcs', 'tscs08714740323', 'tsunami', 'tue', 'tui', 'tul', 'tunde', 'tune', 'tunji', 'turkeys', 'turned', 'tv/', 'twat', 'twelve', 'twenty', 'twiggs', 'twinks', 'twins', 'twittering', 'txt-2-shop', 'txt250', 'txt82228', 'txt>', 'txtno', 'txtx', 'txt~journey', 'types', 'typical', 'u4', 'u\\\\', 'uawake', 'ubandu', 'ugo', 'uin', 'ujhhhhhhh', 'uk-mobile-date', 'uk/games', 'uk/ow', 'uk/reward', 'uk/text', 'uk/wave/wave', 'uk/wrc', 'uk\\\\', 'ultimate', 'ultimately', 'um', 'ummifying', 'un', 'unbelievable', 'unbreakable', 'unclaimed', 'uncomfortable', 'unconditionally', 'unconsciously', 'unconvinced', 'uncountable', 'underdtand', 'underwear', 'undrstnd', 'undrstndng', 'uneventful', 'unfolds', 'unfortuntly', 'unhappy', 'unicef', 'unintentional', 'unintentionally', 'unique&i', 'united', 'units', 'univ', 'university', 'unkempt', 'unknown', 'unlike', 'unmits', 'unnecessarily', 'unni', 'unrecognized', 'unsecured', 'unsubscribed', 'untamed', 'unusual', 'upcharge', 'updat', 'update_now', 'upgrdcentre', 'uploaded', 'upon', 'upping', 'ups', 'upset--it', 'upstairs', 'uptown', 'urgently', 'urgh', 'urgoin', 'urination', 'url', 'urmom', 'useless', 'uses', 'usher', 'usmle', 'usps', 'uterus', 'uttered', 'uup', 'uv', 'uve', 'u\\x89ûªve', 'v-aluable', 'vaazhthukkal', 'vague', 'valuing', 'varaya', 'vargu', 'various', 'varunnathu', 'vasai', 'vat', 'vatian', 'vco', 'vday', 'vegetables', 'veggie', 'velachery', 'velly', 'velusamy', 'venaam', 'venugopal', 'verifying', 'versus', 'vettam', 'vibrant', 'vibrate', 'victoria', 'victors', 'video/pic', 'videos', 'view', 'vijaykanth', 'vill', 'villa', 'vinobanagar', 'virgil', 'virgin', 'virgins', 'visa', 'visitors', 'vital', 'vitamin', 'viva', 'vivek', 'voila', 'vomitin', 'vomiting', 'vouch4me', 'vu', 'w/question', 'w14rg', 'w1a', 'w1t1jy', 'w4', 'w8in', 'wa', 'wa14', 'waaaat', 'wad', 'wadebridge', 'wahala', 'waheed', 'waheeda', 'waht', 'waliking', 'walkabout', 'walkin', 'walks', 'wall', 'wallet', 'wallpaper-all', 'walsall', 'wan2', 'wannatell', 'want2come', 'waqt', 'warming', 'warned', 'warning', 'warwick', 'washob', 'wasnt', 'wasn\\x89û÷t', 'wasnåõt', 'wasted', 'watched', 'watches', 'watchin', 'watchng', 'watever', 'watevr', 'wating', 'watts', 'wavering', 'way&this', 'way2sms', 'waz', 'wc1n', 'weaknesses', 'weapon', 'weaseling', 'weasels', 'web2mobile', 'webadres', 'webeburnin', 'webpage', 'weddin', 'weddingfriend', 'weds', 'weed-deficient', 'week+', 'week-stop', 'weekdays', 'weeks>', 'weigh', 'weighed', 'weirdo', 'weirdy', 'weiyi', 'wellda', 'wendy', 'wenwecan', 'were/are', 'werebored', 'weren', 'werethe', 'wesley', 'wesleys', 'western', 'westlife', 'westonzoyland', 'westshore', 'wetherspoons', 'wewa', 'we\\x89û÷ll', 'weåõve', 'whassup', 'whatsup', 'what\\x89û÷s', 'wheat', 'wheel', 'when/where', 'whens', 'wherevr', 'wherre', 'whether', 'whilltake', 'whore', 'whose', 'whr', 'wicket', 'wifes', 'wihtuot', 'wikipedia', 'wild', 'wildest', 'wildlife', 'willpower', 'win150ppmx3age16', 'wind', 'windows', 'winds', 'wings', 'wining', 'winterstone', 'wire3', 'wisdom', 'wisheds', 'wishin', 'wishlist', 'wiskey', 'withdraw', 'wither', 'witin', 'witout', 'wizzle', 'wlcome', 'wn', 'wnevr', 'wocay', 'womdarfull', 'wondarfull', 'wonders', 'woodland', 'woods', 'woohoo', 'woould', 'woozles', 'worc', 'workage', 'workand', 'workout', 'worlds', 'worms', 'worrying', 'worthless', 'wotu', 'wotz', 'woul', 'woulda', 'wounds', 'wrc', 'wrenching', 'wright', 'writhing', 'wrkin', 'wrking', 'wrks', 'wrld', 'wrnog', 'wrote', 'ws', 'wt', 'wtc', 'wth', 'wthout', 'wtlp', 'wuld', 'wuldnt', 'x2', 'x29', 'xafter', 'xam', 'xclusive@clubsaisai', 'xt', 'xxsp', 'xxuk', 'xxxxxx', 'xxxxxxx\\\\', 'xxxxxxxx', 'y87', 'yah', 'yalrigu', 'yalru', 'yards', 'yavnt', 'yaxx', 'yaxxx', 'yeesh', 'yelling', 'yellow', 'yelow', 'yen', 'yeovil', 'yes-434', 'yes-762', 'yes-910', 'yetty', 'yi', 'yifeng', 'yijue@hotmail', 'ymca', 'yo-here', 'yorge', 'you/carlos', 'youdoing', 'youi', 'young', 'youphone', 'youre', 'yourinclusive', 'youuuuu', 'youwanna', 'you\\x89û÷ll', 'youåõre', 'yoville', 'yowifes', 'yoyyooo', 'ystrday', 'ything', 'yuou', 'z', 'zac', 'zaher', 'zealand', 'zebra', 'zeros', 'zhong', 'zoom', 'zouk', 'zyada', '~', '\\x89û_thanks', '\\x89ûï', '\\x8bû¬ud', '\\x8eö´\\x89ó_', 'å£1/minmobsmorelkpobox177hp51fl', 'å£1000call', 'å£12', 'å£125', 'å£1250', 'å£1million', 'å£250k', 'å£33', 'å£48', 'å£5/month', 'å£50', 'å£50-å£500', 'å£54', 'å£6', 'å£600', 'å£71', 'å£75', 'å£750', 'å£79', 'åè10', 'åòharry', 'åòit', 'åômorrow', 'åôrents', 'ì¬n']\n"
     ]
    }
   ],
   "source": [
    "print(vocab.get_itos())"
   ]
  },
  {
   "cell_type": "markdown",
   "id": "5b7577a5",
   "metadata": {},
   "source": [
    "무수히 많은 단어가 출력되므로 출력 결과는 중간에 생략했습니다. \n",
    "- 위에서 부여된 각 정수는 각 단어의 빈도수가 높을 수록 낮은 정수가 부여됩니다. \n",
    "- 다시 말해, 단어 .는 현재 전체 훈련 데이터에서 빈도수가 가장 높은 단어입니다."
   ]
  },
  {
   "cell_type": "markdown",
   "id": "73112494",
   "metadata": {},
   "source": [
    "등장 빈도가 지나치게 낮은 단어들은 자연어 처리에서 제외하고 싶다면 Vocab 생성 시에 단어 집합의 크기를 제한할 수 있습니다.  \n",
    "- 가령, 아래의 코드로 등장 빈도가 1회인 단어들을 제외할 수 있을 겁니다.\n",
    "\n",
    "```python\n",
    "build_vocab_from_iterator(min_fred=2)\n",
    "```"
   ]
  },
  {
   "cell_type": "markdown",
   "id": "5b629f8f",
   "metadata": {},
   "source": [
    "하지만 이번 실습에서는 별도로 단어 집합의 크기를 제한하진 않겠습니다.  \n",
    "- 단어 집합의 크기를 vocab_size에 저장하겠습니다. "
   ]
  },
  {
   "cell_type": "code",
   "execution_count": 22,
   "id": "c2c8f753",
   "metadata": {},
   "outputs": [
    {
     "name": "stdout",
     "output_type": "stream",
     "text": [
      "단어 집합의 크기: 8048\n"
     ]
    }
   ],
   "source": [
    "vocab_size = len(word_to_index) + 1\n",
    "print('단어 집합의 크기: {}'.format((vocab_size)))"
   ]
  },
  {
   "cell_type": "markdown",
   "id": "fb0481a7",
   "metadata": {},
   "source": [
    "단어 집합의 크기는 8,048입니다. \n",
    "\n",
    "전체 데이터에서 가장 길이가 긴 메일과 전체 메일 데이터의 길이 분포를 확인합니다."
   ]
  },
  {
   "cell_type": "code",
   "execution_count": 23,
   "id": "a97f2cab",
   "metadata": {},
   "outputs": [
    {
     "name": "stdout",
     "output_type": "stream",
     "text": [
      "메일의 최대 길이 : 212\n",
      "메일의 평균 길이 : 19.282467\n"
     ]
    },
    {
     "data": {
      "image/png": "[encoded data removed]",
      "text/plain": [
       "<Figure size 432x288 with 1 Axes>"
      ]
     },
     "metadata": {
      "needs_background": "light"
     },
     "output_type": "display_data"
    }
   ],
   "source": [
    "print('메일의 최대 길이 : %d' % max(len(sample) for sample in X_train_encoded))\n",
    "print('메일의 평균 길이 : %f' % (sum(map(len, X_train_encoded))/len(X_train_encoded)))\n",
    "plt.hist([len(sample) for sample in X_data], bins=50)\n",
    "plt.xlabel('length of samples')\n",
    "plt.ylabel('number of samples')\n",
    "plt.show()"
   ]
  },
  {
   "cell_type": "markdown",
   "id": "b4fb5629",
   "metadata": {},
   "source": [
    "가장 긴 메일의 길이는 212이며, 전체 데이터의 길이 분포는 대체적으로 약 50이하의 길이를 가집니다."
   ]
  },
  {
   "cell_type": "code",
   "execution_count": 24,
   "id": "0e906f3b",
   "metadata": {},
   "outputs": [],
   "source": [
    "from torch.nn.utils.rnn import pad_sequence"
   ]
  },
  {
   "cell_type": "code",
   "execution_count": 25,
   "id": "16711515",
   "metadata": {},
   "outputs": [
    {
     "name": "stdout",
     "output_type": "stream",
     "text": [
      "훈련 데이터의 크기(shape): torch.Size([4135, 212])\n"
     ]
    }
   ],
   "source": [
    "X_train_padded = pad_sequence(X_train_encoded, batch_first=True, padding_value=vocab(['<pad>'])[0])\n",
    "print(\"훈련 데이터의 크기(shape):\", X_train_padded.shape)"
   ]
  },
  {
   "cell_type": "markdown",
   "id": "8915fe1a",
   "metadata": {},
   "source": [
    "pad_sequence는 4,135개의 X_train_encoded의 길이를 전부 212로 바꿉니다. \n",
    "- 212보다 길이가 짧은 메일 샘플은 전부 숫자 1이 패딩되어 212의 길이를 가집니다.\n",
    "- X_train_encoded 데이터는 4,135 × 212의 크기를 갖게 됩니다. "
   ]
  },
  {
   "cell_type": "markdown",
   "id": "76730f31",
   "metadata": {},
   "source": [
    "## 2. 데이터로더 생성"
   ]
  },
  {
   "cell_type": "code",
   "execution_count": 26,
   "id": "1c90ff25",
   "metadata": {},
   "outputs": [],
   "source": [
    "from torch.utils.data import Dataset, DataLoader\n",
    "from torchtext.data.functional import to_map_style_dataset\n",
    "\n",
    "device = torch.device(\"cuda\" if torch.cuda.is_available() else \"cpu\")"
   ]
  },
  {
   "cell_type": "code",
   "execution_count": 27,
   "id": "bf8141b2",
   "metadata": {},
   "outputs": [],
   "source": [
    "class MyDataset(Dataset):\n",
    "    def __init__(self, X_data, y_data):\n",
    "        self.X_data = X_data\n",
    "        self.y_data = y_data\n",
    "        \n",
    "    def __len__(self):\n",
    "        assert len(self.X_data) == len(self.y_data)\n",
    "        return len(self.X_data)\n",
    "    \n",
    "    def __getitem__(self, idx):\n",
    "        x = self.X_data[idx]\n",
    "        y = self.y_data[idx]\n",
    "        return x, y"
   ]
  },
  {
   "cell_type": "code",
   "execution_count": 28,
   "id": "fb5c4df4",
   "metadata": {},
   "outputs": [],
   "source": [
    "def collate_batch(batch):\n",
    "    text_list, label_list = list(zip(*batch))\n",
    "    text_list = torch.stack(text_list)\n",
    "    label_list = torch.tensor(label_list, dtype=torch.int64)\n",
    "\n",
    "    return text_list.to(device), label_list.to(device)"
   ]
  },
  {
   "cell_type": "markdown",
   "id": "29ecb331",
   "metadata": {},
   "source": [
    "하이퍼파라미터인 배치 크기는 32이다. "
   ]
  },
  {
   "cell_type": "code",
   "execution_count": 29,
   "id": "9a90e9f0",
   "metadata": {},
   "outputs": [],
   "source": [
    "BATCH_SIZE = 64 # batch size for training\n",
    "train_dataset = MyDataset(X_train_padded, y_train.values)\n",
    "dataloader = DataLoader(train_dataset, batch_size=BATCH_SIZE, shuffle=False, collate_fn=collate_batch)"
   ]
  },
  {
   "cell_type": "markdown",
   "id": "bf99ee36",
   "metadata": {},
   "source": [
    "모델을 설계해보겠습니다."
   ]
  },
  {
   "cell_type": "markdown",
   "id": "8cee9bed",
   "metadata": {},
   "source": [
    "## 3. RNN으로 스팸 메일 분류하기"
   ]
  },
  {
   "cell_type": "markdown",
   "id": "0f6fa5fa",
   "metadata": {},
   "source": [
    "하이퍼파라미터인 임베딩 벡터의 차원은 32, 은닉 상태의 크기는 32입니다.  \n",
    "\n",
    "모델은 다 대 일 구조의 RNN을 사용합니다. \n",
    "- 해당 모델은 마지막 시점에서 두 개의 선택지 중 하나를 예측하는 이진 분류 문제를 수행하는 모델입니다. "
   ]
  },
  {
   "cell_type": "code",
   "execution_count": 30,
   "id": "e3c012f8",
   "metadata": {},
   "outputs": [],
   "source": [
    "import torch.nn as nn\n",
    "from torch.optim import SGD, Adam"
   ]
  },
  {
   "cell_type": "code",
   "execution_count": 31,
   "id": "2b78575d",
   "metadata": {},
   "outputs": [],
   "source": [
    "class SimpleRNN(nn.Module):\n",
    "    def __init__(self, vocab_size, embedding_size, hidden_size):\n",
    "        super(SimpleRNN, self).__init__()\n",
    "        self.embedding = nn.Embedding(vocab_size, embedding_size, padding_idx=vocab(['<pad>'])[0])\n",
    "        self.rnn = nn.RNN(embedding_size, hidden_size, batch_first=True)\n",
    "        self.linear = nn.Linear(hidden_size, 2)\n",
    "        \n",
    "    def forward(self, x):\n",
    "        out = self.embedding(x)\n",
    "        out, h = self.rnn(out)\n",
    "        out = self.linear(h)\n",
    "        return out"
   ]
  },
  {
   "cell_type": "code",
   "execution_count": 32,
   "id": "82678d09",
   "metadata": {},
   "outputs": [],
   "source": [
    "model = SimpleRNN(vocab_size, 32, 32)\n",
    "optimizer = Adam(model.parameters(), lr=0.005)\n",
    "criterion = nn.CrossEntropyLoss()"
   ]
  },
  {
   "cell_type": "markdown",
   "id": "ceca7dda",
   "metadata": {},
   "source": [
    "10 에폭만큼 학습을 수행한다."
   ]
  },
  {
   "cell_type": "code",
   "execution_count": 33,
   "id": "3d84a18a",
   "metadata": {
    "scrolled": true
   },
   "outputs": [
    {
     "name": "stdout",
     "output_type": "stream",
     "text": [
      "| epoch   1 |    10/   65 batches | accuracy    0.884\n",
      "| epoch   1 |    20/   65 batches | accuracy    0.870\n",
      "| epoch   1 |    30/   65 batches | accuracy    0.878\n",
      "| epoch   1 |    40/   65 batches | accuracy    0.855\n",
      "| epoch   1 |    50/   65 batches | accuracy    0.878\n",
      "| epoch   1 |    60/   65 batches | accuracy    0.880\n",
      "-----------------------------------------------------------\n",
      "| end of epoch   1 | time:  3.58s\n",
      "-----------------------------------------------------------\n",
      "| epoch   2 |    10/   65 batches | accuracy    0.879\n",
      "| epoch   2 |    20/   65 batches | accuracy    0.870\n",
      "| epoch   2 |    30/   65 batches | accuracy    0.878\n",
      "| epoch   2 |    40/   65 batches | accuracy    0.855\n",
      "| epoch   2 |    50/   65 batches | accuracy    0.878\n",
      "| epoch   2 |    60/   65 batches | accuracy    0.880\n",
      "-----------------------------------------------------------\n",
      "| end of epoch   2 | time:  2.86s\n",
      "-----------------------------------------------------------\n",
      "| epoch   3 |    10/   65 batches | accuracy    0.879\n",
      "| epoch   3 |    20/   65 batches | accuracy    0.870\n",
      "| epoch   3 |    30/   65 batches | accuracy    0.878\n",
      "| epoch   3 |    40/   65 batches | accuracy    0.855\n",
      "| epoch   3 |    50/   65 batches | accuracy    0.878\n",
      "| epoch   3 |    60/   65 batches | accuracy    0.880\n",
      "-----------------------------------------------------------\n",
      "| end of epoch   3 | time:  3.04s\n",
      "-----------------------------------------------------------\n",
      "| epoch   4 |    10/   65 batches | accuracy    0.879\n",
      "| epoch   4 |    20/   65 batches | accuracy    0.870\n",
      "| epoch   4 |    30/   65 batches | accuracy    0.878\n",
      "| epoch   4 |    40/   65 batches | accuracy    0.855\n",
      "| epoch   4 |    50/   65 batches | accuracy    0.878\n",
      "| epoch   4 |    60/   65 batches | accuracy    0.880\n",
      "-----------------------------------------------------------\n",
      "| end of epoch   4 | time:  3.12s\n",
      "-----------------------------------------------------------\n",
      "| epoch   5 |    10/   65 batches | accuracy    0.879\n",
      "| epoch   5 |    20/   65 batches | accuracy    0.870\n",
      "| epoch   5 |    30/   65 batches | accuracy    0.878\n",
      "| epoch   5 |    40/   65 batches | accuracy    0.855\n",
      "| epoch   5 |    50/   65 batches | accuracy    0.878\n",
      "| epoch   5 |    60/   65 batches | accuracy    0.880\n",
      "-----------------------------------------------------------\n",
      "| end of epoch   5 | time:  2.92s\n",
      "-----------------------------------------------------------\n",
      "| epoch   6 |    10/   65 batches | accuracy    0.879\n",
      "| epoch   6 |    20/   65 batches | accuracy    0.870\n",
      "| epoch   6 |    30/   65 batches | accuracy    0.878\n",
      "| epoch   6 |    40/   65 batches | accuracy    0.855\n",
      "| epoch   6 |    50/   65 batches | accuracy    0.878\n",
      "| epoch   6 |    60/   65 batches | accuracy    0.880\n",
      "-----------------------------------------------------------\n",
      "| end of epoch   6 | time:  2.93s\n",
      "-----------------------------------------------------------\n",
      "| epoch   7 |    10/   65 batches | accuracy    0.879\n",
      "| epoch   7 |    20/   65 batches | accuracy    0.870\n",
      "| epoch   7 |    30/   65 batches | accuracy    0.878\n",
      "| epoch   7 |    40/   65 batches | accuracy    0.855\n",
      "| epoch   7 |    50/   65 batches | accuracy    0.878\n",
      "| epoch   7 |    60/   65 batches | accuracy    0.880\n",
      "-----------------------------------------------------------\n",
      "| end of epoch   7 | time:  2.73s\n",
      "-----------------------------------------------------------\n",
      "| epoch   8 |    10/   65 batches | accuracy    0.879\n",
      "| epoch   8 |    20/   65 batches | accuracy    0.870\n",
      "| epoch   8 |    30/   65 batches | accuracy    0.878\n",
      "| epoch   8 |    40/   65 batches | accuracy    0.855\n",
      "| epoch   8 |    50/   65 batches | accuracy    0.878\n",
      "| epoch   8 |    60/   65 batches | accuracy    0.880\n",
      "-----------------------------------------------------------\n",
      "| end of epoch   8 | time:  2.83s\n",
      "-----------------------------------------------------------\n",
      "| epoch   9 |    10/   65 batches | accuracy    0.879\n",
      "| epoch   9 |    20/   65 batches | accuracy    0.870\n",
      "| epoch   9 |    30/   65 batches | accuracy    0.878\n",
      "| epoch   9 |    40/   65 batches | accuracy    0.855\n",
      "| epoch   9 |    50/   65 batches | accuracy    0.878\n",
      "| epoch   9 |    60/   65 batches | accuracy    0.880\n",
      "-----------------------------------------------------------\n",
      "| end of epoch   9 | time:  2.75s\n",
      "-----------------------------------------------------------\n",
      "| epoch  10 |    10/   65 batches | accuracy    0.879\n",
      "| epoch  10 |    20/   65 batches | accuracy    0.870\n",
      "| epoch  10 |    30/   65 batches | accuracy    0.878\n",
      "| epoch  10 |    40/   65 batches | accuracy    0.855\n",
      "| epoch  10 |    50/   65 batches | accuracy    0.878\n",
      "| epoch  10 |    60/   65 batches | accuracy    0.880\n",
      "-----------------------------------------------------------\n",
      "| end of epoch  10 | time:  2.77s\n",
      "-----------------------------------------------------------\n"
     ]
    }
   ],
   "source": [
    "import time\n",
    "\n",
    "EPOCHS = 10 # epoch\n",
    "\n",
    "model.train()\n",
    "total_acc, total_count = 0, 0\n",
    "log_interval = 10\n",
    "start_time = time.time()\n",
    "\n",
    "for epoch in range(1, EPOCHS + 1):\n",
    "    epoch_start_time = time.time()\n",
    "    \n",
    "    for idx, (text, label) in enumerate(dataloader):\n",
    "        predicted_label = model(text)[0]\n",
    "        optimizer.zero_grad()\n",
    "        loss = criterion(predicted_label, label)\n",
    "        loss.backward()\n",
    "        optimizer.step()\n",
    "        \n",
    "        total_acc += (predicted_label.argmax(1) == label).sum().item()\n",
    "        total_count += label.size(0)\n",
    "\n",
    "        if idx % log_interval == 0 and idx > 0:\n",
    "            elapsed = time.time() - start_time\n",
    "            print('| epoch {:3d} | {:5d}/{:5d} batches '\n",
    "                  '| accuracy {:8.3f}'.format(epoch, idx, len(dataloader),\n",
    "                                              total_acc/total_count))\n",
    "            total_acc, total_count = 0, 0\n",
    "            start_time = time.time()\n",
    "            \n",
    "    print('-' * 59)\n",
    "    print('| end of epoch {:3d} | time: {:5.2f}s'.format(epoch, time.time() - epoch_start_time))\n",
    "    print('-' * 59)"
   ]
  },
  {
   "cell_type": "markdown",
   "id": "1c2e2fb8",
   "metadata": {},
   "source": [
    "테스트 데이터에 대해서 정확도를 확인해보겠습니다."
   ]
  },
  {
   "cell_type": "code",
   "execution_count": 91,
   "id": "acbfaeb8",
   "metadata": {},
   "outputs": [],
   "source": [
    "X_test_encoded = [torch.LongTensor(text_pipeline(text)) for text in X_test]\n",
    "X_test_padded = pad_sequence(X_test_encoded, batch_first=True, padding_value=vocab(['<pad>'])[0])\n",
    "\n",
    "test_dataset = MyDataset(X_test_padded, y_test.values)\n",
    "test_dataloader = DataLoader(test_dataset, batch_size=2, shuffle=False, collate_fn=collate_batch)"
   ]
  },
  {
   "cell_type": "code",
   "execution_count": 98,
   "id": "591fbc85",
   "metadata": {},
   "outputs": [
    {
     "name": "stdout",
     "output_type": "stream",
     "text": [
      "test accuracy    0.869 \n"
     ]
    }
   ],
   "source": [
    "model.eval()\n",
    "total_acc, total_count = 0, 0\n",
    "\n",
    "with torch.no_grad():\n",
    "    for idx, (text, label) in enumerate(test_dataloader):\n",
    "        predicted_label = model(text)\n",
    "        loss = criterion(predicted_label[0], label)\n",
    "        total_acc += (predicted_label.argmax(1) == label).sum().item()\n",
    "        total_count += label.size(0)\n",
    "        \n",
    "accu_val = total_acc/total_count\n",
    "print('test accuracy {:8.3f} '.format(accu_val))"
   ]
  },
  {
   "cell_type": "markdown",
   "id": "4ed341a2",
   "metadata": {},
   "source": [
    "정확도가 86.9%가 나왔습니다. "
   ]
  },
  {
   "cell_type": "markdown",
   "id": "d184b306",
   "metadata": {},
   "source": [
    "## 4. 직접 입력하여 테스트"
   ]
  },
  {
   "cell_type": "code",
   "execution_count": 99,
   "id": "36140a8a",
   "metadata": {},
   "outputs": [
    {
     "name": "stdout",
     "output_type": "stream",
     "text": [
      "문장 입력 : We're not seeing any writing activity for you last week, so unless you were taking a writing break, you might have accidently logged out.\n",
      "------------------------------\n",
      "ham : 0.955 | spam : 0.0445\n",
      "------------------------------\n",
      "이 메일은 ham 메일입니다.\n",
      "------------------------------\n"
     ]
    }
   ],
   "source": [
    "text = input('문장 입력 : ')\n",
    "\n",
    "model.eval()\n",
    "with torch.no_grad():\n",
    "    tokens = text_pipeline(text)\n",
    "    _input = torch.LongTensor([tokens])\n",
    "    _output = model(_input).view(-1)\n",
    "    predicted_label = nn.Softmax(dim=0)(_output)\n",
    "    label = 'ham' if predicted_label[0] > predicted_label[1] else 'spam'\n",
    "    \n",
    "print('-'*30)\n",
    "print(f'ham : {predicted_label[0]:.3} | spam : {predicted_label[1]:.3}')\n",
    "print('-'*30)\n",
    "print(f'이 메일은 {label} 메일입니다.')\n",
    "print('-'*30)"
   ]
  },
  {
   "cell_type": "markdown",
   "id": "70e59418",
   "metadata": {},
   "source": [
    "# 잘못된 모델이 만들어졌다.\n",
    "\n",
    "해당 모델은 무조건 ham이라고 대답한다.\n",
    "- 내가 생각하기에 그 이유는 데이터의 편향 때문이다. \n",
    "- 데이터가 ham이 87%, spam이 12%의 비율로 존재한다.\n",
    "- 그렇기 때문에 이 모델이 무조건 ham이라고 답해도 87%의 정답률을 얻게 된다.\n",
    "- 이에 대한 수정이 필요하다."
   ]
  },
  {
   "cell_type": "code",
   "execution_count": null,
   "id": "20988243",
   "metadata": {},
   "outputs": [],
   "source": []
  }
 ],
 "metadata": {
  "kernelspec": {
   "display_name": "Python 3",
   "language": "python",
   "name": "python3"
  },
  "language_info": {
   "codemirror_mode": {
    "name": "ipython",
    "version": 3
   },
   "file_extension": ".py",
   "mimetype": "text/x-python",
   "name": "python",
   "nbconvert_exporter": "python",
   "pygments_lexer": "ipython3",
   "version": "3.8.8"
  }
 },
 "nbformat": 4,
 "nbformat_minor": 5
}
